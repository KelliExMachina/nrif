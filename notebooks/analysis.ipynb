{
 "cells": [
  {
   "cell_type": "code",
   "execution_count": 38,
   "metadata": {},
   "outputs": [
    {
     "name": "stdout",
     "output_type": "stream",
     "text": [
      "The autoreload extension is already loaded. To reload it, use:\n",
      "  %reload_ext autoreload\n"
     ]
    }
   ],
   "source": [
    "# Standard Libraries\n",
    "import pandas as pd\n",
    "import numpy as np\n",
    "import os\n",
    "import sys\n",
    "from datetime import date\n",
    "import shutil\n",
    "import requests\n",
    "from PIL import Image\n",
    "import pickle\n",
    "sys.path.insert(0, os.path.abspath('../src'))\n",
    "\n",
    "# Custom Libraries\n",
    "from file_proc import *\n",
    "#import database\n",
    "\n",
    "# Machine Learning\n",
    "import tensorflow as tf\n",
    "from sklearn.model_selection import train_test_split\n",
    "from sklearn import datasets, preprocessing, feature_extraction, linear_model, svm, metrics, ensemble, tree, ensemble\n",
    "from sklearn.metrics import log_loss, confusion_matrix\n",
    "from sklearn.linear_model import SGDClassifier\n",
    "from sklearn.calibration import CalibratedClassifierCV\n",
    "\n",
    "# Image Libraries\n",
    "import cv2\n",
    "from cv2 import imread, imshow, waitKey, destroyAllWindows, rectangle, CascadeClassifier\n",
    "\n",
    "# Neural Network Libraries\n",
    "import keras\n",
    "from keras.applications.vgg16 import VGG16\n",
    "from keras.preprocessing import image\n",
    "from keras.applications.vgg16 import preprocess_input\n",
    "from keras.models import Sequential\n",
    "from keras.layers import Dense, Conv2D, MaxPool2D , Flatten\n",
    "from keras.preprocessing.image import ImageDataGenerator\n",
    "\n",
    "# Database\n",
    "import psycopg2\n",
    "\n",
    "# Visualizations\n",
    "import seaborn as sns\n",
    "\n",
    "from matplotlib import pyplot as plt\n",
    "%matplotlib inline\n",
    "\n",
    "import warnings\n",
    "warnings.filterwarnings(\"ignore\")\n",
    "\n",
    "# import importlib\n",
    "# importlib.reload(some_module)\n",
    "%load_ext autoreload\n",
    "%autoreload 2\n",
    "%reload_ext autoreload"
   ]
  },
  {
   "cell_type": "code",
   "execution_count": 34,
   "metadata": {},
   "outputs": [],
   "source": []
  },
  {
   "cell_type": "code",
   "execution_count": 4,
   "metadata": {},
   "outputs": [
    {
     "name": "stdout",
     "output_type": "stream",
     "text": [
      "  % Total    % Received % Xferd  Average Speed   Time    Time     Time  Current\n",
      "                                 Dload  Upload   Total   Spent    Left  Speed\n",
      "100  908k  100  908k    0     0  1518k      0 --:--:-- --:--:-- --:--:-- 1521k\n",
      "  % Total    % Received % Xferd  Average Speed   Time    Time     Time  Current\n",
      "                                 Dload  Upload   Total   Spent    Left  Speed\n",
      "100  184k  100  184k    0     0   605k      0 --:--:-- --:--:-- --:--:--  603k\n",
      "  % Total    % Received % Xferd  Average Speed   Time    Time     Time  Current\n",
      "                                 Dload  Upload   Total   Spent    Left  Speed\n",
      "100  333k  100  333k    0     0   872k      0 --:--:-- --:--:-- --:--:--  872k\n",
      "  % Total    % Received % Xferd  Average Speed   Time    Time     Time  Current\n",
      "                                 Dload  Upload   Total   Spent    Left  Speed\n",
      "100  587k  100  587k    0     0  1502k      0 --:--:-- --:--:-- --:--:-- 1498k\n"
     ]
    }
   ],
   "source": [
    "# Get the classifier .xml files and save them in the src directory\n",
    "! curl -o ../src/haarcascade_frontalface_default.xml https://raw.githubusercontent.com/opencv/opencv/master/data/haarcascades/haarcascade_frontalface_default.xml\n",
    "! curl -o ../src/haarcascade_smile.xml https://raw.githubusercontent.com/opencv/opencv/master/data/haarcascades/haarcascade_smile.xml\n",
    "! curl -o ../src/haarcascade_eye.xml https://raw.githubusercontent.com/opencv/opencv/master/data/haarcascades/haarcascade_eye.xml\n",
    "! curl -o ../src/haarcascade_eye_tree_eyeglasses.xml https://raw.githubusercontent.com/opencv/opencv/master/data/haarcascades/haarcascade_eye_tree_eyeglasses.xml"
   ]
  },
  {
   "cell_type": "markdown",
   "metadata": {},
   "source": [
    "# Database"
   ]
  },
  {
   "cell_type": "code",
   "execution_count": 5,
   "metadata": {
    "jupyter": {
     "source_hidden": true
    }
   },
   "outputs": [],
   "source": [
    "def test_database(db='kennedy', user_id='postgres', passwd=''):\n",
    "    \n",
    "    con = None\n",
    "\n",
    "    try:\n",
    "    \n",
    "        con = psycopg2.connect(database=db, user=user_id,\n",
    "            password=passwd)\n",
    "\n",
    "        cur = con.cursor()\n",
    "        cur.execute('SELECT version()')\n",
    "        version = cur.fetchone()[0]\n",
    "        print(version)\n",
    "\n",
    "    except psycopg2.DatabaseError as e:\n",
    "\n",
    "        print('Error {}'.format(e))\n",
    "        sys.exit(1)\n",
    "\n",
    "    finally:\n",
    "\n",
    "        if con:\n",
    "            con.close()\n",
    "            \n",
    "    return"
   ]
  },
  {
   "cell_type": "code",
   "execution_count": 6,
   "metadata": {
    "jupyter": {
     "source_hidden": true
    }
   },
   "outputs": [],
   "source": [
    "def connect_database(db='kennedy', user_id='postgres', passwd=''):\n",
    "    \n",
    "    con = None\n",
    "\n",
    "    try:\n",
    "    \n",
    "        con = psycopg2.connect(database=db, user=user_id,\n",
    "            password=passwd)\n",
    "        cur = con.cursor()\n",
    "        \n",
    "    except psycopg2.DatabaseError as e:\n",
    "        \n",
    "        print('Error {}'.format(e))\n",
    "        sys.exit(1)\n",
    "        \n",
    "    return con, cur"
   ]
  },
  {
   "cell_type": "code",
   "execution_count": 7,
   "metadata": {
    "jupyter": {
     "source_hidden": true
    }
   },
   "outputs": [],
   "source": [
    "def close_database(con):\n",
    "    \n",
    "    if con:\n",
    "        con.commit()\n",
    "        con.close()\n",
    "        \n",
    "    return 1"
   ]
  },
  {
   "cell_type": "code",
   "execution_count": 8,
   "metadata": {
    "jupyter": {
     "source_hidden": true
    }
   },
   "outputs": [],
   "source": [
    "def create_database(con, cur):\n",
    "\n",
    "        with con:\n",
    "\n",
    "            cur.execute(\"DROP TABLE IF EXISTS images\")\n",
    "            cur.execute(\"CREATE TABLE images(id BIGINT DEFAULT 0 NOT NULL, file_name TEXT, dir_path TEXT, img_orig BYTEA, date DATE DEFAULT '1/1/1970' NOT NULL, face BOOLEAN DEFAULT 'False' NOT NULL, face_class INTEGER DEFAULT 0 NOT NULL)\") # img_proc BYTEA, \n",
    "            cur.execute(\"COMMENT ON COLUMN images.id IS E'This number will come from a counter programatically.'\")\n",
    "            cur.execute(\"COMMENT ON COLUMN images.dir_path IS E'directory path to original image.  This is so that you can trace back to the imported data for files with the same names in multiple directories.'\")\n",
    "            cur.execute(\"COMMENT ON COLUMN images.date IS E'date image was imported.'\")\n",
    "            cur.execute(\"COMMENT ON COLUMN images.face_class IS E'Classes based off _# in filename.  0,1,2,3,4,5. 0=no_class, 1=commecicomm,2=smile,3=shut,4=shocked,5=sunglasses.'\")\n",
    "            cur.execute(\"ALTER TABLE images ADD CONSTRAINT dir_path PRIMARY KEY(id)\")\n",
    "            cur.execute(\"ALTER TABLE images ADD COLUMN class_pred INTEGER DEFAULT 0 NOT NULL\")\n",
    "            cur.execute(\"ALTER TABLE images ADD COLUMN ext TEXT DEFAULT '.jpg' NOT NULL\")\n",
    "            con.commit()\n",
    "            cur.execute(\"SELECT column_name FROM INFORMATION_SCHEMA.COLUMNS WHERE table_name = 'images'\")\n",
    "            db_cols = cur.fetchall()\n",
    "            print(db_cols)\n",
    "        return 1\n",
    "        "
   ]
  },
  {
   "cell_type": "code",
   "execution_count": 9,
   "metadata": {},
   "outputs": [],
   "source": [
    "def bulk_insert_database(con, cur, id_, file_name, dir_path):\n",
    "\n",
    "    with con:\n",
    "        \n",
    "        today = date.today().strftime('%m/%d/%Y')\n",
    "        imgopen = open(dir_path, 'rb').read()\n",
    "        face_class = file_name[-5]\n",
    "        data = (id_, dir_path, psycopg2.Binary(imgopen), today , False, face_class)\n",
    "        query = \"INSERT INTO images(id, dir_path, img_orig, date, face, face_class) VALUES (%s, %s, %s, %s, %s, %s)\" \n",
    "        cur.execute(query, data)\n",
    "        \n",
    "    return con, cur"
   ]
  },
  {
   "cell_type": "code",
   "execution_count": 10,
   "metadata": {},
   "outputs": [],
   "source": [
    "def load_images_database(fname):\n",
    "    file_name = '' # image name\n",
    "    file_path = '' # path to file\n",
    "    i = 0\n",
    "    for file in fname:\n",
    "        file_name = os.path.basename(file)\n",
    "        file_path = file\n",
    "        print('{}...{}...{}'.format(i, file_name, file_path))\n",
    "        bulk_insert_database(con, cur, i, file_name, file_path) \n",
    "        i+=1\n",
    "    return 1"
   ]
  },
  {
   "cell_type": "code",
   "execution_count": 11,
   "metadata": {},
   "outputs": [],
   "source": [
    "# Update to take id and path as inputs.  id to select a specific row, path to where you wish to output (visualizations)\n",
    "def write_image_database_to_file(con, cur):\n",
    "    try:\n",
    "        \n",
    "        data = ('id', 'dir_path', 'date', 'img_orig' , 'face', 'face_class')\n",
    "        cur.execute(\"SELECT data FROM images\")\n",
    "        data = cur.fetchone()\n",
    "        open(os.path.expanduser('~/Desktop/test.jpp'), 'wb').write(data[3])        \n",
    "\n",
    "    except psycopg2.DatabaseError as e:\n",
    "\n",
    "        print('Error {}'.format(e))\n",
    "        sys.exit(9)\n"
   ]
  },
  {
   "cell_type": "code",
   "execution_count": 12,
   "metadata": {},
   "outputs": [],
   "source": [
    "def read_image_database(con):\n",
    "    query = \"SELECT id, dir_path, img_orig, face, face_class, class_pred FROM images\"\n",
    "    df_table = pd.read_sql_query(query, con)\n",
    "    return df_table"
   ]
  },
  {
   "cell_type": "code",
   "execution_count": 13,
   "metadata": {},
   "outputs": [],
   "source": [
    "def write_image_database(con, cur, data):\n",
    "#     data = cv2.cvtColor(data, cv2.COLOR_BGR2RGB)\n",
    "#     cv2.imwrite('../test/test_image.jpg', data)\n",
    "    return  7"
   ]
  },
  {
   "cell_type": "markdown",
   "metadata": {},
   "source": [
    "# Preprocessing"
   ]
  },
  {
   "cell_type": "code",
   "execution_count": 14,
   "metadata": {},
   "outputs": [
    {
     "name": "stdout",
     "output_type": "stream",
     "text": [
      "/Users/kennedy/Documents/GitHub/fiprojects/mod_capstone/notebooks\n"
     ]
    }
   ],
   "source": [
    "! pwd"
   ]
  },
  {
   "cell_type": "code",
   "execution_count": 15,
   "metadata": {},
   "outputs": [],
   "source": [
    "# # Renwming files as data fas the same filenames for each subject.  Prepending the folder name to the filename, as the foldername is the subject id.\n",
    "# # ONLY RUN ONCE!!!!!!!\n",
    "# for root, dirs, files in os.walk('../data/TD_RGB_E'):\n",
    "#     if not files:\n",
    "#         continue\n",
    "#     prefix = os.path.basename(root)\n",
    "#     for f in files:\n",
    "#         os.rename(os.path.join(root, f), os.path.join(root, \"{}_{}\".format(prefix, f)))"
   ]
  },
  {
   "cell_type": "code",
   "execution_count": 62,
   "metadata": {},
   "outputs": [
    {
     "data": {
      "text/plain": [
       "1"
      ]
     },
     "execution_count": 62,
     "metadata": {},
     "output_type": "execute_result"
    }
   ],
   "source": [
    "# ONLY RUN ONCE\n",
    "# sort_images('../data/base') "
   ]
  },
  {
   "cell_type": "code",
   "execution_count": 16,
   "metadata": {},
   "outputs": [],
   "source": [
    "file_name = '' # image name\n",
    "file_path = '' # path to file"
   ]
  },
  {
   "cell_type": "code",
   "execution_count": 17,
   "metadata": {},
   "outputs": [
    {
     "name": "stdout",
     "output_type": "stream",
     "text": [
      "560 ../data/TD_RGB_E/TD_RGB_E_Set4/95/95_TD_RGB_E_1.jpg\n"
     ]
    }
   ],
   "source": [
    "# Process Images Directory for Feeding into the Model\n",
    "image_list = build_image_list('../data/TD_RGB_E')\n",
    "print(len(image_list), image_list[0])"
   ]
  },
  {
   "cell_type": "code",
   "execution_count": null,
   "metadata": {},
   "outputs": [],
   "source": [
    "# # copy files to a singular folder\n",
    "# dest_base = '../data/base'\n",
    "# for ig in image_list:\n",
    "#     shutil.copy(ig, dest_base)"
   ]
  },
  {
   "cell_type": "code",
   "execution_count": 18,
   "metadata": {},
   "outputs": [
    {
     "name": "stdout",
     "output_type": "stream",
     "text": [
      "PostgreSQL 12.1 on x86_64-apple-darwin16.7.0, compiled by Apple LLVM version 8.1.0 (clang-802.0.42), 64-bit\n"
     ]
    }
   ],
   "source": [
    "test_database()"
   ]
  },
  {
   "cell_type": "code",
   "execution_count": 19,
   "metadata": {},
   "outputs": [],
   "source": [
    "con, cur = connect_database()"
   ]
  },
  {
   "cell_type": "code",
   "execution_count": 20,
   "metadata": {},
   "outputs": [
    {
     "name": "stdout",
     "output_type": "stream",
     "text": [
      "[('id',), ('file_name',), ('dir_path',), ('img_orig',), ('date',), ('face',), ('face_class',), ('class_pred',), ('ext',)]\n"
     ]
    },
    {
     "data": {
      "text/plain": [
       "1"
      ]
     },
     "execution_count": 20,
     "metadata": {},
     "output_type": "execute_result"
    }
   ],
   "source": [
    "create_database(con, cur)"
   ]
  },
  {
   "cell_type": "code",
   "execution_count": 21,
   "metadata": {
    "collapsed": true,
    "jupyter": {
     "outputs_hidden": true
    }
   },
   "outputs": [
    {
     "name": "stdout",
     "output_type": "stream",
     "text": [
      "0...95_TD_RGB_E_1.jpg...../data/TD_RGB_E/TD_RGB_E_Set4/95/95_TD_RGB_E_1.jpg\n",
      "1...95_TD_RGB_E_3.jpg...../data/TD_RGB_E/TD_RGB_E_Set4/95/95_TD_RGB_E_3.jpg\n",
      "2...95_TD_RGB_E_2.jpg...../data/TD_RGB_E/TD_RGB_E_Set4/95/95_TD_RGB_E_2.jpg\n",
      "3...95_TD_RGB_E_5.jpg...../data/TD_RGB_E/TD_RGB_E_Set4/95/95_TD_RGB_E_5.jpg\n",
      "4...95_TD_RGB_E_4.jpg...../data/TD_RGB_E/TD_RGB_E_Set4/95/95_TD_RGB_E_4.jpg\n",
      "5...92_TD_RGB_E_3.jpg...../data/TD_RGB_E/TD_RGB_E_Set4/92/92_TD_RGB_E_3.jpg\n",
      "6...92_TD_RGB_E_2.jpg...../data/TD_RGB_E/TD_RGB_E_Set4/92/92_TD_RGB_E_2.jpg\n",
      "7...92_TD_RGB_E_1.jpg...../data/TD_RGB_E/TD_RGB_E_Set4/92/92_TD_RGB_E_1.jpg\n",
      "8...92_TD_RGB_E_5.jpg...../data/TD_RGB_E/TD_RGB_E_Set4/92/92_TD_RGB_E_5.jpg\n",
      "9...92_TD_RGB_E_4.jpg...../data/TD_RGB_E/TD_RGB_E_Set4/92/92_TD_RGB_E_4.jpg\n",
      "10...104_TD_RGB_E_4.jpg...../data/TD_RGB_E/TD_RGB_E_Set4/104/104_TD_RGB_E_4.jpg\n",
      "11...104_TD_RGB_E_5.jpg...../data/TD_RGB_E/TD_RGB_E_Set4/104/104_TD_RGB_E_5.jpg\n",
      "12...104_TD_RGB_E_2.jpg...../data/TD_RGB_E/TD_RGB_E_Set4/104/104_TD_RGB_E_2.jpg\n",
      "13...104_TD_RGB_E_3.jpg...../data/TD_RGB_E/TD_RGB_E_Set4/104/104_TD_RGB_E_3.jpg\n",
      "14...104_TD_RGB_E_1.jpg...../data/TD_RGB_E/TD_RGB_E_Set4/104/104_TD_RGB_E_1.jpg\n",
      "15...103_TD_RGB_E_4.jpg...../data/TD_RGB_E/TD_RGB_E_Set4/103/103_TD_RGB_E_4.jpg\n",
      "16...103_TD_RGB_E_5.jpg...../data/TD_RGB_E/TD_RGB_E_Set4/103/103_TD_RGB_E_5.jpg\n",
      "17...103_TD_RGB_E_1.jpg...../data/TD_RGB_E/TD_RGB_E_Set4/103/103_TD_RGB_E_1.jpg\n",
      "18...103_TD_RGB_E_2.jpg...../data/TD_RGB_E/TD_RGB_E_Set4/103/103_TD_RGB_E_2.jpg\n",
      "19...103_TD_RGB_E_3.jpg...../data/TD_RGB_E/TD_RGB_E_Set4/103/103_TD_RGB_E_3.jpg\n",
      "20...102_TD_RGB_E_3.jpg...../data/TD_RGB_E/TD_RGB_E_Set4/102/102_TD_RGB_E_3.jpg\n",
      "21...102_TD_RGB_E_2.jpg...../data/TD_RGB_E/TD_RGB_E_Set4/102/102_TD_RGB_E_2.jpg\n",
      "22...102_TD_RGB_E_1.jpg...../data/TD_RGB_E/TD_RGB_E_Set4/102/102_TD_RGB_E_1.jpg\n",
      "23...102_TD_RGB_E_5.jpg...../data/TD_RGB_E/TD_RGB_E_Set4/102/102_TD_RGB_E_5.jpg\n",
      "24...102_TD_RGB_E_4.jpg...../data/TD_RGB_E/TD_RGB_E_Set4/102/102_TD_RGB_E_4.jpg\n",
      "25...105_TD_RGB_E_1.jpg...../data/TD_RGB_E/TD_RGB_E_Set4/105/105_TD_RGB_E_1.jpg\n",
      "26...105_TD_RGB_E_3.jpg...../data/TD_RGB_E/TD_RGB_E_Set4/105/105_TD_RGB_E_3.jpg\n",
      "27...105_TD_RGB_E_2.jpg...../data/TD_RGB_E/TD_RGB_E_Set4/105/105_TD_RGB_E_2.jpg\n",
      "28...105_TD_RGB_E_5.jpg...../data/TD_RGB_E/TD_RGB_E_Set4/105/105_TD_RGB_E_5.jpg\n",
      "29...105_TD_RGB_E_4.jpg...../data/TD_RGB_E/TD_RGB_E_Set4/105/105_TD_RGB_E_4.jpg\n",
      "30...93_TD_RGB_E_4.jpg...../data/TD_RGB_E/TD_RGB_E_Set4/93/93_TD_RGB_E_4.jpg\n",
      "31...93_TD_RGB_E_5.jpg...../data/TD_RGB_E/TD_RGB_E_Set4/93/93_TD_RGB_E_5.jpg\n",
      "32...93_TD_RGB_E_1.jpg...../data/TD_RGB_E/TD_RGB_E_Set4/93/93_TD_RGB_E_1.jpg\n",
      "33...93_TD_RGB_E_2.jpg...../data/TD_RGB_E/TD_RGB_E_Set4/93/93_TD_RGB_E_2.jpg\n",
      "34...93_TD_RGB_E_3.jpg...../data/TD_RGB_E/TD_RGB_E_Set4/93/93_TD_RGB_E_3.jpg\n",
      "35...94_TD_RGB_E_4.jpg...../data/TD_RGB_E/TD_RGB_E_Set4/94/94_TD_RGB_E_4.jpg\n",
      "36...94_TD_RGB_E_5.jpg...../data/TD_RGB_E/TD_RGB_E_Set4/94/94_TD_RGB_E_5.jpg\n",
      "37...94_TD_RGB_E_2.jpg...../data/TD_RGB_E/TD_RGB_E_Set4/94/94_TD_RGB_E_2.jpg\n",
      "38...94_TD_RGB_E_3.jpg...../data/TD_RGB_E/TD_RGB_E_Set4/94/94_TD_RGB_E_3.jpg\n",
      "39...94_TD_RGB_E_1.jpg...../data/TD_RGB_E/TD_RGB_E_Set4/94/94_TD_RGB_E_1.jpg\n",
      "40...89_TD_RGB_E_5.jpg...../data/TD_RGB_E/TD_RGB_E_Set4/89/89_TD_RGB_E_5.jpg\n",
      "41...89_TD_RGB_E_4.jpg...../data/TD_RGB_E/TD_RGB_E_Set4/89/89_TD_RGB_E_4.jpg\n",
      "42...89_TD_RGB_E_3.jpg...../data/TD_RGB_E/TD_RGB_E_Set4/89/89_TD_RGB_E_3.jpg\n",
      "43...89_TD_RGB_E_2.jpg...../data/TD_RGB_E/TD_RGB_E_Set4/89/89_TD_RGB_E_2.jpg\n",
      "44...89_TD_RGB_E_1.jpg...../data/TD_RGB_E/TD_RGB_E_Set4/89/89_TD_RGB_E_1.jpg\n",
      "45...111_TD_RGB_E_4.jpg...../data/TD_RGB_E/TD_RGB_E_Set4/111/111_TD_RGB_E_4.jpg\n",
      "46...111_TD_RGB_E_5.jpg...../data/TD_RGB_E/TD_RGB_E_Set4/111/111_TD_RGB_E_5.jpg\n",
      "47...111_TD_RGB_E_2.jpg...../data/TD_RGB_E/TD_RGB_E_Set4/111/111_TD_RGB_E_2.jpg\n",
      "48...111_TD_RGB_E_3.jpg...../data/TD_RGB_E/TD_RGB_E_Set4/111/111_TD_RGB_E_3.jpg\n",
      "49...111_TD_RGB_E_1.jpg...../data/TD_RGB_E/TD_RGB_E_Set4/111/111_TD_RGB_E_1.jpg\n",
      "50...87_TD_RGB_E_3.jpg...../data/TD_RGB_E/TD_RGB_E_Set4/87/87_TD_RGB_E_3.jpg\n",
      "51...87_TD_RGB_E_2.jpg...../data/TD_RGB_E/TD_RGB_E_Set4/87/87_TD_RGB_E_2.jpg\n",
      "52...87_TD_RGB_E_1.jpg...../data/TD_RGB_E/TD_RGB_E_Set4/87/87_TD_RGB_E_1.jpg\n",
      "53...87_TD_RGB_E_5.jpg...../data/TD_RGB_E/TD_RGB_E_Set4/87/87_TD_RGB_E_5.jpg\n",
      "54...87_TD_RGB_E_4.jpg...../data/TD_RGB_E/TD_RGB_E_Set4/87/87_TD_RGB_E_4.jpg\n",
      "55...80_TD_RGB_E_1.jpg...../data/TD_RGB_E/TD_RGB_E_Set4/80/80_TD_RGB_E_1.jpg\n",
      "56...80_TD_RGB_E_3.jpg...../data/TD_RGB_E/TD_RGB_E_Set4/80/80_TD_RGB_E_3.jpg\n",
      "57...80_TD_RGB_E_2.jpg...../data/TD_RGB_E/TD_RGB_E_Set4/80/80_TD_RGB_E_2.jpg\n",
      "58...80_TD_RGB_E_5.jpg...../data/TD_RGB_E/TD_RGB_E_Set4/80/80_TD_RGB_E_5.jpg\n",
      "59...80_TD_RGB_E_4.jpg...../data/TD_RGB_E/TD_RGB_E_Set4/80/80_TD_RGB_E_4.jpg\n",
      "60...81_TD_RGB_E_4.jpg...../data/TD_RGB_E/TD_RGB_E_Set4/81/81_TD_RGB_E_4.jpg\n",
      "61...81_TD_RGB_E_5.jpg...../data/TD_RGB_E/TD_RGB_E_Set4/81/81_TD_RGB_E_5.jpg\n",
      "62...81_TD_RGB_E_2.jpg...../data/TD_RGB_E/TD_RGB_E_Set4/81/81_TD_RGB_E_2.jpg\n",
      "63...81_TD_RGB_E_3.jpg...../data/TD_RGB_E/TD_RGB_E_Set4/81/81_TD_RGB_E_3.jpg\n",
      "64...81_TD_RGB_E_1.jpg...../data/TD_RGB_E/TD_RGB_E_Set4/81/81_TD_RGB_E_1.jpg\n",
      "65...86_TD_RGB_E_4.jpg...../data/TD_RGB_E/TD_RGB_E_Set4/86/86_TD_RGB_E_4.jpg\n",
      "66...86_TD_RGB_E_5.jpg...../data/TD_RGB_E/TD_RGB_E_Set4/86/86_TD_RGB_E_5.jpg\n",
      "67...86_TD_RGB_E_1.jpg...../data/TD_RGB_E/TD_RGB_E_Set4/86/86_TD_RGB_E_1.jpg\n",
      "68...86_TD_RGB_E_2.jpg...../data/TD_RGB_E/TD_RGB_E_Set4/86/86_TD_RGB_E_2.jpg\n",
      "69...86_TD_RGB_E_3.jpg...../data/TD_RGB_E/TD_RGB_E_Set4/86/86_TD_RGB_E_3.jpg\n",
      "70...110_TD_RGB_E_1.jpg...../data/TD_RGB_E/TD_RGB_E_Set4/110/110_TD_RGB_E_1.jpg\n",
      "71...110_TD_RGB_E_3.jpg...../data/TD_RGB_E/TD_RGB_E_Set4/110/110_TD_RGB_E_3.jpg\n",
      "72...110_TD_RGB_E_2.jpg...../data/TD_RGB_E/TD_RGB_E_Set4/110/110_TD_RGB_E_2.jpg\n",
      "73...110_TD_RGB_E_5.jpg...../data/TD_RGB_E/TD_RGB_E_Set4/110/110_TD_RGB_E_5.jpg\n",
      "74...110_TD_RGB_E_4.jpg...../data/TD_RGB_E/TD_RGB_E_Set4/110/110_TD_RGB_E_4.jpg\n",
      "75...88_TD_RGB_E_1.jpg...../data/TD_RGB_E/TD_RGB_E_Set4/88/88_TD_RGB_E_1.jpg\n",
      "76...88_TD_RGB_E_2.jpg...../data/TD_RGB_E/TD_RGB_E_Set4/88/88_TD_RGB_E_2.jpg\n",
      "77...88_TD_RGB_E_3.jpg...../data/TD_RGB_E/TD_RGB_E_Set4/88/88_TD_RGB_E_3.jpg\n",
      "78...88_TD_RGB_E_4.jpg...../data/TD_RGB_E/TD_RGB_E_Set4/88/88_TD_RGB_E_4.jpg\n",
      "79...88_TD_RGB_E_5.jpg...../data/TD_RGB_E/TD_RGB_E_Set4/88/88_TD_RGB_E_5.jpg\n",
      "80...91_TD_RGB_E_2.jpg...../data/TD_RGB_E/TD_RGB_E_Set4/91/91_TD_RGB_E_2.jpg\n",
      "81...91_TD_RGB_E_3.jpg...../data/TD_RGB_E/TD_RGB_E_Set4/91/91_TD_RGB_E_3.jpg\n",
      "82...91_TD_RGB_E_1.jpg...../data/TD_RGB_E/TD_RGB_E_Set4/91/91_TD_RGB_E_1.jpg\n",
      "83...91_TD_RGB_E_4.jpg...../data/TD_RGB_E/TD_RGB_E_Set4/91/91_TD_RGB_E_4.jpg\n",
      "84...91_TD_RGB_E_5.jpg...../data/TD_RGB_E/TD_RGB_E_Set4/91/91_TD_RGB_E_5.jpg\n",
      "85...96_TD_RGB_E_1.jpg...../data/TD_RGB_E/TD_RGB_E_Set4/96/96_TD_RGB_E_1.jpg\n",
      "86...96_TD_RGB_E_2.jpg...../data/TD_RGB_E/TD_RGB_E_Set4/96/96_TD_RGB_E_2.jpg\n",
      "87...96_TD_RGB_E_3.jpg...../data/TD_RGB_E/TD_RGB_E_Set4/96/96_TD_RGB_E_3.jpg\n",
      "88...96_TD_RGB_E_4.jpg...../data/TD_RGB_E/TD_RGB_E_Set4/96/96_TD_RGB_E_4.jpg\n",
      "89...96_TD_RGB_E_5.jpg...../data/TD_RGB_E/TD_RGB_E_Set4/96/96_TD_RGB_E_5.jpg\n",
      "90...109_TD_RGB_E_3.jpg...../data/TD_RGB_E/TD_RGB_E_Set4/109/109_TD_RGB_E_3.jpg\n",
      "91...109_TD_RGB_E_2.jpg...../data/TD_RGB_E/TD_RGB_E_Set4/109/109_TD_RGB_E_2.jpg\n",
      "92...109_TD_RGB_E_1.jpg...../data/TD_RGB_E/TD_RGB_E_Set4/109/109_TD_RGB_E_1.jpg\n",
      "93...109_TD_RGB_E_5.jpg...../data/TD_RGB_E/TD_RGB_E_Set4/109/109_TD_RGB_E_5.jpg\n",
      "94...109_TD_RGB_E_4.jpg...../data/TD_RGB_E/TD_RGB_E_Set4/109/109_TD_RGB_E_4.jpg\n",
      "95...100_TD_RGB_E_5.jpg...../data/TD_RGB_E/TD_RGB_E_Set4/100/100_TD_RGB_E_5.jpg\n",
      "96...100_TD_RGB_E_4.jpg...../data/TD_RGB_E/TD_RGB_E_Set4/100/100_TD_RGB_E_4.jpg\n",
      "97...100_TD_RGB_E_1.jpg...../data/TD_RGB_E/TD_RGB_E_Set4/100/100_TD_RGB_E_1.jpg\n",
      "98...100_TD_RGB_E_3.jpg...../data/TD_RGB_E/TD_RGB_E_Set4/100/100_TD_RGB_E_3.jpg\n",
      "99...100_TD_RGB_E_2.jpg...../data/TD_RGB_E/TD_RGB_E_Set4/100/100_TD_RGB_E_2.jpg\n",
      "100...107_TD_RGB_E_5.jpg...../data/TD_RGB_E/TD_RGB_E_Set4/107/107_TD_RGB_E_5.jpg\n",
      "101...107_TD_RGB_E_4.jpg...../data/TD_RGB_E/TD_RGB_E_Set4/107/107_TD_RGB_E_4.jpg\n",
      "102...107_TD_RGB_E_3.jpg...../data/TD_RGB_E/TD_RGB_E_Set4/107/107_TD_RGB_E_3.jpg\n",
      "103...107_TD_RGB_E_2.jpg...../data/TD_RGB_E/TD_RGB_E_Set4/107/107_TD_RGB_E_2.jpg\n",
      "104...107_TD_RGB_E_1.jpg...../data/TD_RGB_E/TD_RGB_E_Set4/107/107_TD_RGB_E_1.jpg\n",
      "105...98_TD_RGB_E_4.jpg...../data/TD_RGB_E/TD_RGB_E_Set4/98/98_TD_RGB_E_4.jpg\n",
      "106...98_TD_RGB_E_5.jpg...../data/TD_RGB_E/TD_RGB_E_Set4/98/98_TD_RGB_E_5.jpg\n",
      "107...98_TD_RGB_E_1.jpg...../data/TD_RGB_E/TD_RGB_E_Set4/98/98_TD_RGB_E_1.jpg\n",
      "108...98_TD_RGB_E_2.jpg...../data/TD_RGB_E/TD_RGB_E_Set4/98/98_TD_RGB_E_2.jpg\n",
      "109...98_TD_RGB_E_3.jpg...../data/TD_RGB_E/TD_RGB_E_Set4/98/98_TD_RGB_E_3.jpg\n",
      "110...106_TD_RGB_E_1.jpg...../data/TD_RGB_E/TD_RGB_E_Set4/106/106_TD_RGB_E_1.jpg\n",
      "111...106_TD_RGB_E_2.jpg...../data/TD_RGB_E/TD_RGB_E_Set4/106/106_TD_RGB_E_2.jpg\n",
      "112...106_TD_RGB_E_3.jpg...../data/TD_RGB_E/TD_RGB_E_Set4/106/106_TD_RGB_E_3.jpg\n",
      "113...106_TD_RGB_E_4.jpg...../data/TD_RGB_E/TD_RGB_E_Set4/106/106_TD_RGB_E_4.jpg\n",
      "114...106_TD_RGB_E_5.jpg...../data/TD_RGB_E/TD_RGB_E_Set4/106/106_TD_RGB_E_5.jpg\n",
      "115...99_TD_RGB_E_3.jpg...../data/TD_RGB_E/TD_RGB_E_Set4/99/99_TD_RGB_E_3.jpg\n",
      "116...99_TD_RGB_E_2.jpg...../data/TD_RGB_E/TD_RGB_E_Set4/99/99_TD_RGB_E_2.jpg\n",
      "117...99_TD_RGB_E_1.jpg...../data/TD_RGB_E/TD_RGB_E_Set4/99/99_TD_RGB_E_1.jpg\n",
      "118...99_TD_RGB_E_5.jpg...../data/TD_RGB_E/TD_RGB_E_Set4/99/99_TD_RGB_E_5.jpg\n",
      "119...99_TD_RGB_E_4.jpg...../data/TD_RGB_E/TD_RGB_E_Set4/99/99_TD_RGB_E_4.jpg\n",
      "120...101_TD_RGB_E_2.jpg...../data/TD_RGB_E/TD_RGB_E_Set4/101/101_TD_RGB_E_2.jpg\n",
      "121...101_TD_RGB_E_3.jpg...../data/TD_RGB_E/TD_RGB_E_Set4/101/101_TD_RGB_E_3.jpg\n",
      "122...101_TD_RGB_E_1.jpg...../data/TD_RGB_E/TD_RGB_E_Set4/101/101_TD_RGB_E_1.jpg\n",
      "123...101_TD_RGB_E_4.jpg...../data/TD_RGB_E/TD_RGB_E_Set4/101/101_TD_RGB_E_4.jpg\n",
      "124...101_TD_RGB_E_5.jpg...../data/TD_RGB_E/TD_RGB_E_Set4/101/101_TD_RGB_E_5.jpg\n",
      "125...97_TD_RGB_E_5.jpg...../data/TD_RGB_E/TD_RGB_E_Set4/97/97_TD_RGB_E_5.jpg\n",
      "126...97_TD_RGB_E_4.jpg...../data/TD_RGB_E/TD_RGB_E_Set4/97/97_TD_RGB_E_4.jpg\n",
      "127...97_TD_RGB_E_3.jpg...../data/TD_RGB_E/TD_RGB_E_Set4/97/97_TD_RGB_E_3.jpg\n",
      "128...97_TD_RGB_E_2.jpg...../data/TD_RGB_E/TD_RGB_E_Set4/97/97_TD_RGB_E_2.jpg\n",
      "129...97_TD_RGB_E_1.jpg...../data/TD_RGB_E/TD_RGB_E_Set4/97/97_TD_RGB_E_1.jpg\n",
      "130...108_TD_RGB_E_4.jpg...../data/TD_RGB_E/TD_RGB_E_Set4/108/108_TD_RGB_E_4.jpg\n",
      "131...108_TD_RGB_E_5.jpg...../data/TD_RGB_E/TD_RGB_E_Set4/108/108_TD_RGB_E_5.jpg\n",
      "132...108_TD_RGB_E_1.jpg...../data/TD_RGB_E/TD_RGB_E_Set4/108/108_TD_RGB_E_1.jpg\n",
      "133...108_TD_RGB_E_2.jpg...../data/TD_RGB_E/TD_RGB_E_Set4/108/108_TD_RGB_E_2.jpg\n",
      "134...108_TD_RGB_E_3.jpg...../data/TD_RGB_E/TD_RGB_E_Set4/108/108_TD_RGB_E_3.jpg\n",
      "135...90_TD_RGB_E_5.jpg...../data/TD_RGB_E/TD_RGB_E_Set4/90/90_TD_RGB_E_5.jpg\n",
      "136...90_TD_RGB_E_4.jpg...../data/TD_RGB_E/TD_RGB_E_Set4/90/90_TD_RGB_E_4.jpg\n",
      "137...90_TD_RGB_E_1.jpg...../data/TD_RGB_E/TD_RGB_E_Set4/90/90_TD_RGB_E_1.jpg\n",
      "138...90_TD_RGB_E_3.jpg...../data/TD_RGB_E/TD_RGB_E_Set4/90/90_TD_RGB_E_3.jpg\n",
      "139...90_TD_RGB_E_2.jpg...../data/TD_RGB_E/TD_RGB_E_Set4/90/90_TD_RGB_E_2.jpg\n",
      "140...79_TD_RGB_E_4.jpg...../data/TD_RGB_E/TD_RGB_E_Set4/79/79_TD_RGB_E_4.jpg\n",
      "141...79_TD_RGB_E_5.jpg...../data/TD_RGB_E/TD_RGB_E_Set4/79/79_TD_RGB_E_5.jpg\n",
      "142...79_TD_RGB_E_1.jpg...../data/TD_RGB_E/TD_RGB_E_Set4/79/79_TD_RGB_E_1.jpg\n",
      "143...79_TD_RGB_E_2.jpg...../data/TD_RGB_E/TD_RGB_E_Set4/79/79_TD_RGB_E_2.jpg\n",
      "144...79_TD_RGB_E_3.jpg...../data/TD_RGB_E/TD_RGB_E_Set4/79/79_TD_RGB_E_3.jpg\n",
      "145...112_TD_RGB_E_5.jpg...../data/TD_RGB_E/TD_RGB_E_Set4/112/112_TD_RGB_E_5.jpg\n",
      "146...112_TD_RGB_E_4.jpg...../data/TD_RGB_E/TD_RGB_E_Set4/112/112_TD_RGB_E_4.jpg\n",
      "147...112_TD_RGB_E_3.jpg...../data/TD_RGB_E/TD_RGB_E_Set4/112/112_TD_RGB_E_3.jpg\n",
      "148...112_TD_RGB_E_2.jpg...../data/TD_RGB_E/TD_RGB_E_Set4/112/112_TD_RGB_E_2.jpg\n",
      "149...112_TD_RGB_E_1.jpg...../data/TD_RGB_E/TD_RGB_E_Set4/112/112_TD_RGB_E_1.jpg\n",
      "150...83_TD_RGB_E_1.jpg...../data/TD_RGB_E/TD_RGB_E_Set4/83/83_TD_RGB_E_1.jpg\n",
      "151...83_TD_RGB_E_2.jpg...../data/TD_RGB_E/TD_RGB_E_Set4/83/83_TD_RGB_E_2.jpg\n",
      "152...83_TD_RGB_E_3.jpg...../data/TD_RGB_E/TD_RGB_E_Set4/83/83_TD_RGB_E_3.jpg\n",
      "153...83_TD_RGB_E_4.jpg...../data/TD_RGB_E/TD_RGB_E_Set4/83/83_TD_RGB_E_4.jpg\n",
      "154...83_TD_RGB_E_5.jpg...../data/TD_RGB_E/TD_RGB_E_Set4/83/83_TD_RGB_E_5.jpg\n",
      "155...77_TD_RGB_E_1.jpg...../data/TD_RGB_E/TD_RGB_E_Set4/77/77_TD_RGB_E_1.jpg\n",
      "156...77_TD_RGB_E_2.jpg...../data/TD_RGB_E/TD_RGB_E_Set4/77/77_TD_RGB_E_2.jpg\n",
      "157...77_TD_RGB_E_3.jpg...../data/TD_RGB_E/TD_RGB_E_Set4/77/77_TD_RGB_E_3.jpg\n",
      "158...77_TD_RGB_E_4.jpg...../data/TD_RGB_E/TD_RGB_E_Set4/77/77_TD_RGB_E_4.jpg\n",
      "159...77_TD_RGB_E_5.jpg...../data/TD_RGB_E/TD_RGB_E_Set4/77/77_TD_RGB_E_5.jpg\n",
      "160...84_TD_RGB_E_2.jpg...../data/TD_RGB_E/TD_RGB_E_Set4/84/84_TD_RGB_E_2.jpg\n",
      "161...84_TD_RGB_E_3.jpg...../data/TD_RGB_E/TD_RGB_E_Set4/84/84_TD_RGB_E_3.jpg\n",
      "162...84_TD_RGB_E_1.jpg...../data/TD_RGB_E/TD_RGB_E_Set4/84/84_TD_RGB_E_1.jpg\n",
      "163...84_TD_RGB_E_4.jpg...../data/TD_RGB_E/TD_RGB_E_Set4/84/84_TD_RGB_E_4.jpg\n",
      "164...84_TD_RGB_E_5.jpg...../data/TD_RGB_E/TD_RGB_E_Set4/84/84_TD_RGB_E_5.jpg\n",
      "165...85_TD_RGB_E_5.jpg...../data/TD_RGB_E/TD_RGB_E_Set4/85/85_TD_RGB_E_5.jpg\n",
      "166...85_TD_RGB_E_4.jpg...../data/TD_RGB_E/TD_RGB_E_Set4/85/85_TD_RGB_E_4.jpg\n",
      "167...85_TD_RGB_E_1.jpg...../data/TD_RGB_E/TD_RGB_E_Set4/85/85_TD_RGB_E_1.jpg\n",
      "168...85_TD_RGB_E_3.jpg...../data/TD_RGB_E/TD_RGB_E_Set4/85/85_TD_RGB_E_3.jpg\n",
      "169...85_TD_RGB_E_2.jpg...../data/TD_RGB_E/TD_RGB_E_Set4/85/85_TD_RGB_E_2.jpg\n",
      "170...76_TD_RGB_E_5.jpg...../data/TD_RGB_E/TD_RGB_E_Set4/76/76_TD_RGB_E_5.jpg\n",
      "171...76_TD_RGB_E_4.jpg...../data/TD_RGB_E/TD_RGB_E_Set4/76/76_TD_RGB_E_4.jpg\n",
      "172...76_TD_RGB_E_3.jpg...../data/TD_RGB_E/TD_RGB_E_Set4/76/76_TD_RGB_E_3.jpg\n",
      "173...76_TD_RGB_E_2.jpg...../data/TD_RGB_E/TD_RGB_E_Set4/76/76_TD_RGB_E_2.jpg\n",
      "174...76_TD_RGB_E_1.jpg...../data/TD_RGB_E/TD_RGB_E_Set4/76/76_TD_RGB_E_1.jpg\n",
      "175...82_TD_RGB_E_5.jpg...../data/TD_RGB_E/TD_RGB_E_Set4/82/82_TD_RGB_E_5.jpg\n",
      "176...82_TD_RGB_E_4.jpg...../data/TD_RGB_E/TD_RGB_E_Set4/82/82_TD_RGB_E_4.jpg\n",
      "177...82_TD_RGB_E_3.jpg...../data/TD_RGB_E/TD_RGB_E_Set4/82/82_TD_RGB_E_3.jpg\n",
      "178...82_TD_RGB_E_2.jpg...../data/TD_RGB_E/TD_RGB_E_Set4/82/82_TD_RGB_E_2.jpg\n",
      "179...82_TD_RGB_E_1.jpg...../data/TD_RGB_E/TD_RGB_E_Set4/82/82_TD_RGB_E_1.jpg\n",
      "180...113_TD_RGB_E_1.jpg...../data/TD_RGB_E/TD_RGB_E_Set4/113/113_TD_RGB_E_1.jpg\n",
      "181...113_TD_RGB_E_2.jpg...../data/TD_RGB_E/TD_RGB_E_Set4/113/113_TD_RGB_E_2.jpg\n",
      "182...113_TD_RGB_E_3.jpg...../data/TD_RGB_E/TD_RGB_E_Set4/113/113_TD_RGB_E_3.jpg\n",
      "183...113_TD_RGB_E_4.jpg...../data/TD_RGB_E/TD_RGB_E_Set4/113/113_TD_RGB_E_4.jpg\n",
      "184...113_TD_RGB_E_5.jpg...../data/TD_RGB_E/TD_RGB_E_Set4/113/113_TD_RGB_E_5.jpg\n",
      "185...78_TD_RGB_E_3.jpg...../data/TD_RGB_E/TD_RGB_E_Set4/78/78_TD_RGB_E_3.jpg\n",
      "186...78_TD_RGB_E_2.jpg...../data/TD_RGB_E/TD_RGB_E_Set4/78/78_TD_RGB_E_2.jpg\n",
      "187...78_TD_RGB_E_1.jpg...../data/TD_RGB_E/TD_RGB_E_Set4/78/78_TD_RGB_E_1.jpg\n",
      "188...78_TD_RGB_E_5.jpg...../data/TD_RGB_E/TD_RGB_E_Set4/78/78_TD_RGB_E_5.jpg\n",
      "189...78_TD_RGB_E_4.jpg...../data/TD_RGB_E/TD_RGB_E_Set4/78/78_TD_RGB_E_4.jpg\n",
      "190...61_TD_RGB_E_1.jpg...../data/TD_RGB_E/TD_RGB_E_Set3/61/61_TD_RGB_E_1.jpg\n",
      "191...61_TD_RGB_E_3.jpg...../data/TD_RGB_E/TD_RGB_E_Set3/61/61_TD_RGB_E_3.jpg\n",
      "192...61_TD_RGB_E_2.jpg...../data/TD_RGB_E/TD_RGB_E_Set3/61/61_TD_RGB_E_2.jpg\n",
      "193...61_TD_RGB_E_5.jpg...../data/TD_RGB_E/TD_RGB_E_Set3/61/61_TD_RGB_E_5.jpg\n",
      "194...61_TD_RGB_E_4.jpg...../data/TD_RGB_E/TD_RGB_E_Set3/61/61_TD_RGB_E_4.jpg\n",
      "195...59_TD_RGB_E_5.jpg...../data/TD_RGB_E/TD_RGB_E_Set3/59/59_TD_RGB_E_5.jpg\n",
      "196...59_TD_RGB_E_4.jpg...../data/TD_RGB_E/TD_RGB_E_Set3/59/59_TD_RGB_E_4.jpg\n",
      "197...59_TD_RGB_E_1.jpg...../data/TD_RGB_E/TD_RGB_E_Set3/59/59_TD_RGB_E_1.jpg\n",
      "198...59_TD_RGB_E_3.jpg...../data/TD_RGB_E/TD_RGB_E_Set3/59/59_TD_RGB_E_3.jpg\n",
      "199...59_TD_RGB_E_2.jpg...../data/TD_RGB_E/TD_RGB_E_Set3/59/59_TD_RGB_E_2.jpg\n",
      "200...66_TD_RGB_E_3.jpg...../data/TD_RGB_E/TD_RGB_E_Set3/66/66_TD_RGB_E_3.jpg\n",
      "201...66_TD_RGB_E_2.jpg...../data/TD_RGB_E/TD_RGB_E_Set3/66/66_TD_RGB_E_2.jpg\n",
      "202...66_TD_RGB_E_1.jpg...../data/TD_RGB_E/TD_RGB_E_Set3/66/66_TD_RGB_E_1.jpg\n",
      "203...66_TD_RGB_E_5.jpg...../data/TD_RGB_E/TD_RGB_E_Set3/66/66_TD_RGB_E_5.jpg\n",
      "204...66_TD_RGB_E_4.jpg...../data/TD_RGB_E/TD_RGB_E_Set3/66/66_TD_RGB_E_4.jpg\n",
      "205...68_TD_RGB_E_5.jpg...../data/TD_RGB_E/TD_RGB_E_Set3/68/68_TD_RGB_E_5.jpg\n",
      "206...68_TD_RGB_E_4.jpg...../data/TD_RGB_E/TD_RGB_E_Set3/68/68_TD_RGB_E_4.jpg\n",
      "207...68_TD_RGB_E_3.jpg...../data/TD_RGB_E/TD_RGB_E_Set3/68/68_TD_RGB_E_3.jpg\n",
      "208...68_TD_RGB_E_2.jpg...../data/TD_RGB_E/TD_RGB_E_Set3/68/68_TD_RGB_E_2.jpg\n",
      "209...68_TD_RGB_E_1.jpg...../data/TD_RGB_E/TD_RGB_E_Set3/68/68_TD_RGB_E_1.jpg\n",
      "210...57_TD_RGB_E_1.jpg...../data/TD_RGB_E/TD_RGB_E_Set3/57/57_TD_RGB_E_1.jpg\n",
      "211...57_TD_RGB_E_3.jpg...../data/TD_RGB_E/TD_RGB_E_Set3/57/57_TD_RGB_E_3.jpg\n",
      "212...57_TD_RGB_E_2.jpg...../data/TD_RGB_E/TD_RGB_E_Set3/57/57_TD_RGB_E_2.jpg\n",
      "213...57_TD_RGB_E_5.jpg...../data/TD_RGB_E/TD_RGB_E_Set3/57/57_TD_RGB_E_5.jpg\n",
      "214...57_TD_RGB_E_4.jpg...../data/TD_RGB_E/TD_RGB_E_Set3/57/57_TD_RGB_E_4.jpg\n",
      "215...69_TD_RGB_E_1.jpg...../data/TD_RGB_E/TD_RGB_E_Set3/69/69_TD_RGB_E_1.jpg\n",
      "216...69_TD_RGB_E_2.jpg...../data/TD_RGB_E/TD_RGB_E_Set3/69/69_TD_RGB_E_2.jpg\n",
      "217...69_TD_RGB_E_3.jpg...../data/TD_RGB_E/TD_RGB_E_Set3/69/69_TD_RGB_E_3.jpg\n",
      "218...69_TD_RGB_E_4.jpg...../data/TD_RGB_E/TD_RGB_E_Set3/69/69_TD_RGB_E_4.jpg\n",
      "219...69_TD_RGB_E_5.jpg...../data/TD_RGB_E/TD_RGB_E_Set3/69/69_TD_RGB_E_5.jpg\n",
      "220...56_TD_RGB_E_4.jpg...../data/TD_RGB_E/TD_RGB_E_Set3/56/56_TD_RGB_E_4.jpg\n",
      "221...56_TD_RGB_E_5.jpg...../data/TD_RGB_E/TD_RGB_E_Set3/56/56_TD_RGB_E_5.jpg\n",
      "222...56_TD_RGB_E_2.jpg...../data/TD_RGB_E/TD_RGB_E_Set3/56/56_TD_RGB_E_2.jpg\n",
      "223...56_TD_RGB_E_3.jpg...../data/TD_RGB_E/TD_RGB_E_Set3/56/56_TD_RGB_E_3.jpg\n",
      "224...56_TD_RGB_E_1.jpg...../data/TD_RGB_E/TD_RGB_E_Set3/56/56_TD_RGB_E_1.jpg\n",
      "225...51_TD_RGB_E_4.jpg...../data/TD_RGB_E/TD_RGB_E_Set3/51/51_TD_RGB_E_4.jpg\n",
      "226...51_TD_RGB_E_5.jpg...../data/TD_RGB_E/TD_RGB_E_Set3/51/51_TD_RGB_E_5.jpg\n",
      "227...51_TD_RGB_E_1.jpg...../data/TD_RGB_E/TD_RGB_E_Set3/51/51_TD_RGB_E_1.jpg\n",
      "228...51_TD_RGB_E_2.jpg...../data/TD_RGB_E/TD_RGB_E_Set3/51/51_TD_RGB_E_2.jpg\n",
      "229...51_TD_RGB_E_3.jpg...../data/TD_RGB_E/TD_RGB_E_Set3/51/51_TD_RGB_E_3.jpg\n",
      "230...58_TD_RGB_E_2.jpg...../data/TD_RGB_E/TD_RGB_E_Set3/58/58_TD_RGB_E_2.jpg\n",
      "231...58_TD_RGB_E_3.jpg...../data/TD_RGB_E/TD_RGB_E_Set3/58/58_TD_RGB_E_3.jpg\n",
      "232...58_TD_RGB_E_1.jpg...../data/TD_RGB_E/TD_RGB_E_Set3/58/58_TD_RGB_E_1.jpg\n",
      "233...58_TD_RGB_E_4.jpg...../data/TD_RGB_E/TD_RGB_E_Set3/58/58_TD_RGB_E_4.jpg\n",
      "234...58_TD_RGB_E_5.jpg...../data/TD_RGB_E/TD_RGB_E_Set3/58/58_TD_RGB_E_5.jpg\n",
      "235...67_TD_RGB_E_4.jpg...../data/TD_RGB_E/TD_RGB_E_Set3/67/67_TD_RGB_E_4.jpg\n",
      "236...67_TD_RGB_E_5.jpg...../data/TD_RGB_E/TD_RGB_E_Set3/67/67_TD_RGB_E_5.jpg\n",
      "237...67_TD_RGB_E_1.jpg...../data/TD_RGB_E/TD_RGB_E_Set3/67/67_TD_RGB_E_1.jpg\n",
      "238...67_TD_RGB_E_2.jpg...../data/TD_RGB_E/TD_RGB_E_Set3/67/67_TD_RGB_E_2.jpg\n",
      "239...67_TD_RGB_E_3.jpg...../data/TD_RGB_E/TD_RGB_E_Set3/67/67_TD_RGB_E_3.jpg\n",
      "240...60_TD_RGB_E_4.jpg...../data/TD_RGB_E/TD_RGB_E_Set3/60/60_TD_RGB_E_4.jpg\n",
      "241...60_TD_RGB_E_5.jpg...../data/TD_RGB_E/TD_RGB_E_Set3/60/60_TD_RGB_E_5.jpg\n",
      "242...60_TD_RGB_E_2.jpg...../data/TD_RGB_E/TD_RGB_E_Set3/60/60_TD_RGB_E_2.jpg\n",
      "243...60_TD_RGB_E_3.jpg...../data/TD_RGB_E/TD_RGB_E_Set3/60/60_TD_RGB_E_3.jpg\n",
      "244...60_TD_RGB_E_1.jpg...../data/TD_RGB_E/TD_RGB_E_Set3/60/60_TD_RGB_E_1.jpg\n",
      "245...73_TD_RGB_E_3.jpg...../data/TD_RGB_E/TD_RGB_E_Set3/73/73_TD_RGB_E_3.jpg\n",
      "246...73_TD_RGB_E_2.jpg...../data/TD_RGB_E/TD_RGB_E_Set3/73/73_TD_RGB_E_2.jpg\n",
      "247...73_TD_RGB_E_1.jpg...../data/TD_RGB_E/TD_RGB_E_Set3/73/73_TD_RGB_E_1.jpg\n",
      "248...73_TD_RGB_E_5.jpg...../data/TD_RGB_E/TD_RGB_E_Set3/73/73_TD_RGB_E_5.jpg\n",
      "249...73_TD_RGB_E_4.jpg...../data/TD_RGB_E/TD_RGB_E_Set3/73/73_TD_RGB_E_4.jpg\n",
      "250...74_TD_RGB_E_1.jpg...../data/TD_RGB_E/TD_RGB_E_Set3/74/74_TD_RGB_E_1.jpg\n",
      "251...74_TD_RGB_E_3.jpg...../data/TD_RGB_E/TD_RGB_E_Set3/74/74_TD_RGB_E_3.jpg\n",
      "252...74_TD_RGB_E_2.jpg...../data/TD_RGB_E/TD_RGB_E_Set3/74/74_TD_RGB_E_2.jpg\n",
      "253...74_TD_RGB_E_5.jpg...../data/TD_RGB_E/TD_RGB_E_Set3/74/74_TD_RGB_E_5.jpg\n",
      "254...74_TD_RGB_E_4.jpg...../data/TD_RGB_E/TD_RGB_E_Set3/74/74_TD_RGB_E_4.jpg\n",
      "255...75_TD_RGB_E_4.jpg...../data/TD_RGB_E/TD_RGB_E_Set3/75/75_TD_RGB_E_4.jpg\n",
      "256...75_TD_RGB_E_5.jpg...../data/TD_RGB_E/TD_RGB_E_Set3/75/75_TD_RGB_E_5.jpg\n",
      "257...75_TD_RGB_E_2.jpg...../data/TD_RGB_E/TD_RGB_E_Set3/75/75_TD_RGB_E_2.jpg\n",
      "258...75_TD_RGB_E_3.jpg...../data/TD_RGB_E/TD_RGB_E_Set3/75/75_TD_RGB_E_3.jpg\n",
      "259...75_TD_RGB_E_1.jpg...../data/TD_RGB_E/TD_RGB_E_Set3/75/75_TD_RGB_E_1.jpg\n",
      "260...72_TD_RGB_E_4.jpg...../data/TD_RGB_E/TD_RGB_E_Set3/72/72_TD_RGB_E_4.jpg\n",
      "261...72_TD_RGB_E_5.jpg...../data/TD_RGB_E/TD_RGB_E_Set3/72/72_TD_RGB_E_5.jpg\n",
      "262...72_TD_RGB_E_1.jpg...../data/TD_RGB_E/TD_RGB_E_Set3/72/72_TD_RGB_E_1.jpg\n",
      "263...72_TD_RGB_E_2.jpg...../data/TD_RGB_E/TD_RGB_E_Set3/72/72_TD_RGB_E_2.jpg\n",
      "264...72_TD_RGB_E_3.jpg...../data/TD_RGB_E/TD_RGB_E_Set3/72/72_TD_RGB_E_3.jpg\n",
      "265...65_TD_RGB_E_2.jpg...../data/TD_RGB_E/TD_RGB_E_Set3/65/65_TD_RGB_E_2.jpg\n",
      "266...65_TD_RGB_E_3.jpg...../data/TD_RGB_E/TD_RGB_E_Set3/65/65_TD_RGB_E_3.jpg\n",
      "267...65_TD_RGB_E_1.jpg...../data/TD_RGB_E/TD_RGB_E_Set3/65/65_TD_RGB_E_1.jpg\n",
      "268...65_TD_RGB_E_4.jpg...../data/TD_RGB_E/TD_RGB_E_Set3/65/65_TD_RGB_E_4.jpg\n",
      "269...65_TD_RGB_E_5.jpg...../data/TD_RGB_E/TD_RGB_E_Set3/65/65_TD_RGB_E_5.jpg\n",
      "270...62_TD_RGB_E_1.jpg...../data/TD_RGB_E/TD_RGB_E_Set3/62/62_TD_RGB_E_1.jpg\n",
      "271...62_TD_RGB_E_2.jpg...../data/TD_RGB_E/TD_RGB_E_Set3/62/62_TD_RGB_E_2.jpg\n",
      "272...62_TD_RGB_E_3.jpg...../data/TD_RGB_E/TD_RGB_E_Set3/62/62_TD_RGB_E_3.jpg\n",
      "273...62_TD_RGB_E_4.jpg...../data/TD_RGB_E/TD_RGB_E_Set3/62/62_TD_RGB_E_4.jpg\n",
      "274...62_TD_RGB_E_5.jpg...../data/TD_RGB_E/TD_RGB_E_Set3/62/62_TD_RGB_E_5.jpg\n",
      "275...54_TD_RGB_E_1.jpg...../data/TD_RGB_E/TD_RGB_E_Set3/54/54_TD_RGB_E_1.jpg\n",
      "276...54_TD_RGB_E_2.jpg...../data/TD_RGB_E/TD_RGB_E_Set3/54/54_TD_RGB_E_2.jpg\n",
      "277...54_TD_RGB_E_3.jpg...../data/TD_RGB_E/TD_RGB_E_Set3/54/54_TD_RGB_E_3.jpg\n",
      "278...54_TD_RGB_E_4.jpg...../data/TD_RGB_E/TD_RGB_E_Set3/54/54_TD_RGB_E_4.jpg\n",
      "279...54_TD_RGB_E_5.jpg...../data/TD_RGB_E/TD_RGB_E_Set3/54/54_TD_RGB_E_5.jpg\n",
      "280...53_TD_RGB_E_2.jpg...../data/TD_RGB_E/TD_RGB_E_Set3/53/53_TD_RGB_E_2.jpg\n",
      "281...53_TD_RGB_E_3.jpg...../data/TD_RGB_E/TD_RGB_E_Set3/53/53_TD_RGB_E_3.jpg\n",
      "282...53_TD_RGB_E_1.jpg...../data/TD_RGB_E/TD_RGB_E_Set3/53/53_TD_RGB_E_1.jpg\n",
      "283...53_TD_RGB_E_4.jpg...../data/TD_RGB_E/TD_RGB_E_Set3/53/53_TD_RGB_E_4.jpg\n",
      "284...53_TD_RGB_E_5.jpg...../data/TD_RGB_E/TD_RGB_E_Set3/53/53_TD_RGB_E_5.jpg\n",
      "285...52_TD_RGB_E_5.jpg...../data/TD_RGB_E/TD_RGB_E_Set3/52/52_TD_RGB_E_5.jpg\n",
      "286...52_TD_RGB_E_4.jpg...../data/TD_RGB_E/TD_RGB_E_Set3/52/52_TD_RGB_E_4.jpg\n",
      "287...52_TD_RGB_E_1.jpg...../data/TD_RGB_E/TD_RGB_E_Set3/52/52_TD_RGB_E_1.jpg\n",
      "288...52_TD_RGB_E_3.jpg...../data/TD_RGB_E/TD_RGB_E_Set3/52/52_TD_RGB_E_3.jpg\n",
      "289...52_TD_RGB_E_2.jpg...../data/TD_RGB_E/TD_RGB_E_Set3/52/52_TD_RGB_E_2.jpg\n",
      "290...55_TD_RGB_E_5.jpg...../data/TD_RGB_E/TD_RGB_E_Set3/55/55_TD_RGB_E_5.jpg\n",
      "291...55_TD_RGB_E_4.jpg...../data/TD_RGB_E/TD_RGB_E_Set3/55/55_TD_RGB_E_4.jpg\n",
      "292...55_TD_RGB_E_3.jpg...../data/TD_RGB_E/TD_RGB_E_Set3/55/55_TD_RGB_E_3.jpg\n",
      "293...55_TD_RGB_E_2.jpg...../data/TD_RGB_E/TD_RGB_E_Set3/55/55_TD_RGB_E_2.jpg\n",
      "294...55_TD_RGB_E_1.jpg...../data/TD_RGB_E/TD_RGB_E_Set3/55/55_TD_RGB_E_1.jpg\n",
      "295...63_TD_RGB_E_5.jpg...../data/TD_RGB_E/TD_RGB_E_Set3/63/63_TD_RGB_E_5.jpg\n",
      "296...63_TD_RGB_E_4.jpg...../data/TD_RGB_E/TD_RGB_E_Set3/63/63_TD_RGB_E_4.jpg\n",
      "297...63_TD_RGB_E_3.jpg...../data/TD_RGB_E/TD_RGB_E_Set3/63/63_TD_RGB_E_3.jpg\n",
      "298...63_TD_RGB_E_2.jpg...../data/TD_RGB_E/TD_RGB_E_Set3/63/63_TD_RGB_E_2.jpg\n",
      "299...63_TD_RGB_E_1.jpg...../data/TD_RGB_E/TD_RGB_E_Set3/63/63_TD_RGB_E_1.jpg\n",
      "300...64_TD_RGB_E_5.jpg...../data/TD_RGB_E/TD_RGB_E_Set3/64/64_TD_RGB_E_5.jpg\n",
      "301...64_TD_RGB_E_4.jpg...../data/TD_RGB_E/TD_RGB_E_Set3/64/64_TD_RGB_E_4.jpg\n",
      "302...64_TD_RGB_E_1.jpg...../data/TD_RGB_E/TD_RGB_E_Set3/64/64_TD_RGB_E_1.jpg\n",
      "303...64_TD_RGB_E_3.jpg...../data/TD_RGB_E/TD_RGB_E_Set3/64/64_TD_RGB_E_3.jpg\n",
      "304...64_TD_RGB_E_2.jpg...../data/TD_RGB_E/TD_RGB_E_Set3/64/64_TD_RGB_E_2.jpg\n",
      "305...70_TD_RGB_E_2.jpg...../data/TD_RGB_E/TD_RGB_E_Set3/70/70_TD_RGB_E_2.jpg\n",
      "306...70_TD_RGB_E_3.jpg...../data/TD_RGB_E/TD_RGB_E_Set3/70/70_TD_RGB_E_3.jpg\n",
      "307...70_TD_RGB_E_1.jpg...../data/TD_RGB_E/TD_RGB_E_Set3/70/70_TD_RGB_E_1.jpg\n",
      "308...70_TD_RGB_E_4.jpg...../data/TD_RGB_E/TD_RGB_E_Set3/70/70_TD_RGB_E_4.jpg\n",
      "309...70_TD_RGB_E_5.jpg...../data/TD_RGB_E/TD_RGB_E_Set3/70/70_TD_RGB_E_5.jpg\n",
      "310...71_TD_RGB_E_5.jpg...../data/TD_RGB_E/TD_RGB_E_Set3/71/71_TD_RGB_E_5.jpg\n",
      "311...71_TD_RGB_E_4.jpg...../data/TD_RGB_E/TD_RGB_E_Set3/71/71_TD_RGB_E_4.jpg\n",
      "312...71_TD_RGB_E_1.jpg...../data/TD_RGB_E/TD_RGB_E_Set3/71/71_TD_RGB_E_1.jpg\n",
      "313...71_TD_RGB_E_3.jpg...../data/TD_RGB_E/TD_RGB_E_Set3/71/71_TD_RGB_E_3.jpg\n",
      "314...71_TD_RGB_E_2.jpg...../data/TD_RGB_E/TD_RGB_E_Set3/71/71_TD_RGB_E_2.jpg\n",
      "315...50_TD_RGB_E_3.jpg...../data/TD_RGB_E/TD_RGB_E_Set2/50/50_TD_RGB_E_3.jpg\n",
      "316...50_TD_RGB_E_2.jpg...../data/TD_RGB_E/TD_RGB_E_Set2/50/50_TD_RGB_E_2.jpg\n",
      "317...50_TD_RGB_E_1.jpg...../data/TD_RGB_E/TD_RGB_E_Set2/50/50_TD_RGB_E_1.jpg\n",
      "318...50_TD_RGB_E_5.jpg...../data/TD_RGB_E/TD_RGB_E_Set2/50/50_TD_RGB_E_5.jpg\n",
      "319...50_TD_RGB_E_4.jpg...../data/TD_RGB_E/TD_RGB_E_Set2/50/50_TD_RGB_E_4.jpg\n",
      "320...32_TD_RGB_E_4.jpg...../data/TD_RGB_E/TD_RGB_E_Set2/32/32_TD_RGB_E_4.jpg\n",
      "321...32_TD_RGB_E_5.jpg...../data/TD_RGB_E/TD_RGB_E_Set2/32/32_TD_RGB_E_5.jpg\n",
      "322...32_TD_RGB_E_2.jpg...../data/TD_RGB_E/TD_RGB_E_Set2/32/32_TD_RGB_E_2.jpg\n",
      "323...32_TD_RGB_E_3.jpg...../data/TD_RGB_E/TD_RGB_E_Set2/32/32_TD_RGB_E_3.jpg\n",
      "324...32_TD_RGB_E_1.jpg...../data/TD_RGB_E/TD_RGB_E_Set2/32/32_TD_RGB_E_1.jpg\n",
      "325...35_TD_RGB_E_4.jpg...../data/TD_RGB_E/TD_RGB_E_Set2/35/35_TD_RGB_E_4.jpg\n",
      "326...35_TD_RGB_E_5.jpg...../data/TD_RGB_E/TD_RGB_E_Set2/35/35_TD_RGB_E_5.jpg\n",
      "327...35_TD_RGB_E_1.jpg...../data/TD_RGB_E/TD_RGB_E_Set2/35/35_TD_RGB_E_1.jpg\n",
      "328...35_TD_RGB_E_2.jpg...../data/TD_RGB_E/TD_RGB_E_Set2/35/35_TD_RGB_E_2.jpg\n",
      "329...35_TD_RGB_E_3.jpg...../data/TD_RGB_E/TD_RGB_E_Set2/35/35_TD_RGB_E_3.jpg\n",
      "330...34_TD_RGB_E_3.jpg...../data/TD_RGB_E/TD_RGB_E_Set2/34/34_TD_RGB_E_3.jpg\n",
      "331...34_TD_RGB_E_2.jpg...../data/TD_RGB_E/TD_RGB_E_Set2/34/34_TD_RGB_E_2.jpg\n",
      "332...34_TD_RGB_E_1.jpg...../data/TD_RGB_E/TD_RGB_E_Set2/34/34_TD_RGB_E_1.jpg\n",
      "333...34_TD_RGB_E_5.jpg...../data/TD_RGB_E/TD_RGB_E_Set2/34/34_TD_RGB_E_5.jpg\n",
      "334...34_TD_RGB_E_4.jpg...../data/TD_RGB_E/TD_RGB_E_Set2/34/34_TD_RGB_E_4.jpg\n",
      "335...33_TD_RGB_E_1.jpg...../data/TD_RGB_E/TD_RGB_E_Set2/33/33_TD_RGB_E_1.jpg\n",
      "336...33_TD_RGB_E_3.jpg...../data/TD_RGB_E/TD_RGB_E_Set2/33/33_TD_RGB_E_3.jpg\n",
      "337...33_TD_RGB_E_2.jpg...../data/TD_RGB_E/TD_RGB_E_Set2/33/33_TD_RGB_E_2.jpg\n",
      "338...33_TD_RGB_E_5.jpg...../data/TD_RGB_E/TD_RGB_E_Set2/33/33_TD_RGB_E_5.jpg\n",
      "339...33_TD_RGB_E_4.jpg...../data/TD_RGB_E/TD_RGB_E_Set2/33/33_TD_RGB_E_4.jpg\n",
      "340...27_TD_RGB_E_4.jpg...../data/TD_RGB_E/TD_RGB_E_Set2/27/27_TD_RGB_E_4.jpg\n",
      "341...27_TD_RGB_E_5.jpg...../data/TD_RGB_E/TD_RGB_E_Set2/27/27_TD_RGB_E_5.jpg\n",
      "342...27_TD_RGB_E_2.jpg...../data/TD_RGB_E/TD_RGB_E_Set2/27/27_TD_RGB_E_2.jpg\n",
      "343...27_TD_RGB_E_3.jpg...../data/TD_RGB_E/TD_RGB_E_Set2/27/27_TD_RGB_E_3.jpg\n",
      "344...27_TD_RGB_E_1.jpg...../data/TD_RGB_E/TD_RGB_E_Set2/27/27_TD_RGB_E_1.jpg\n",
      "345...29_TD_RGB_E_2.jpg...../data/TD_RGB_E/TD_RGB_E_Set2/29/29_TD_RGB_E_2.jpg\n",
      "346...29_TD_RGB_E_3.jpg...../data/TD_RGB_E/TD_RGB_E_Set2/29/29_TD_RGB_E_3.jpg\n",
      "347...29_TD_RGB_E_1.jpg...../data/TD_RGB_E/TD_RGB_E_Set2/29/29_TD_RGB_E_1.jpg\n",
      "348...29_TD_RGB_E_4.jpg...../data/TD_RGB_E/TD_RGB_E_Set2/29/29_TD_RGB_E_4.jpg\n",
      "349...29_TD_RGB_E_5.jpg...../data/TD_RGB_E/TD_RGB_E_Set2/29/29_TD_RGB_E_5.jpg\n",
      "350...42_TD_RGB_E_1.jpg...../data/TD_RGB_E/TD_RGB_E_Set2/42/42_TD_RGB_E_1.jpg\n",
      "351...42_TD_RGB_E_3.jpg...../data/TD_RGB_E/TD_RGB_E_Set2/42/42_TD_RGB_E_3.jpg\n",
      "352...42_TD_RGB_E_2.jpg...../data/TD_RGB_E/TD_RGB_E_Set2/42/42_TD_RGB_E_2.jpg\n",
      "353...42_TD_RGB_E_5.jpg...../data/TD_RGB_E/TD_RGB_E_Set2/42/42_TD_RGB_E_5.jpg\n",
      "354...42_TD_RGB_E_4.jpg...../data/TD_RGB_E/TD_RGB_E_Set2/42/42_TD_RGB_E_4.jpg\n",
      "355...45_TD_RGB_E_3.jpg...../data/TD_RGB_E/TD_RGB_E_Set2/45/45_TD_RGB_E_3.jpg\n",
      "356...45_TD_RGB_E_2.jpg...../data/TD_RGB_E/TD_RGB_E_Set2/45/45_TD_RGB_E_2.jpg\n",
      "357...45_TD_RGB_E_1.jpg...../data/TD_RGB_E/TD_RGB_E_Set2/45/45_TD_RGB_E_1.jpg\n",
      "358...45_TD_RGB_E_5.jpg...../data/TD_RGB_E/TD_RGB_E_Set2/45/45_TD_RGB_E_5.jpg\n",
      "359...45_TD_RGB_E_4.jpg...../data/TD_RGB_E/TD_RGB_E_Set2/45/45_TD_RGB_E_4.jpg\n",
      "360...28_TD_RGB_E_5.jpg...../data/TD_RGB_E/TD_RGB_E_Set2/28/28_TD_RGB_E_5.jpg\n",
      "361...28_TD_RGB_E_4.jpg...../data/TD_RGB_E/TD_RGB_E_Set2/28/28_TD_RGB_E_4.jpg\n",
      "362...28_TD_RGB_E_1.jpg...../data/TD_RGB_E/TD_RGB_E_Set2/28/28_TD_RGB_E_1.jpg\n",
      "363...28_TD_RGB_E_3.jpg...../data/TD_RGB_E/TD_RGB_E_Set2/28/28_TD_RGB_E_3.jpg\n",
      "364...28_TD_RGB_E_2.jpg...../data/TD_RGB_E/TD_RGB_E_Set2/28/28_TD_RGB_E_2.jpg\n",
      "365...26_TD_RGB_E_1.jpg...../data/TD_RGB_E/TD_RGB_E_Set2/26/26_TD_RGB_E_1.jpg\n",
      "366...26_TD_RGB_E_3.jpg...../data/TD_RGB_E/TD_RGB_E_Set2/26/26_TD_RGB_E_3.jpg\n",
      "367...26_TD_RGB_E_2.jpg...../data/TD_RGB_E/TD_RGB_E_Set2/26/26_TD_RGB_E_2.jpg\n",
      "368...26_TD_RGB_E_5.jpg...../data/TD_RGB_E/TD_RGB_E_Set2/26/26_TD_RGB_E_5.jpg\n",
      "369...26_TD_RGB_E_4.jpg...../data/TD_RGB_E/TD_RGB_E_Set2/26/26_TD_RGB_E_4.jpg\n",
      "370...44_TD_RGB_E_4.jpg...../data/TD_RGB_E/TD_RGB_E_Set2/44/44_TD_RGB_E_4.jpg\n",
      "371...44_TD_RGB_E_5.jpg...../data/TD_RGB_E/TD_RGB_E_Set2/44/44_TD_RGB_E_5.jpg\n",
      "372...44_TD_RGB_E_1.jpg...../data/TD_RGB_E/TD_RGB_E_Set2/44/44_TD_RGB_E_1.jpg\n",
      "373...44_TD_RGB_E_2.jpg...../data/TD_RGB_E/TD_RGB_E_Set2/44/44_TD_RGB_E_2.jpg\n",
      "374...44_TD_RGB_E_3.jpg...../data/TD_RGB_E/TD_RGB_E_Set2/44/44_TD_RGB_E_3.jpg\n",
      "375...43_TD_RGB_E_4.jpg...../data/TD_RGB_E/TD_RGB_E_Set2/43/43_TD_RGB_E_4.jpg\n",
      "376...43_TD_RGB_E_5.jpg...../data/TD_RGB_E/TD_RGB_E_Set2/43/43_TD_RGB_E_5.jpg\n",
      "377...43_TD_RGB_E_2.jpg...../data/TD_RGB_E/TD_RGB_E_Set2/43/43_TD_RGB_E_2.jpg\n",
      "378...43_TD_RGB_E_3.jpg...../data/TD_RGB_E/TD_RGB_E_Set2/43/43_TD_RGB_E_3.jpg\n",
      "379...43_TD_RGB_E_1.jpg...../data/TD_RGB_E/TD_RGB_E_Set2/43/43_TD_RGB_E_1.jpg\n",
      "380...38_TD_RGB_E_1.jpg...../data/TD_RGB_E/TD_RGB_E_Set2/38/38_TD_RGB_E_1.jpg\n",
      "381...38_TD_RGB_E_3.jpg...../data/TD_RGB_E/TD_RGB_E_Set2/38/38_TD_RGB_E_3.jpg\n",
      "382...38_TD_RGB_E_2.jpg...../data/TD_RGB_E/TD_RGB_E_Set2/38/38_TD_RGB_E_2.jpg\n",
      "383...38_TD_RGB_E_5.jpg...../data/TD_RGB_E/TD_RGB_E_Set2/38/38_TD_RGB_E_5.jpg\n",
      "384...38_TD_RGB_E_4.jpg...../data/TD_RGB_E/TD_RGB_E_Set2/38/38_TD_RGB_E_4.jpg\n",
      "385...36_TD_RGB_E_5.jpg...../data/TD_RGB_E/TD_RGB_E_Set2/36/36_TD_RGB_E_5.jpg\n",
      "386...36_TD_RGB_E_4.jpg...../data/TD_RGB_E/TD_RGB_E_Set2/36/36_TD_RGB_E_4.jpg\n",
      "387...36_TD_RGB_E_1.jpg...../data/TD_RGB_E/TD_RGB_E_Set2/36/36_TD_RGB_E_1.jpg\n",
      "388...36_TD_RGB_E_3.jpg...../data/TD_RGB_E/TD_RGB_E_Set2/36/36_TD_RGB_E_3.jpg\n",
      "389...36_TD_RGB_E_2.jpg...../data/TD_RGB_E/TD_RGB_E_Set2/36/36_TD_RGB_E_2.jpg\n",
      "390...31_TD_RGB_E_5.jpg...../data/TD_RGB_E/TD_RGB_E_Set2/31/31_TD_RGB_E_5.jpg\n",
      "391...31_TD_RGB_E_4.jpg...../data/TD_RGB_E/TD_RGB_E_Set2/31/31_TD_RGB_E_4.jpg\n",
      "392...31_TD_RGB_E_3.jpg...../data/TD_RGB_E/TD_RGB_E_Set2/31/31_TD_RGB_E_3.jpg\n",
      "393...31_TD_RGB_E_2.jpg...../data/TD_RGB_E/TD_RGB_E_Set2/31/31_TD_RGB_E_2.jpg\n",
      "394...31_TD_RGB_E_1.jpg...../data/TD_RGB_E/TD_RGB_E_Set2/31/31_TD_RGB_E_1.jpg\n",
      "395...30_TD_RGB_E_1.jpg...../data/TD_RGB_E/TD_RGB_E_Set2/30/30_TD_RGB_E_1.jpg\n",
      "396...30_TD_RGB_E_2.jpg...../data/TD_RGB_E/TD_RGB_E_Set2/30/30_TD_RGB_E_2.jpg\n",
      "397...30_TD_RGB_E_3.jpg...../data/TD_RGB_E/TD_RGB_E_Set2/30/30_TD_RGB_E_3.jpg\n",
      "398...30_TD_RGB_E_4.jpg...../data/TD_RGB_E/TD_RGB_E_Set2/30/30_TD_RGB_E_4.jpg\n",
      "399...30_TD_RGB_E_5.jpg...../data/TD_RGB_E/TD_RGB_E_Set2/30/30_TD_RGB_E_5.jpg\n",
      "400...37_TD_RGB_E_2.jpg...../data/TD_RGB_E/TD_RGB_E_Set2/37/37_TD_RGB_E_2.jpg\n",
      "401...37_TD_RGB_E_3.jpg...../data/TD_RGB_E/TD_RGB_E_Set2/37/37_TD_RGB_E_3.jpg\n",
      "402...37_TD_RGB_E_1.jpg...../data/TD_RGB_E/TD_RGB_E_Set2/37/37_TD_RGB_E_1.jpg\n",
      "403...37_TD_RGB_E_4.jpg...../data/TD_RGB_E/TD_RGB_E_Set2/37/37_TD_RGB_E_4.jpg\n",
      "404...37_TD_RGB_E_5.jpg...../data/TD_RGB_E/TD_RGB_E_Set2/37/37_TD_RGB_E_5.jpg\n",
      "405...39_TD_RGB_E_4.jpg...../data/TD_RGB_E/TD_RGB_E_Set2/39/39_TD_RGB_E_4.jpg\n",
      "406...39_TD_RGB_E_5.jpg...../data/TD_RGB_E/TD_RGB_E_Set2/39/39_TD_RGB_E_5.jpg\n",
      "407...39_TD_RGB_E_2.jpg...../data/TD_RGB_E/TD_RGB_E_Set2/39/39_TD_RGB_E_2.jpg\n",
      "408...39_TD_RGB_E_3.jpg...../data/TD_RGB_E/TD_RGB_E_Set2/39/39_TD_RGB_E_3.jpg\n",
      "409...39_TD_RGB_E_1.jpg...../data/TD_RGB_E/TD_RGB_E_Set2/39/39_TD_RGB_E_1.jpg\n",
      "410...46_TD_RGB_E_2.jpg...../data/TD_RGB_E/TD_RGB_E_Set2/46/46_TD_RGB_E_2.jpg\n",
      "411...46_TD_RGB_E_3.jpg...../data/TD_RGB_E/TD_RGB_E_Set2/46/46_TD_RGB_E_3.jpg\n",
      "412...46_TD_RGB_E_1.jpg...../data/TD_RGB_E/TD_RGB_E_Set2/46/46_TD_RGB_E_1.jpg\n",
      "413...46_TD_RGB_E_4.jpg...../data/TD_RGB_E/TD_RGB_E_Set2/46/46_TD_RGB_E_4.jpg\n",
      "414...46_TD_RGB_E_5.jpg...../data/TD_RGB_E/TD_RGB_E_Set2/46/46_TD_RGB_E_5.jpg\n",
      "415...41_TD_RGB_E_1.jpg...../data/TD_RGB_E/TD_RGB_E_Set2/41/41_TD_RGB_E_1.jpg\n",
      "416...41_TD_RGB_E_2.jpg...../data/TD_RGB_E/TD_RGB_E_Set2/41/41_TD_RGB_E_2.jpg\n",
      "417...41_TD_RGB_E_3.jpg...../data/TD_RGB_E/TD_RGB_E_Set2/41/41_TD_RGB_E_3.jpg\n",
      "418...41_TD_RGB_E_4.jpg...../data/TD_RGB_E/TD_RGB_E_Set2/41/41_TD_RGB_E_4.jpg\n",
      "419...41_TD_RGB_E_5.jpg...../data/TD_RGB_E/TD_RGB_E_Set2/41/41_TD_RGB_E_5.jpg\n",
      "420...48_TD_RGB_E_4.jpg...../data/TD_RGB_E/TD_RGB_E_Set2/48/48_TD_RGB_E_4.jpg\n",
      "421...48_TD_RGB_E_5.jpg...../data/TD_RGB_E/TD_RGB_E_Set2/48/48_TD_RGB_E_5.jpg\n",
      "422...48_TD_RGB_E_2.jpg...../data/TD_RGB_E/TD_RGB_E_Set2/48/48_TD_RGB_E_2.jpg\n",
      "423...48_TD_RGB_E_3.jpg...../data/TD_RGB_E/TD_RGB_E_Set2/48/48_TD_RGB_E_3.jpg\n",
      "424...48_TD_RGB_E_1.jpg...../data/TD_RGB_E/TD_RGB_E_Set2/48/48_TD_RGB_E_1.jpg\n",
      "425...49_TD_RGB_E_1.jpg...../data/TD_RGB_E/TD_RGB_E_Set2/49/49_TD_RGB_E_1.jpg\n",
      "426...49_TD_RGB_E_3.jpg...../data/TD_RGB_E/TD_RGB_E_Set2/49/49_TD_RGB_E_3.jpg\n",
      "427...49_TD_RGB_E_2.jpg...../data/TD_RGB_E/TD_RGB_E_Set2/49/49_TD_RGB_E_2.jpg\n",
      "428...49_TD_RGB_E_5.jpg...../data/TD_RGB_E/TD_RGB_E_Set2/49/49_TD_RGB_E_5.jpg\n",
      "429...49_TD_RGB_E_4.jpg...../data/TD_RGB_E/TD_RGB_E_Set2/49/49_TD_RGB_E_4.jpg\n",
      "430...40_TD_RGB_E_5.jpg...../data/TD_RGB_E/TD_RGB_E_Set2/40/40_TD_RGB_E_5.jpg\n",
      "431...40_TD_RGB_E_4.jpg...../data/TD_RGB_E/TD_RGB_E_Set2/40/40_TD_RGB_E_4.jpg\n",
      "432...40_TD_RGB_E_3.jpg...../data/TD_RGB_E/TD_RGB_E_Set2/40/40_TD_RGB_E_3.jpg\n",
      "433...40_TD_RGB_E_2.jpg...../data/TD_RGB_E/TD_RGB_E_Set2/40/40_TD_RGB_E_2.jpg\n",
      "434...40_TD_RGB_E_1.jpg...../data/TD_RGB_E/TD_RGB_E_Set2/40/40_TD_RGB_E_1.jpg\n",
      "435...20_TD_RGB_E_4.jpg...../data/TD_RGB_E/TD_RGB_E_Set1/20/20_TD_RGB_E_4.jpg\n",
      "436...20_TD_RGB_E_5.jpg...../data/TD_RGB_E/TD_RGB_E_Set1/20/20_TD_RGB_E_5.jpg\n",
      "437...20_TD_RGB_E_1.jpg...../data/TD_RGB_E/TD_RGB_E_Set1/20/20_TD_RGB_E_1.jpg\n",
      "438...20_TD_RGB_E_2.jpg...../data/TD_RGB_E/TD_RGB_E_Set1/20/20_TD_RGB_E_2.jpg\n",
      "439...20_TD_RGB_E_3.jpg...../data/TD_RGB_E/TD_RGB_E_Set1/20/20_TD_RGB_E_3.jpg\n",
      "440...18_TD_RGB_E_1.jpg...../data/TD_RGB_E/TD_RGB_E_Set1/18/18_TD_RGB_E_1.jpg\n",
      "441...18_TD_RGB_E_2.jpg...../data/TD_RGB_E/TD_RGB_E_Set1/18/18_TD_RGB_E_2.jpg\n",
      "442...18_TD_RGB_E_3.jpg...../data/TD_RGB_E/TD_RGB_E_Set1/18/18_TD_RGB_E_3.jpg\n",
      "443...18_TD_RGB_E_4.jpg...../data/TD_RGB_E/TD_RGB_E_Set1/18/18_TD_RGB_E_4.jpg\n",
      "444...18_TD_RGB_E_5.jpg...../data/TD_RGB_E/TD_RGB_E_Set1/18/18_TD_RGB_E_5.jpg\n",
      "445...9_TD_RGB_E_4.jpg...../data/TD_RGB_E/TD_RGB_E_Set1/9/9_TD_RGB_E_4.jpg\n",
      "446...9_TD_RGB_E_5.jpg...../data/TD_RGB_E/TD_RGB_E_Set1/9/9_TD_RGB_E_5.jpg\n",
      "447...9_TD_RGB_E_2.jpg...../data/TD_RGB_E/TD_RGB_E_Set1/9/9_TD_RGB_E_2.jpg\n",
      "448...9_TD_RGB_E_3.jpg...../data/TD_RGB_E/TD_RGB_E_Set1/9/9_TD_RGB_E_3.jpg\n",
      "449...9_TD_RGB_E_1.jpg...../data/TD_RGB_E/TD_RGB_E_Set1/9/9_TD_RGB_E_1.jpg\n",
      "450...11_TD_RGB_E_4.jpg...../data/TD_RGB_E/TD_RGB_E_Set1/11/11_TD_RGB_E_4.jpg\n",
      "451...11_TD_RGB_E_5.jpg...../data/TD_RGB_E/TD_RGB_E_Set1/11/11_TD_RGB_E_5.jpg\n",
      "452...11_TD_RGB_E_2.jpg...../data/TD_RGB_E/TD_RGB_E_Set1/11/11_TD_RGB_E_2.jpg\n",
      "453...11_TD_RGB_E_3.jpg...../data/TD_RGB_E/TD_RGB_E_Set1/11/11_TD_RGB_E_3.jpg\n",
      "454...11_TD_RGB_E_1.jpg...../data/TD_RGB_E/TD_RGB_E_Set1/11/11_TD_RGB_E_1.jpg\n",
      "455...7_TD_RGB_E_2.jpg...../data/TD_RGB_E/TD_RGB_E_Set1/7/7_TD_RGB_E_2.jpg\n",
      "456...7_TD_RGB_E_3.jpg...../data/TD_RGB_E/TD_RGB_E_Set1/7/7_TD_RGB_E_3.jpg\n",
      "457...7_TD_RGB_E_1.jpg...../data/TD_RGB_E/TD_RGB_E_Set1/7/7_TD_RGB_E_1.jpg\n",
      "458...7_TD_RGB_E_4.jpg...../data/TD_RGB_E/TD_RGB_E_Set1/7/7_TD_RGB_E_4.jpg\n",
      "459...7_TD_RGB_E_5.jpg...../data/TD_RGB_E/TD_RGB_E_Set1/7/7_TD_RGB_E_5.jpg\n",
      "460...16_TD_RGB_E_4.jpg...../data/TD_RGB_E/TD_RGB_E_Set1/16/16_TD_RGB_E_4.jpg\n",
      "461...16_TD_RGB_E_5.jpg...../data/TD_RGB_E/TD_RGB_E_Set1/16/16_TD_RGB_E_5.jpg\n",
      "462...16_TD_RGB_E_1.jpg...../data/TD_RGB_E/TD_RGB_E_Set1/16/16_TD_RGB_E_1.jpg\n",
      "463...16_TD_RGB_E_2.jpg...../data/TD_RGB_E/TD_RGB_E_Set1/16/16_TD_RGB_E_2.jpg\n",
      "464...16_TD_RGB_E_3.jpg...../data/TD_RGB_E/TD_RGB_E_Set1/16/16_TD_RGB_E_3.jpg\n",
      "465...6_TD_RGB_E_5.jpg...../data/TD_RGB_E/TD_RGB_E_Set1/6/6_TD_RGB_E_5.jpg\n",
      "466...6_TD_RGB_E_4.jpg...../data/TD_RGB_E/TD_RGB_E_Set1/6/6_TD_RGB_E_4.jpg\n",
      "467...6_TD_RGB_E_1.jpg...../data/TD_RGB_E/TD_RGB_E_Set1/6/6_TD_RGB_E_1.jpg\n",
      "468...6_TD_RGB_E_3.jpg...../data/TD_RGB_E/TD_RGB_E_Set1/6/6_TD_RGB_E_3.jpg\n",
      "469...6_TD_RGB_E_2.jpg...../data/TD_RGB_E/TD_RGB_E_Set1/6/6_TD_RGB_E_2.jpg\n",
      "470...17_TD_RGB_E_3.jpg...../data/TD_RGB_E/TD_RGB_E_Set1/17/17_TD_RGB_E_3.jpg\n",
      "471...17_TD_RGB_E_2.jpg...../data/TD_RGB_E/TD_RGB_E_Set1/17/17_TD_RGB_E_2.jpg\n",
      "472...17_TD_RGB_E_1.jpg...../data/TD_RGB_E/TD_RGB_E_Set1/17/17_TD_RGB_E_1.jpg\n",
      "473...17_TD_RGB_E_5.jpg...../data/TD_RGB_E/TD_RGB_E_Set1/17/17_TD_RGB_E_5.jpg\n",
      "474...17_TD_RGB_E_4.jpg...../data/TD_RGB_E/TD_RGB_E_Set1/17/17_TD_RGB_E_4.jpg\n",
      "475...1_TD_RGB_E_5.jpg...../data/TD_RGB_E/TD_RGB_E_Set1/1/1_TD_RGB_E_5.jpg\n",
      "476...1_TD_RGB_E_4.jpg...../data/TD_RGB_E/TD_RGB_E_Set1/1/1_TD_RGB_E_4.jpg\n",
      "477...1_TD_RGB_E_3.jpg...../data/TD_RGB_E/TD_RGB_E_Set1/1/1_TD_RGB_E_3.jpg\n",
      "478...1_TD_RGB_E_2.jpg...../data/TD_RGB_E/TD_RGB_E_Set1/1/1_TD_RGB_E_2.jpg\n",
      "479...1_TD_RGB_E_1.jpg...../data/TD_RGB_E/TD_RGB_E_Set1/1/1_TD_RGB_E_1.jpg\n",
      "480...10_TD_RGB_E_1.jpg...../data/TD_RGB_E/TD_RGB_E_Set1/10/10_TD_RGB_E_1.jpg\n",
      "481...10_TD_RGB_E_3.jpg...../data/TD_RGB_E/TD_RGB_E_Set1/10/10_TD_RGB_E_3.jpg\n",
      "482...10_TD_RGB_E_2.jpg...../data/TD_RGB_E/TD_RGB_E_Set1/10/10_TD_RGB_E_2.jpg\n",
      "483...10_TD_RGB_E_5.jpg...../data/TD_RGB_E/TD_RGB_E_Set1/10/10_TD_RGB_E_5.jpg\n",
      "484...10_TD_RGB_E_4.jpg...../data/TD_RGB_E/TD_RGB_E_Set1/10/10_TD_RGB_E_4.jpg\n",
      "485...19_TD_RGB_E_5.jpg...../data/TD_RGB_E/TD_RGB_E_Set1/19/19_TD_RGB_E_5.jpg\n",
      "486...19_TD_RGB_E_4.jpg...../data/TD_RGB_E/TD_RGB_E_Set1/19/19_TD_RGB_E_4.jpg\n",
      "487...19_TD_RGB_E_3.jpg...../data/TD_RGB_E/TD_RGB_E_Set1/19/19_TD_RGB_E_3.jpg\n",
      "488...19_TD_RGB_E_2.jpg...../data/TD_RGB_E/TD_RGB_E_Set1/19/19_TD_RGB_E_2.jpg\n",
      "489...19_TD_RGB_E_1.jpg...../data/TD_RGB_E/TD_RGB_E_Set1/19/19_TD_RGB_E_1.jpg\n",
      "490...8_TD_RGB_E_1.jpg...../data/TD_RGB_E/TD_RGB_E_Set1/8/8_TD_RGB_E_1.jpg\n",
      "491...8_TD_RGB_E_3.jpg...../data/TD_RGB_E/TD_RGB_E_Set1/8/8_TD_RGB_E_3.jpg\n",
      "492...8_TD_RGB_E_2.jpg...../data/TD_RGB_E/TD_RGB_E_Set1/8/8_TD_RGB_E_2.jpg\n",
      "493...8_TD_RGB_E_5.jpg...../data/TD_RGB_E/TD_RGB_E_Set1/8/8_TD_RGB_E_5.jpg\n",
      "494...8_TD_RGB_E_4.jpg...../data/TD_RGB_E/TD_RGB_E_Set1/8/8_TD_RGB_E_4.jpg\n",
      "495...21_TD_RGB_E_3.jpg...../data/TD_RGB_E/TD_RGB_E_Set1/21/21_TD_RGB_E_3.jpg\n",
      "496...21_TD_RGB_E_2.jpg...../data/TD_RGB_E/TD_RGB_E_Set1/21/21_TD_RGB_E_2.jpg\n",
      "497...21_TD_RGB_E_1.jpg...../data/TD_RGB_E/TD_RGB_E_Set1/21/21_TD_RGB_E_1.jpg\n",
      "498...21_TD_RGB_E_5.jpg...../data/TD_RGB_E/TD_RGB_E_Set1/21/21_TD_RGB_E_5.jpg\n",
      "499...21_TD_RGB_E_4.jpg...../data/TD_RGB_E/TD_RGB_E_Set1/21/21_TD_RGB_E_4.jpg\n",
      "500...24_TD_RGB_E_5.jpg...../data/TD_RGB_E/TD_RGB_E_Set1/24/24_TD_RGB_E_5.jpg\n",
      "501...24_TD_RGB_E_4.jpg...../data/TD_RGB_E/TD_RGB_E_Set1/24/24_TD_RGB_E_4.jpg\n",
      "502...24_TD_RGB_E_3.jpg...../data/TD_RGB_E/TD_RGB_E_Set1/24/24_TD_RGB_E_3.jpg\n",
      "503...24_TD_RGB_E_2.jpg...../data/TD_RGB_E/TD_RGB_E_Set1/24/24_TD_RGB_E_2.jpg\n",
      "504...24_TD_RGB_E_1.jpg...../data/TD_RGB_E/TD_RGB_E_Set1/24/24_TD_RGB_E_1.jpg\n",
      "505...23_TD_RGB_E_5.jpg...../data/TD_RGB_E/TD_RGB_E_Set1/23/23_TD_RGB_E_5.jpg\n",
      "506...23_TD_RGB_E_4.jpg...../data/TD_RGB_E/TD_RGB_E_Set1/23/23_TD_RGB_E_4.jpg\n",
      "507...23_TD_RGB_E_1.jpg...../data/TD_RGB_E/TD_RGB_E_Set1/23/23_TD_RGB_E_1.jpg\n",
      "508...23_TD_RGB_E_3.jpg...../data/TD_RGB_E/TD_RGB_E_Set1/23/23_TD_RGB_E_3.jpg\n",
      "509...23_TD_RGB_E_2.jpg...../data/TD_RGB_E/TD_RGB_E_Set1/23/23_TD_RGB_E_2.jpg\n",
      "510...4_TD_RGB_E_3.jpg...../data/TD_RGB_E/TD_RGB_E_Set1/4/4_TD_RGB_E_3.jpg\n",
      "511...4_TD_RGB_E_2.jpg...../data/TD_RGB_E/TD_RGB_E_Set1/4/4_TD_RGB_E_2.jpg\n",
      "512...4_TD_RGB_E_1.jpg...../data/TD_RGB_E/TD_RGB_E_Set1/4/4_TD_RGB_E_1.jpg\n",
      "513...4_TD_RGB_E_5.jpg...../data/TD_RGB_E/TD_RGB_E_Set1/4/4_TD_RGB_E_5.jpg\n",
      "514...4_TD_RGB_E_4.jpg...../data/TD_RGB_E/TD_RGB_E_Set1/4/4_TD_RGB_E_4.jpg\n",
      "515...15_TD_RGB_E_5.jpg...../data/TD_RGB_E/TD_RGB_E_Set1/15/15_TD_RGB_E_5.jpg\n",
      "516...15_TD_RGB_E_4.jpg...../data/TD_RGB_E/TD_RGB_E_Set1/15/15_TD_RGB_E_4.jpg\n",
      "517...15_TD_RGB_E_1.jpg...../data/TD_RGB_E/TD_RGB_E_Set1/15/15_TD_RGB_E_1.jpg\n",
      "518...15_TD_RGB_E_3.jpg...../data/TD_RGB_E/TD_RGB_E_Set1/15/15_TD_RGB_E_3.jpg\n",
      "519...15_TD_RGB_E_2.jpg...../data/TD_RGB_E/TD_RGB_E_Set1/15/15_TD_RGB_E_2.jpg\n",
      "520...3_TD_RGB_E_1.jpg...../data/TD_RGB_E/TD_RGB_E_Set1/3/3_TD_RGB_E_1.jpg\n",
      "521...3_TD_RGB_E_3.jpg...../data/TD_RGB_E/TD_RGB_E_Set1/3/3_TD_RGB_E_3.jpg\n",
      "522...3_TD_RGB_E_2.jpg...../data/TD_RGB_E/TD_RGB_E_Set1/3/3_TD_RGB_E_2.jpg\n",
      "523...3_TD_RGB_E_5.jpg...../data/TD_RGB_E/TD_RGB_E_Set1/3/3_TD_RGB_E_5.jpg\n",
      "524...3_TD_RGB_E_4.jpg...../data/TD_RGB_E/TD_RGB_E_Set1/3/3_TD_RGB_E_4.jpg\n",
      "525...12_TD_RGB_E_5.jpg...../data/TD_RGB_E/TD_RGB_E_Set1/12/12_TD_RGB_E_5.jpg\n",
      "526...12_TD_RGB_E_4.jpg...../data/TD_RGB_E/TD_RGB_E_Set1/12/12_TD_RGB_E_4.jpg\n",
      "527...12_TD_RGB_E_3.jpg...../data/TD_RGB_E/TD_RGB_E_Set1/12/12_TD_RGB_E_3.jpg\n",
      "528...12_TD_RGB_E_2.jpg...../data/TD_RGB_E/TD_RGB_E_Set1/12/12_TD_RGB_E_2.jpg\n",
      "529...12_TD_RGB_E_1.jpg...../data/TD_RGB_E/TD_RGB_E_Set1/12/12_TD_RGB_E_1.jpg\n",
      "530...2_TD_RGB_E_4.jpg...../data/TD_RGB_E/TD_RGB_E_Set1/2/2_TD_RGB_E_4.jpg\n",
      "531...2_TD_RGB_E_5.jpg...../data/TD_RGB_E/TD_RGB_E_Set1/2/2_TD_RGB_E_5.jpg\n",
      "532...2_TD_RGB_E_2.jpg...../data/TD_RGB_E/TD_RGB_E_Set1/2/2_TD_RGB_E_2.jpg\n",
      "533...2_TD_RGB_E_3.jpg...../data/TD_RGB_E/TD_RGB_E_Set1/2/2_TD_RGB_E_3.jpg\n",
      "534...2_TD_RGB_E_1.jpg...../data/TD_RGB_E/TD_RGB_E_Set1/2/2_TD_RGB_E_1.jpg\n",
      "535...13_TD_RGB_E_1.jpg...../data/TD_RGB_E/TD_RGB_E_Set1/13/13_TD_RGB_E_1.jpg\n",
      "536...13_TD_RGB_E_2.jpg...../data/TD_RGB_E/TD_RGB_E_Set1/13/13_TD_RGB_E_2.jpg\n",
      "537...13_TD_RGB_E_3.jpg...../data/TD_RGB_E/TD_RGB_E_Set1/13/13_TD_RGB_E_3.jpg\n",
      "538...13_TD_RGB_E_4.jpg...../data/TD_RGB_E/TD_RGB_E_Set1/13/13_TD_RGB_E_4.jpg\n",
      "539...13_TD_RGB_E_5.jpg...../data/TD_RGB_E/TD_RGB_E_Set1/13/13_TD_RGB_E_5.jpg\n",
      "540...5_TD_RGB_E_4.jpg...../data/TD_RGB_E/TD_RGB_E_Set1/5/5_TD_RGB_E_4.jpg\n",
      "541...5_TD_RGB_E_5.jpg...../data/TD_RGB_E/TD_RGB_E_Set1/5/5_TD_RGB_E_5.jpg\n",
      "542...5_TD_RGB_E_1.jpg...../data/TD_RGB_E/TD_RGB_E_Set1/5/5_TD_RGB_E_1.jpg\n",
      "543...5_TD_RGB_E_2.jpg...../data/TD_RGB_E/TD_RGB_E_Set1/5/5_TD_RGB_E_2.jpg\n",
      "544...5_TD_RGB_E_3.jpg...../data/TD_RGB_E/TD_RGB_E_Set1/5/5_TD_RGB_E_3.jpg\n",
      "545...14_TD_RGB_E_2.jpg...../data/TD_RGB_E/TD_RGB_E_Set1/14/14_TD_RGB_E_2.jpg\n",
      "546...14_TD_RGB_E_3.jpg...../data/TD_RGB_E/TD_RGB_E_Set1/14/14_TD_RGB_E_3.jpg\n",
      "547...14_TD_RGB_E_1.jpg...../data/TD_RGB_E/TD_RGB_E_Set1/14/14_TD_RGB_E_1.jpg\n",
      "548...14_TD_RGB_E_4.jpg...../data/TD_RGB_E/TD_RGB_E_Set1/14/14_TD_RGB_E_4.jpg\n",
      "549...14_TD_RGB_E_5.jpg...../data/TD_RGB_E/TD_RGB_E_Set1/14/14_TD_RGB_E_5.jpg\n",
      "550...22_TD_RGB_E_2.jpg...../data/TD_RGB_E/TD_RGB_E_Set1/22/22_TD_RGB_E_2.jpg\n",
      "551...22_TD_RGB_E_3.jpg...../data/TD_RGB_E/TD_RGB_E_Set1/22/22_TD_RGB_E_3.jpg\n",
      "552...22_TD_RGB_E_1.jpg...../data/TD_RGB_E/TD_RGB_E_Set1/22/22_TD_RGB_E_1.jpg\n",
      "553...22_TD_RGB_E_4.jpg...../data/TD_RGB_E/TD_RGB_E_Set1/22/22_TD_RGB_E_4.jpg\n",
      "554...22_TD_RGB_E_5.jpg...../data/TD_RGB_E/TD_RGB_E_Set1/22/22_TD_RGB_E_5.jpg\n",
      "555...25_TD_RGB_E_1.jpg...../data/TD_RGB_E/TD_RGB_E_Set1/25/25_TD_RGB_E_1.jpg\n",
      "556...25_TD_RGB_E_2.jpg...../data/TD_RGB_E/TD_RGB_E_Set1/25/25_TD_RGB_E_2.jpg\n",
      "557...25_TD_RGB_E_3.jpg...../data/TD_RGB_E/TD_RGB_E_Set1/25/25_TD_RGB_E_3.jpg\n",
      "558...25_TD_RGB_E_4.jpg...../data/TD_RGB_E/TD_RGB_E_Set1/25/25_TD_RGB_E_4.jpg\n",
      "559...25_TD_RGB_E_5.jpg...../data/TD_RGB_E/TD_RGB_E_Set1/25/25_TD_RGB_E_5.jpg\n"
     ]
    },
    {
     "data": {
      "text/plain": [
       "1"
      ]
     },
     "execution_count": 21,
     "metadata": {},
     "output_type": "execute_result"
    }
   ],
   "source": [
    "load_images_database(image_list)"
   ]
  },
  {
   "cell_type": "code",
   "execution_count": 22,
   "metadata": {},
   "outputs": [
    {
     "data": {
      "text/html": [
       "<div>\n",
       "<style scoped>\n",
       "    .dataframe tbody tr th:only-of-type {\n",
       "        vertical-align: middle;\n",
       "    }\n",
       "\n",
       "    .dataframe tbody tr th {\n",
       "        vertical-align: top;\n",
       "    }\n",
       "\n",
       "    .dataframe thead th {\n",
       "        text-align: right;\n",
       "    }\n",
       "</style>\n",
       "<table border=\"1\" class=\"dataframe\">\n",
       "  <thead>\n",
       "    <tr style=\"text-align: right;\">\n",
       "      <th></th>\n",
       "      <th>id</th>\n",
       "      <th>dir_path</th>\n",
       "      <th>img_orig</th>\n",
       "      <th>face</th>\n",
       "      <th>face_class</th>\n",
       "      <th>class_pred</th>\n",
       "    </tr>\n",
       "  </thead>\n",
       "  <tbody>\n",
       "    <tr>\n",
       "      <th>0</th>\n",
       "      <td>0</td>\n",
       "      <td>../data/TD_RGB_E/TD_RGB_E_Set4/95/95_TD_RGB_E_...</td>\n",
       "      <td>[b'\\xff', b'\\xd8', b'\\xff', b'\\xe1', b'\\xff', ...</td>\n",
       "      <td>False</td>\n",
       "      <td>1</td>\n",
       "      <td>0</td>\n",
       "    </tr>\n",
       "    <tr>\n",
       "      <th>1</th>\n",
       "      <td>1</td>\n",
       "      <td>../data/TD_RGB_E/TD_RGB_E_Set4/95/95_TD_RGB_E_...</td>\n",
       "      <td>[b'\\xff', b'\\xd8', b'\\xff', b'\\xe1', b'\\xff', ...</td>\n",
       "      <td>False</td>\n",
       "      <td>3</td>\n",
       "      <td>0</td>\n",
       "    </tr>\n",
       "    <tr>\n",
       "      <th>2</th>\n",
       "      <td>2</td>\n",
       "      <td>../data/TD_RGB_E/TD_RGB_E_Set4/95/95_TD_RGB_E_...</td>\n",
       "      <td>[b'\\xff', b'\\xd8', b'\\xff', b'\\xe1', b'\\xff', ...</td>\n",
       "      <td>False</td>\n",
       "      <td>2</td>\n",
       "      <td>0</td>\n",
       "    </tr>\n",
       "    <tr>\n",
       "      <th>3</th>\n",
       "      <td>3</td>\n",
       "      <td>../data/TD_RGB_E/TD_RGB_E_Set4/95/95_TD_RGB_E_...</td>\n",
       "      <td>[b'\\xff', b'\\xd8', b'\\xff', b'\\xe1', b'\\xff', ...</td>\n",
       "      <td>False</td>\n",
       "      <td>5</td>\n",
       "      <td>0</td>\n",
       "    </tr>\n",
       "    <tr>\n",
       "      <th>4</th>\n",
       "      <td>4</td>\n",
       "      <td>../data/TD_RGB_E/TD_RGB_E_Set4/95/95_TD_RGB_E_...</td>\n",
       "      <td>[b'\\xff', b'\\xd8', b'\\xff', b'\\xe1', b'\\xff', ...</td>\n",
       "      <td>False</td>\n",
       "      <td>4</td>\n",
       "      <td>0</td>\n",
       "    </tr>\n",
       "  </tbody>\n",
       "</table>\n",
       "</div>"
      ],
      "text/plain": [
       "   id                                           dir_path  \\\n",
       "0   0  ../data/TD_RGB_E/TD_RGB_E_Set4/95/95_TD_RGB_E_...   \n",
       "1   1  ../data/TD_RGB_E/TD_RGB_E_Set4/95/95_TD_RGB_E_...   \n",
       "2   2  ../data/TD_RGB_E/TD_RGB_E_Set4/95/95_TD_RGB_E_...   \n",
       "3   3  ../data/TD_RGB_E/TD_RGB_E_Set4/95/95_TD_RGB_E_...   \n",
       "4   4  ../data/TD_RGB_E/TD_RGB_E_Set4/95/95_TD_RGB_E_...   \n",
       "\n",
       "                                            img_orig   face  face_class  \\\n",
       "0  [b'\\xff', b'\\xd8', b'\\xff', b'\\xe1', b'\\xff', ...  False           1   \n",
       "1  [b'\\xff', b'\\xd8', b'\\xff', b'\\xe1', b'\\xff', ...  False           3   \n",
       "2  [b'\\xff', b'\\xd8', b'\\xff', b'\\xe1', b'\\xff', ...  False           2   \n",
       "3  [b'\\xff', b'\\xd8', b'\\xff', b'\\xe1', b'\\xff', ...  False           5   \n",
       "4  [b'\\xff', b'\\xd8', b'\\xff', b'\\xe1', b'\\xff', ...  False           4   \n",
       "\n",
       "   class_pred  \n",
       "0           0  \n",
       "1           0  \n",
       "2           0  \n",
       "3           0  \n",
       "4           0  "
      ]
     },
     "execution_count": 22,
     "metadata": {},
     "output_type": "execute_result"
    }
   ],
   "source": [
    "# read from database\n",
    "df = read_image_database(con)\n",
    "df.head()"
   ]
  },
  {
   "cell_type": "code",
   "execution_count": null,
   "metadata": {},
   "outputs": [],
   "source": [
    "# from PIL import Image\n",
    "\n",
    "# im = Image.open('temp.png')\n",
    "# data = np.array(im)\n",
    "# flattened = data.flatten()\n",
    "\n",
    "# print data.shape\n",
    "# print flattened.shape\n",
    "\n",
    "# (612, 812, 4)\n",
    "# (1987776,)\n",
    "\n",
    "# Alternately, instead of calling data.flatten(), you could call data.reshape(-1). -1 is used as a placeholder for \"figure out what the given dimension should be\".\n",
    "\n",
    "# flattened = data.T.flatten()"
   ]
  },
  {
   "cell_type": "markdown",
   "metadata": {},
   "source": [
    "# TTS"
   ]
  },
  {
   "cell_type": "code",
   "execution_count": null,
   "metadata": {},
   "outputs": [],
   "source": [
    "columns=['face_class']\n",
    "y = df.face_class\n",
    "X = df.drop(columns, axis=1)"
   ]
  },
  {
   "cell_type": "code",
   "execution_count": null,
   "metadata": {},
   "outputs": [],
   "source": [
    "from sklearn.model_selection import train_test_split\n",
    "X_train, X_test, y_train, y_test = train_test_split(X, y, test_size=.2, random_state=42)\n",
    "print('X_train: {}'.format(len(X_train)))\n",
    "print('y_train: {}'.format(len(y_train)))\n",
    "print('X_test: {}'.format(len(X_test)))\n",
    "print('y_test: {}'.format(len(y_test)))"
   ]
  },
  {
   "cell_type": "code",
   "execution_count": null,
   "metadata": {},
   "outputs": [],
   "source": [
    "y_train.head()"
   ]
  },
  {
   "cell_type": "markdown",
   "metadata": {},
   "source": [
    "# Crop Images with OpenCV"
   ]
  },
  {
   "cell_type": "code",
   "execution_count": null,
   "metadata": {},
   "outputs": [],
   "source": [
    "for image in images:\n",
    "    "
   ]
  },
  {
   "cell_type": "code",
   "execution_count": null,
   "metadata": {},
   "outputs": [],
   "source": [
    "def detect_face(img_rgb, classifier):\n",
    "    '''\n",
    "    1st classifier: HAAR classifier for face detection\n",
    "    read image from img_orig column\n",
    "    process face\n",
    "    if faces detected, update face column from False to True\n",
    "    draw box around face\n",
    "    write modified image to img_proc column\n",
    "    call detect_eyes\n",
    "    if no face detected, exit loop\n",
    "    '''\n",
    "    classifier_full = CascadeClassifier(classifier)\n",
    "    img_gray = cv2.cvtColor(img_rgb, cv2.COLOR_BGR2GRAY)\n",
    "    bounding_boxes = classifier_full.detectMultiScale(img_gray, scaleFactor=1.3, minNeighbors=7, minSize=(224, 224))\n",
    "    box_list = []\n",
    "    for box in bounding_boxes:\n",
    "        box_list.append(box)\n",
    "    if len(box_list) < 1:\n",
    "        return 0\n",
    "    else:\n",
    "        # update face to True\n",
    "        draw_boxes(img_gray, box_list)\n",
    "        draw_boxes(img_rgb, box_list)\n",
    "        img_rgb = cv2.cvtColor(img_rgb, cv2.COLOR_BGR2RGB)\n",
    "        # write img to img_proc and/or save to os\n",
    "    return img_gray, img_rgb, roi"
   ]
  },
  {
   "cell_type": "code",
   "execution_count": null,
   "metadata": {},
   "outputs": [],
   "source": [
    "X_test.head()"
   ]
  },
  {
   "cell_type": "markdown",
   "metadata": {},
   "source": [
    "# Main"
   ]
  },
  {
   "cell_type": "code",
   "execution_count": null,
   "metadata": {},
   "outputs": [],
   "source": [
    "# set classifier\n",
    "classifier = '../src/haarcascade_frontalface_default.xml'\n",
    "# read the image\n",
    "img_rgb = X_train['img_orig']\n",
    "\n",
    "# detect face - with HAAR cascade\n",
    "img_gray, img_rgb, roi = detect_face(img_rgb, classifier)\n",
    "\n",
    "# scale down\n",
    "\n",
    "# return roi\n",
    "\n",
    "# call model for image - call fisherfaces\n",
    "\n",
    "# write processed image to dataframe\n",
    "\n",
    "# update flag in dataframe\n",
    "\n",
    "# choose next image\n",
    "\n",
    "# once complete, pueh changes to database\n"
   ]
  },
  {
   "cell_type": "markdown",
   "metadata": {},
   "source": [
    "# Emotion Detection with VGG16 Pretrained CNN"
   ]
  },
  {
   "cell_type": "markdown",
   "metadata": {},
   "source": [
    "### Convert the data into labels (encoded) and images converted to a 224x224x3 numpy array"
   ]
  },
  {
   "cell_type": "code",
   "execution_count": 29,
   "metadata": {},
   "outputs": [],
   "source": [
    "emotions = ['commecicomm','happy','ugh','shocked','sunglasses']"
   ]
  },
  {
   "cell_type": "code",
   "execution_count": 77,
   "metadata": {},
   "outputs": [
    {
     "name": "stdout",
     "output_type": "stream",
     "text": [
      "/Users/kennedy/Documents/GitHub/fiprojects/mod_capstone/notebooks\n"
     ]
    }
   ],
   "source": [
    "!pwd"
   ]
  },
  {
   "cell_type": "code",
   "execution_count": 112,
   "metadata": {},
   "outputs": [
    {
     "name": "stdout",
     "output_type": "stream",
     "text": [
      "Found 500 images belonging to 5 classes.\n",
      "Found 60 images belonging to 5 classes.\n"
     ]
    }
   ],
   "source": [
    "train_dir = '../data/train'\n",
    "valid_dir = '../data/test'\n",
    "\n",
    "train = ImageDataGenerator()\n",
    "train_data = train.flow_from_directory(directory=train_dir,target_size=(224,224))\n",
    "validation = ImageDataGenerator()\n",
    "valid_data = validation.flow_from_directory(directory=valid_dir, target_size=(224,224))"
   ]
  },
  {
   "cell_type": "code",
   "execution_count": 113,
   "metadata": {},
   "outputs": [
    {
     "name": "stdout",
     "output_type": "stream",
     "text": [
      "Found 500 images belonging to 5 classes.\n",
      "Found 60 images belonging to 5 classes.\n"
     ]
    }
   ],
   "source": [
    "image_size = 224\n",
    "batch_size = 20\n",
    "\n",
    "\n",
    "train_generator = train.flow_from_directory(\n",
    "                train_dir,  # Source directory for the training images\n",
    "                target_size=(image_size, image_size),\n",
    "                batch_size=batch_size,\n",
    "                # Since we use binary_crossentropy loss, we need binary labels\n",
    "                class_mode='binary')\n",
    "\n",
    "# Flow validation images in batches of 20 using test_datagen generator\n",
    "validation_generator = validation.flow_from_directory(\n",
    "                valid_dir, # Source directory for the validation images\n",
    "                target_size=(image_size, image_size),\n",
    "                batch_size=batch_size,\n",
    "                class_mode='binary')"
   ]
  },
  {
   "cell_type": "code",
   "execution_count": 99,
   "metadata": {},
   "outputs": [],
   "source": [
    "base_model = VGG16(include_top=False, weights='imagenet', input_shape=(224,224,3))"
   ]
  },
  {
   "cell_type": "code",
   "execution_count": 100,
   "metadata": {},
   "outputs": [
    {
     "name": "stdout",
     "output_type": "stream",
     "text": [
      "_________________________________________________________________\n",
      "Layer (type)                 Output Shape              Param #   \n",
      "=================================================================\n",
      "input_12 (InputLayer)        (None, 224, 224, 3)       0         \n",
      "_________________________________________________________________\n",
      "block1_conv1 (Conv2D)        (None, 224, 224, 64)      1792      \n",
      "_________________________________________________________________\n",
      "block1_conv2 (Conv2D)        (None, 224, 224, 64)      36928     \n",
      "_________________________________________________________________\n",
      "block1_pool (MaxPooling2D)   (None, 112, 112, 64)      0         \n",
      "_________________________________________________________________\n",
      "block2_conv1 (Conv2D)        (None, 112, 112, 128)     73856     \n",
      "_________________________________________________________________\n",
      "block2_conv2 (Conv2D)        (None, 112, 112, 128)     147584    \n",
      "_________________________________________________________________\n",
      "block2_pool (MaxPooling2D)   (None, 56, 56, 128)       0         \n",
      "_________________________________________________________________\n",
      "block3_conv1 (Conv2D)        (None, 56, 56, 256)       295168    \n",
      "_________________________________________________________________\n",
      "block3_conv2 (Conv2D)        (None, 56, 56, 256)       590080    \n",
      "_________________________________________________________________\n",
      "block3_conv3 (Conv2D)        (None, 56, 56, 256)       590080    \n",
      "_________________________________________________________________\n",
      "block3_pool (MaxPooling2D)   (None, 28, 28, 256)       0         \n",
      "_________________________________________________________________\n",
      "block4_conv1 (Conv2D)        (None, 28, 28, 512)       1180160   \n",
      "_________________________________________________________________\n",
      "block4_conv2 (Conv2D)        (None, 28, 28, 512)       2359808   \n",
      "_________________________________________________________________\n",
      "block4_conv3 (Conv2D)        (None, 28, 28, 512)       2359808   \n",
      "_________________________________________________________________\n",
      "block4_pool (MaxPooling2D)   (None, 14, 14, 512)       0         \n",
      "_________________________________________________________________\n",
      "block5_conv1 (Conv2D)        (None, 14, 14, 512)       2359808   \n",
      "_________________________________________________________________\n",
      "block5_conv2 (Conv2D)        (None, 14, 14, 512)       2359808   \n",
      "_________________________________________________________________\n",
      "block5_conv3 (Conv2D)        (None, 14, 14, 512)       2359808   \n",
      "_________________________________________________________________\n",
      "block5_pool (MaxPooling2D)   (None, 7, 7, 512)         0         \n",
      "=================================================================\n",
      "Total params: 14,714,688\n",
      "Trainable params: 14,714,688\n",
      "Non-trainable params: 0\n",
      "_________________________________________________________________\n"
     ]
    }
   ],
   "source": [
    "base_model.summary()"
   ]
  },
  {
   "cell_type": "code",
   "execution_count": 101,
   "metadata": {},
   "outputs": [],
   "source": [
    "base_model.trainable = False"
   ]
  },
  {
   "cell_type": "code",
   "execution_count": 115,
   "metadata": {},
   "outputs": [],
   "source": [
    "model = Sequential([\n",
    "    base_model,\n",
    "    Dense(units=4096,activation=\"relu\"),\n",
    "    Dense(units=4096,activation=\"relu\"),\n",
    "    Dense(units=5, activation=\"softmax\")\n",
    "])"
   ]
  },
  {
   "cell_type": "code",
   "execution_count": 116,
   "metadata": {},
   "outputs": [],
   "source": [
    "from keras.optimizers import Adam\n",
    "opt = Adam(lr=0.001)\n",
    "model.compile(optimizer=opt, loss=keras.losses.categorical_crossentropy, metrics=['accuracy'])"
   ]
  },
  {
   "cell_type": "code",
   "execution_count": 117,
   "metadata": {},
   "outputs": [
    {
     "name": "stdout",
     "output_type": "stream",
     "text": [
      "_________________________________________________________________\n",
      "Layer (type)                 Output Shape              Param #   \n",
      "=================================================================\n",
      "vgg16 (Model)                (None, 7, 7, 512)         14714688  \n",
      "_________________________________________________________________\n",
      "dense_4 (Dense)              (None, 7, 7, 4096)        2101248   \n",
      "_________________________________________________________________\n",
      "dense_5 (Dense)              (None, 7, 7, 4096)        16781312  \n",
      "_________________________________________________________________\n",
      "dense_6 (Dense)              (None, 7, 7, 5)           20485     \n",
      "=================================================================\n",
      "Total params: 33,617,733\n",
      "Trainable params: 18,903,045\n",
      "Non-trainable params: 14,714,688\n",
      "_________________________________________________________________\n"
     ]
    }
   ],
   "source": [
    "model.summary()"
   ]
  },
  {
   "cell_type": "code",
   "execution_count": 118,
   "metadata": {},
   "outputs": [
    {
     "name": "stdout",
     "output_type": "stream",
     "text": [
      "Epoch 1/10\n"
     ]
    },
    {
     "ename": "ValueError",
     "evalue": "Error when checking target: expected dense_6 to have 4 dimensions, but got array with shape (20, 1)",
     "output_type": "error",
     "traceback": [
      "\u001b[0;31m---------------------------------------------------------------------------\u001b[0m",
      "\u001b[0;31mValueError\u001b[0m                                Traceback (most recent call last)",
      "\u001b[0;32m<ipython-input-118-3d685a1f8169>\u001b[0m in \u001b[0;36m<module>\u001b[0;34m()\u001b[0m\n\u001b[1;32m      8\u001b[0m                               \u001b[0mworkers\u001b[0m\u001b[0;34m=\u001b[0m\u001b[0;36m4\u001b[0m\u001b[0;34m,\u001b[0m\u001b[0;34m\u001b[0m\u001b[0m\n\u001b[1;32m      9\u001b[0m                               \u001b[0mvalidation_data\u001b[0m\u001b[0;34m=\u001b[0m\u001b[0mvalidation_generator\u001b[0m\u001b[0;34m,\u001b[0m\u001b[0;34m\u001b[0m\u001b[0m\n\u001b[0;32m---> 10\u001b[0;31m                               validation_steps=validation_steps)\n\u001b[0m",
      "\u001b[0;32m~/opt/anaconda3/envs/emotion-detection/lib/python3.5/site-packages/keras/legacy/interfaces.py\u001b[0m in \u001b[0;36mwrapper\u001b[0;34m(*args, **kwargs)\u001b[0m\n\u001b[1;32m     89\u001b[0m                 warnings.warn('Update your `' + object_name + '` call to the ' +\n\u001b[1;32m     90\u001b[0m                               'Keras 2 API: ' + signature, stacklevel=2)\n\u001b[0;32m---> 91\u001b[0;31m             \u001b[0;32mreturn\u001b[0m \u001b[0mfunc\u001b[0m\u001b[0;34m(\u001b[0m\u001b[0;34m*\u001b[0m\u001b[0margs\u001b[0m\u001b[0;34m,\u001b[0m \u001b[0;34m**\u001b[0m\u001b[0mkwargs\u001b[0m\u001b[0;34m)\u001b[0m\u001b[0;34m\u001b[0m\u001b[0m\n\u001b[0m\u001b[1;32m     92\u001b[0m         \u001b[0mwrapper\u001b[0m\u001b[0;34m.\u001b[0m\u001b[0m_original_function\u001b[0m \u001b[0;34m=\u001b[0m \u001b[0mfunc\u001b[0m\u001b[0;34m\u001b[0m\u001b[0m\n\u001b[1;32m     93\u001b[0m         \u001b[0;32mreturn\u001b[0m \u001b[0mwrapper\u001b[0m\u001b[0;34m\u001b[0m\u001b[0m\n",
      "\u001b[0;32m~/opt/anaconda3/envs/emotion-detection/lib/python3.5/site-packages/keras/engine/training.py\u001b[0m in \u001b[0;36mfit_generator\u001b[0;34m(self, generator, steps_per_epoch, epochs, verbose, callbacks, validation_data, validation_steps, class_weight, max_queue_size, workers, use_multiprocessing, shuffle, initial_epoch)\u001b[0m\n\u001b[1;32m   1416\u001b[0m             \u001b[0muse_multiprocessing\u001b[0m\u001b[0;34m=\u001b[0m\u001b[0muse_multiprocessing\u001b[0m\u001b[0;34m,\u001b[0m\u001b[0;34m\u001b[0m\u001b[0m\n\u001b[1;32m   1417\u001b[0m             \u001b[0mshuffle\u001b[0m\u001b[0;34m=\u001b[0m\u001b[0mshuffle\u001b[0m\u001b[0;34m,\u001b[0m\u001b[0;34m\u001b[0m\u001b[0m\n\u001b[0;32m-> 1418\u001b[0;31m             initial_epoch=initial_epoch)\n\u001b[0m\u001b[1;32m   1419\u001b[0m \u001b[0;34m\u001b[0m\u001b[0m\n\u001b[1;32m   1420\u001b[0m     \u001b[0;34m@\u001b[0m\u001b[0minterfaces\u001b[0m\u001b[0;34m.\u001b[0m\u001b[0mlegacy_generator_methods_support\u001b[0m\u001b[0;34m\u001b[0m\u001b[0m\n",
      "\u001b[0;32m~/opt/anaconda3/envs/emotion-detection/lib/python3.5/site-packages/keras/engine/training_generator.py\u001b[0m in \u001b[0;36mfit_generator\u001b[0;34m(model, generator, steps_per_epoch, epochs, verbose, callbacks, validation_data, validation_steps, class_weight, max_queue_size, workers, use_multiprocessing, shuffle, initial_epoch)\u001b[0m\n\u001b[1;32m    214\u001b[0m                 outs = model.train_on_batch(x, y,\n\u001b[1;32m    215\u001b[0m                                             \u001b[0msample_weight\u001b[0m\u001b[0;34m=\u001b[0m\u001b[0msample_weight\u001b[0m\u001b[0;34m,\u001b[0m\u001b[0;34m\u001b[0m\u001b[0m\n\u001b[0;32m--> 216\u001b[0;31m                                             class_weight=class_weight)\n\u001b[0m\u001b[1;32m    217\u001b[0m \u001b[0;34m\u001b[0m\u001b[0m\n\u001b[1;32m    218\u001b[0m                 \u001b[0mouts\u001b[0m \u001b[0;34m=\u001b[0m \u001b[0mto_list\u001b[0m\u001b[0;34m(\u001b[0m\u001b[0mouts\u001b[0m\u001b[0;34m)\u001b[0m\u001b[0;34m\u001b[0m\u001b[0m\n",
      "\u001b[0;32m~/opt/anaconda3/envs/emotion-detection/lib/python3.5/site-packages/keras/engine/training.py\u001b[0m in \u001b[0;36mtrain_on_batch\u001b[0;34m(self, x, y, sample_weight, class_weight)\u001b[0m\n\u001b[1;32m   1209\u001b[0m             \u001b[0mx\u001b[0m\u001b[0;34m,\u001b[0m \u001b[0my\u001b[0m\u001b[0;34m,\u001b[0m\u001b[0;34m\u001b[0m\u001b[0m\n\u001b[1;32m   1210\u001b[0m             \u001b[0msample_weight\u001b[0m\u001b[0;34m=\u001b[0m\u001b[0msample_weight\u001b[0m\u001b[0;34m,\u001b[0m\u001b[0;34m\u001b[0m\u001b[0m\n\u001b[0;32m-> 1211\u001b[0;31m             class_weight=class_weight)\n\u001b[0m\u001b[1;32m   1212\u001b[0m         \u001b[0;32mif\u001b[0m \u001b[0mself\u001b[0m\u001b[0;34m.\u001b[0m\u001b[0m_uses_dynamic_learning_phase\u001b[0m\u001b[0;34m(\u001b[0m\u001b[0;34m)\u001b[0m\u001b[0;34m:\u001b[0m\u001b[0;34m\u001b[0m\u001b[0m\n\u001b[1;32m   1213\u001b[0m             \u001b[0mins\u001b[0m \u001b[0;34m=\u001b[0m \u001b[0mx\u001b[0m \u001b[0;34m+\u001b[0m \u001b[0my\u001b[0m \u001b[0;34m+\u001b[0m \u001b[0msample_weights\u001b[0m \u001b[0;34m+\u001b[0m \u001b[0;34m[\u001b[0m\u001b[0;36m1.\u001b[0m\u001b[0;34m]\u001b[0m\u001b[0;34m\u001b[0m\u001b[0m\n",
      "\u001b[0;32m~/opt/anaconda3/envs/emotion-detection/lib/python3.5/site-packages/keras/engine/training.py\u001b[0m in \u001b[0;36m_standardize_user_data\u001b[0;34m(self, x, y, sample_weight, class_weight, check_array_lengths, batch_size)\u001b[0m\n\u001b[1;32m    787\u001b[0m                 \u001b[0mfeed_output_shapes\u001b[0m\u001b[0;34m,\u001b[0m\u001b[0;34m\u001b[0m\u001b[0m\n\u001b[1;32m    788\u001b[0m                 \u001b[0mcheck_batch_axis\u001b[0m\u001b[0;34m=\u001b[0m\u001b[0;32mFalse\u001b[0m\u001b[0;34m,\u001b[0m  \u001b[0;31m# Don't enforce the batch size.\u001b[0m\u001b[0;34m\u001b[0m\u001b[0m\n\u001b[0;32m--> 789\u001b[0;31m                 exception_prefix='target')\n\u001b[0m\u001b[1;32m    790\u001b[0m \u001b[0;34m\u001b[0m\u001b[0m\n\u001b[1;32m    791\u001b[0m             \u001b[0;31m# Generate sample-wise weight values given the `sample_weight` and\u001b[0m\u001b[0;34m\u001b[0m\u001b[0;34m\u001b[0m\u001b[0m\n",
      "\u001b[0;32m~/opt/anaconda3/envs/emotion-detection/lib/python3.5/site-packages/keras/engine/training_utils.py\u001b[0m in \u001b[0;36mstandardize_input_data\u001b[0;34m(data, names, shapes, check_batch_axis, exception_prefix)\u001b[0m\n\u001b[1;32m    126\u001b[0m                         \u001b[0;34m': expected '\u001b[0m \u001b[0;34m+\u001b[0m \u001b[0mnames\u001b[0m\u001b[0;34m[\u001b[0m\u001b[0mi\u001b[0m\u001b[0;34m]\u001b[0m \u001b[0;34m+\u001b[0m \u001b[0;34m' to have '\u001b[0m \u001b[0;34m+\u001b[0m\u001b[0;34m\u001b[0m\u001b[0m\n\u001b[1;32m    127\u001b[0m                         \u001b[0mstr\u001b[0m\u001b[0;34m(\u001b[0m\u001b[0mlen\u001b[0m\u001b[0;34m(\u001b[0m\u001b[0mshape\u001b[0m\u001b[0;34m)\u001b[0m\u001b[0;34m)\u001b[0m \u001b[0;34m+\u001b[0m \u001b[0;34m' dimensions, but got array '\u001b[0m\u001b[0;34m\u001b[0m\u001b[0m\n\u001b[0;32m--> 128\u001b[0;31m                         'with shape ' + str(data_shape))\n\u001b[0m\u001b[1;32m    129\u001b[0m                 \u001b[0;32mif\u001b[0m \u001b[0;32mnot\u001b[0m \u001b[0mcheck_batch_axis\u001b[0m\u001b[0;34m:\u001b[0m\u001b[0;34m\u001b[0m\u001b[0m\n\u001b[1;32m    130\u001b[0m                     \u001b[0mdata_shape\u001b[0m \u001b[0;34m=\u001b[0m \u001b[0mdata_shape\u001b[0m\u001b[0;34m[\u001b[0m\u001b[0;36m1\u001b[0m\u001b[0;34m:\u001b[0m\u001b[0;34m]\u001b[0m\u001b[0;34m\u001b[0m\u001b[0m\n",
      "\u001b[0;31mValueError\u001b[0m: Error when checking target: expected dense_6 to have 4 dimensions, but got array with shape (20, 1)"
     ]
    }
   ],
   "source": [
    "epochs = 10\n",
    "steps_per_epoch = train_generator.n // batch_size\n",
    "validation_steps = validation_generator.n // batch_size\n",
    "\n",
    "history = model.fit_generator(train_generator,\n",
    "                              steps_per_epoch = steps_per_epoch,\n",
    "                              epochs=epochs,\n",
    "                              workers=4,\n",
    "                              validation_data=validation_generator,\n",
    "                              validation_steps=validation_steps)"
   ]
  },
  {
   "cell_type": "code",
   "execution_count": null,
   "metadata": {},
   "outputs": [],
   "source": []
  },
  {
   "cell_type": "code",
   "execution_count": null,
   "metadata": {},
   "outputs": [],
   "source": []
  },
  {
   "cell_type": "code",
   "execution_count": null,
   "metadata": {},
   "outputs": [],
   "source": []
  },
  {
   "cell_type": "code",
   "execution_count": null,
   "metadata": {},
   "outputs": [],
   "source": []
  },
  {
   "cell_type": "code",
   "execution_count": null,
   "metadata": {},
   "outputs": [],
   "source": []
  },
  {
   "cell_type": "code",
   "execution_count": null,
   "metadata": {},
   "outputs": [],
   "source": []
  },
  {
   "cell_type": "markdown",
   "metadata": {},
   "source": [
    "# Cleanup"
   ]
  },
  {
   "cell_type": "code",
   "execution_count": null,
   "metadata": {},
   "outputs": [],
   "source": [
    "close_database(con)"
   ]
  },
  {
   "cell_type": "markdown",
   "metadata": {},
   "source": [
    "# Confusion Matrix"
   ]
  },
  {
   "cell_type": "code",
   "execution_count": null,
   "metadata": {},
   "outputs": [],
   "source": [
    "cm = confusion_matrix(y_test, y_pred_class)\n",
    "\n",
    "tn = cm_2[0,0]\n",
    "fn = cm_2[0,1]\n",
    "fp = cm_2[1,0]\n",
    "tp = cm_2[1,1]\n",
    "\n",
    "accurracy = (tp + tn)/(tn+tp+fn+fp)\n",
    "\n",
    "precision = tp / (tp+fp)\n",
    "\n",
    "recall = tp / (tp + fn)\n",
    "f1_score = 2*precision*recall/(precision+recall)\n",
    "print('My model metrics were: Accurracy: {}, Precision: {}, Recall: {}, and F1: {}'.format(accurracy,precision,recall,f1_score))\n",
    "\n",
    "\n",
    "plt.matshow(cm)\n",
    "\n",
    "plt.colorbar()\n",
    "plt.xlabel('Predicted')\n",
    "plt.ylabel('Actual')\n",
    "plt.show();\n",
    "\n"
   ]
  },
  {
   "cell_type": "markdown",
   "metadata": {},
   "source": [
    "# MVP"
   ]
  },
  {
   "cell_type": "code",
   "execution_count": null,
   "metadata": {},
   "outputs": [],
   "source": []
  },
  {
   "cell_type": "markdown",
   "metadata": {},
   "source": [
    "# Add webcam support"
   ]
  },
  {
   "cell_type": "code",
   "execution_count": null,
   "metadata": {},
   "outputs": [],
   "source": [
    "cap = cv2.VideoCapture(0)"
   ]
  },
  {
   "cell_type": "code",
   "execution_count": null,
   "metadata": {},
   "outputs": [],
   "source": [
    "while True:\n",
    "    ret, img = cap.read()\n",
    "    '''\n",
    "    lots of code here\n",
    "    \n",
    "    '''\n",
    "    cv2.imshow('img', img)\n",
    "    #Display camera feed until ESC key is pressed\n",
    "    k = cv2.waitKey(30) & 0xff\n",
    "    if k == 27:\n",
    "        break\n",
    "cap.release()\n",
    "cv2.destroyAllWindows()"
   ]
  }
 ],
 "metadata": {
  "kernelspec": {
   "display_name": "Python 3",
   "language": "python",
   "name": "python3"
  },
  "language_info": {
   "codemirror_mode": {
    "name": "ipython",
    "version": 3
   },
   "file_extension": ".py",
   "mimetype": "text/x-python",
   "name": "python",
   "nbconvert_exporter": "python",
   "pygments_lexer": "ipython3",
   "version": "3.5.6"
  }
 },
 "nbformat": 4,
 "nbformat_minor": 4
}
