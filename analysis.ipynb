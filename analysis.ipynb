{
 "cells": [
  {
   "cell_type": "code",
   "execution_count": 1,
   "metadata": {},
   "outputs": [],
   "source": [
    "# Standard Libraries\n",
    "import pandas as pd\n",
    "import numpy as np\n",
    "import os\n",
    "import sys\n",
    "from datetime import date\n",
    "\n",
    "# Image Libraries\n",
    "import cv2\n",
    "from cv2 import imread, imshow, waitKey, destroyAllWindows, rectangle, CascadeClassifier\n",
    "\n",
    "# Database\n",
    "import psycopg2\n",
    "\n",
    "# Visualizations\n",
    "from matplotlib import pyplot as plt\n",
    "%matplotlib inline\n",
    "\n",
    "import warnings\n",
    "warnings.filterwarnings(\"ignore\")"
   ]
  },
  {
   "cell_type": "markdown",
   "metadata": {},
   "source": [
    "# Database"
   ]
  },
  {
   "cell_type": "code",
   "execution_count": 2,
   "metadata": {},
   "outputs": [
    {
     "name": "stdout",
     "output_type": "stream",
     "text": [
      "PostgreSQL 12.1 on x86_64-apple-darwin16.7.0, compiled by Apple LLVM version 8.1.0 (clang-802.0.42), 64-bit\n"
     ]
    }
   ],
   "source": [
    "con = None\n",
    "\n",
    "try:\n",
    "    \n",
    "    con = psycopg2.connect(database='kennedy', user='postgres',\n",
    "        password='')\n",
    "\n",
    "    cur = con.cursor()\n",
    "    cur.execute('SELECT version()')\n",
    "\n",
    "    version = cur.fetchone()[0]\n",
    "    print(version)\n",
    "\n",
    "except psycopg2.DatabaseError as e:\n",
    "\n",
    "    print('Error {}'.format(e))\n",
    "    sys.exit(1)\n",
    "\n",
    "finally:\n",
    "\n",
    "    if con:\n",
    "        con.close()"
   ]
  },
  {
   "cell_type": "code",
   "execution_count": 21,
   "metadata": {},
   "outputs": [],
   "source": [
    "def create_database():\n",
    "    con = None\n",
    "    try:\n",
    "        con = psycopg2.connect(database='kennedy', user='postgres', \n",
    "                               password='')\n",
    "\n",
    "        with con:\n",
    "            cur = con.cursor()\n",
    "\n",
    "            cur.execute(\"DROP TABLE IF EXISTS images\")\n",
    "            cur.execute(\"CREATE TABLE images(id BIGINT DEFAULT 0 NOT NULL, dir_path TEXT, date DATE DEFAULT '1/1/1970' NOT NULL, img_orig BYTEA DEFAULT 'NaN' NOT NULL, face BOOLEAN DEFAULT 'False' NOT NULL, img_proc BYTEA DEFAULT 'NaN', face_class INTEGER DEFAULT 0 NOT NULL)\")\n",
    "            cur.execute(\"COMMENT ON COLUMN images.id IS E'This number will come from a counter programatically.'\")\n",
    "            cur.execute(\"COMMENT ON COLUMN images.dir_path IS E'directory path to original image.  This is so that you can trace back to the imported data for files with the same names in multiple directories.'\")\n",
    "            cur.execute(\"COMMENT ON COLUMN images.date IS E'date image was imported.'\")\n",
    "            cur.execute(\"COMMENT ON COLUMN images.face_class IS E'Classes based off _# in filename.  0,1,2,3,4,5. 0=no_class, 1=commecicomm,2=smile,3=shut,4=shocked,5=sunglasses.'\")\n",
    "            cur.execute(\"COMMENT ON COLUMN images.img_proc IS E'Processed images!'\")\n",
    "            cur.execute(\"ALTER TABLE images ADD CONSTRAINT dir_path PRIMARY KEY(id)\")\n",
    "            cur.execute(\"ALTER TABLE images ADD COLUMN eyes BOOLEAN DEFAULT 'False' NOT NULL\")\n",
    "            cur.execute(\"ALTER TABLE images ADD COLUMN mouth BOOLEAN DEFAULT 'False' NOT NULL\")\n",
    "            cur.execute(\"ALTER TABLE images ADD COLUMN nose BOOLEAN DEFAULT 'False' NOT NULL\")\n",
    "            con.commit()    \n",
    "        \n",
    "    except psycopg2.DatabaseError as e:\n",
    "\n",
    "        print('Error {}'.format(e))\n",
    "        sys.exit(1)\n",
    "    \n",
    "#     finally:\n",
    "\n",
    "#         if con:\n",
    "#             con.close()\n",
    "        "
   ]
  },
  {
   "cell_type": "code",
   "execution_count": 22,
   "metadata": {},
   "outputs": [],
   "source": [
    "def insert_database(id_, file_name, dir_path):\n",
    "#     con = psycopg2.connect(database='kennedy', user='postgres', \n",
    "#                                password='')\n",
    "    with con:\n",
    "        cur = con.cursor()\n",
    "        today = date.today().strftime('%m/%d/%Y')\n",
    "        imgopen = open(dir_path, 'rb').read()\n",
    "        filename = (file_name)\n",
    "        data = (id_, dir_path, today, psycopg2.Binary(imgopen) , False, 0)\n",
    "        query = \"INSERT INTO images(id, dir_path, date, img_orig, face, face_class) VALUES (%s, %s, %s, %s, %s, %s)\"\n",
    "        cur.execute(query, data)\n",
    "#         if con:\n",
    "#             con.close()\n",
    "    return"
   ]
  },
  {
   "cell_type": "markdown",
   "metadata": {},
   "source": [
    "# Preprocess Files for Storage"
   ]
  },
  {
   "cell_type": "code",
   "execution_count": 13,
   "metadata": {},
   "outputs": [],
   "source": [
    "file_name = '' # image name\n",
    "file_path = '' # path to file"
   ]
  },
  {
   "cell_type": "code",
   "execution_count": 14,
   "metadata": {},
   "outputs": [],
   "source": [
    "# Process Images Directory for Feeding into the Model\n",
    "def build_image_list(path):\n",
    "    '''\n",
    "    Search (path) and make a recursive listing of paths to each file.\n",
    "    INPUTS: path = top of directory tree to begin recursion for images. ex) \"../data\"\n",
    "    OUTPUTS: fname = A full path listing of all files in the directory tree.  astype.list()\n",
    "    '''\n",
    "    fname = []\n",
    "    for root,d_names,f_names in os.walk(path):\n",
    "        f_names = [f for f in f_names if not f[0] == '.'] # skip hidden files: .DSstore\n",
    "        d_names = [d for d in d_names if not d[0] == '.'] # skip hidden folders: .git\n",
    "        for f in f_names:\n",
    "            fname.append(os.path.join(root, f))\n",
    "    return fname"
   ]
  },
  {
   "cell_type": "code",
   "execution_count": 15,
   "metadata": {},
   "outputs": [],
   "source": [
    "def process_images(fname):\n",
    "    i = 0\n",
    "    for file in fname:\n",
    "        global classifier\n",
    "        global file_name\n",
    "        global file_path\n",
    "        file_name = os.path.basename(file)\n",
    "        file_path = file\n",
    "        print('{}...{}...{}'.format(i, file_name, file_path))\n",
    "        insert_database(i, file_name, file_path) \n",
    "        i+=1\n",
    "    return"
   ]
  },
  {
   "cell_type": "code",
   "execution_count": 16,
   "metadata": {},
   "outputs": [
    {
     "name": "stdout",
     "output_type": "stream",
     "text": [
      "560\n",
      "data/TD_RGB_E/TD_RGB_E_Set4/95/TD_RGB_E_4.jpg\n"
     ]
    }
   ],
   "source": [
    "image_list = build_image_list('data/TD_RGB_E')\n",
    "print(len(image_list))\n",
    "print(image_list[1])"
   ]
  },
  {
   "cell_type": "code",
   "execution_count": 17,
   "metadata": {},
   "outputs": [
    {
     "name": "stdout",
     "output_type": "stream",
     "text": [
      "['data/TD_RGB_E/TD_RGB_E_Set4/95/TD_RGB_E_5.jpg', 'data/TD_RGB_E/TD_RGB_E_Set4/95/TD_RGB_E_4.jpg', 'data/TD_RGB_E/TD_RGB_E_Set4/95/TD_RGB_E_1.jpg', 'data/TD_RGB_E/TD_RGB_E_Set4/95/TD_RGB_E_3.jpg', 'data/TD_RGB_E/TD_RGB_E_Set4/95/TD_RGB_E_2.jpg', 'data/TD_RGB_E/TD_RGB_E_Set4/92/TD_RGB_E_5.jpg', 'data/TD_RGB_E/TD_RGB_E_Set4/92/TD_RGB_E_4.jpg', 'data/TD_RGB_E/TD_RGB_E_Set4/92/TD_RGB_E_1.jpg', 'data/TD_RGB_E/TD_RGB_E_Set4/92/TD_RGB_E_3.jpg', 'data/TD_RGB_E/TD_RGB_E_Set4/92/TD_RGB_E_2.jpg', 'data/TD_RGB_E/TD_RGB_E_Set4/104/TD_RGB_E_5.jpg', 'data/TD_RGB_E/TD_RGB_E_Set4/104/TD_RGB_E_4.jpg', 'data/TD_RGB_E/TD_RGB_E_Set4/104/TD_RGB_E_1.jpg', 'data/TD_RGB_E/TD_RGB_E_Set4/104/TD_RGB_E_3.jpg', 'data/TD_RGB_E/TD_RGB_E_Set4/104/TD_RGB_E_2.jpg', 'data/TD_RGB_E/TD_RGB_E_Set4/103/TD_RGB_E_5.jpg', 'data/TD_RGB_E/TD_RGB_E_Set4/103/TD_RGB_E_4.jpg', 'data/TD_RGB_E/TD_RGB_E_Set4/103/TD_RGB_E_1.jpg', 'data/TD_RGB_E/TD_RGB_E_Set4/103/TD_RGB_E_3.jpg', 'data/TD_RGB_E/TD_RGB_E_Set4/103/TD_RGB_E_2.jpg', 'data/TD_RGB_E/TD_RGB_E_Set4/102/TD_RGB_E_5.jpg', 'data/TD_RGB_E/TD_RGB_E_Set4/102/TD_RGB_E_4.jpg', 'data/TD_RGB_E/TD_RGB_E_Set4/102/TD_RGB_E_1.jpg', 'data/TD_RGB_E/TD_RGB_E_Set4/102/TD_RGB_E_3.jpg', 'data/TD_RGB_E/TD_RGB_E_Set4/102/TD_RGB_E_2.jpg', 'data/TD_RGB_E/TD_RGB_E_Set4/105/TD_RGB_E_5.jpg', 'data/TD_RGB_E/TD_RGB_E_Set4/105/TD_RGB_E_4.jpg', 'data/TD_RGB_E/TD_RGB_E_Set4/105/TD_RGB_E_1.jpg', 'data/TD_RGB_E/TD_RGB_E_Set4/105/TD_RGB_E_3.jpg', 'data/TD_RGB_E/TD_RGB_E_Set4/105/TD_RGB_E_2.jpg', 'data/TD_RGB_E/TD_RGB_E_Set4/93/TD_RGB_E_5.jpg', 'data/TD_RGB_E/TD_RGB_E_Set4/93/TD_RGB_E_4.jpg', 'data/TD_RGB_E/TD_RGB_E_Set4/93/TD_RGB_E_1.jpg', 'data/TD_RGB_E/TD_RGB_E_Set4/93/TD_RGB_E_3.jpg', 'data/TD_RGB_E/TD_RGB_E_Set4/93/TD_RGB_E_2.jpg', 'data/TD_RGB_E/TD_RGB_E_Set4/94/TD_RGB_E_5.jpg', 'data/TD_RGB_E/TD_RGB_E_Set4/94/TD_RGB_E_4.jpg', 'data/TD_RGB_E/TD_RGB_E_Set4/94/TD_RGB_E_1.jpg', 'data/TD_RGB_E/TD_RGB_E_Set4/94/TD_RGB_E_3.jpg', 'data/TD_RGB_E/TD_RGB_E_Set4/94/TD_RGB_E_2.jpg', 'data/TD_RGB_E/TD_RGB_E_Set4/89/TD_RGB_E_5.jpg', 'data/TD_RGB_E/TD_RGB_E_Set4/89/TD_RGB_E_4.jpg', 'data/TD_RGB_E/TD_RGB_E_Set4/89/TD_RGB_E_1.jpg', 'data/TD_RGB_E/TD_RGB_E_Set4/89/TD_RGB_E_3.jpg', 'data/TD_RGB_E/TD_RGB_E_Set4/89/TD_RGB_E_2.jpg', 'data/TD_RGB_E/TD_RGB_E_Set4/111/TD_RGB_E_5.jpg', 'data/TD_RGB_E/TD_RGB_E_Set4/111/TD_RGB_E_4.jpg', 'data/TD_RGB_E/TD_RGB_E_Set4/111/TD_RGB_E_1.jpg', 'data/TD_RGB_E/TD_RGB_E_Set4/111/TD_RGB_E_3.jpg', 'data/TD_RGB_E/TD_RGB_E_Set4/111/TD_RGB_E_2.jpg', 'data/TD_RGB_E/TD_RGB_E_Set4/87/TD_RGB_E_5.jpg', 'data/TD_RGB_E/TD_RGB_E_Set4/87/TD_RGB_E_4.jpg', 'data/TD_RGB_E/TD_RGB_E_Set4/87/TD_RGB_E_1.jpg', 'data/TD_RGB_E/TD_RGB_E_Set4/87/TD_RGB_E_3.jpg', 'data/TD_RGB_E/TD_RGB_E_Set4/87/TD_RGB_E_2.jpg', 'data/TD_RGB_E/TD_RGB_E_Set4/80/TD_RGB_E_5.jpg', 'data/TD_RGB_E/TD_RGB_E_Set4/80/TD_RGB_E_4.jpg', 'data/TD_RGB_E/TD_RGB_E_Set4/80/TD_RGB_E_1.jpg', 'data/TD_RGB_E/TD_RGB_E_Set4/80/TD_RGB_E_3.jpg', 'data/TD_RGB_E/TD_RGB_E_Set4/80/TD_RGB_E_2.jpg', 'data/TD_RGB_E/TD_RGB_E_Set4/81/TD_RGB_E_5.jpg', 'data/TD_RGB_E/TD_RGB_E_Set4/81/TD_RGB_E_4.jpg', 'data/TD_RGB_E/TD_RGB_E_Set4/81/TD_RGB_E_1.jpg', 'data/TD_RGB_E/TD_RGB_E_Set4/81/TD_RGB_E_3.jpg', 'data/TD_RGB_E/TD_RGB_E_Set4/81/TD_RGB_E_2.jpg', 'data/TD_RGB_E/TD_RGB_E_Set4/86/TD_RGB_E_5.jpg', 'data/TD_RGB_E/TD_RGB_E_Set4/86/TD_RGB_E_4.jpg', 'data/TD_RGB_E/TD_RGB_E_Set4/86/TD_RGB_E_1.jpg', 'data/TD_RGB_E/TD_RGB_E_Set4/86/TD_RGB_E_3.jpg', 'data/TD_RGB_E/TD_RGB_E_Set4/86/TD_RGB_E_2.jpg', 'data/TD_RGB_E/TD_RGB_E_Set4/110/TD_RGB_E_5.jpg', 'data/TD_RGB_E/TD_RGB_E_Set4/110/TD_RGB_E_4.jpg', 'data/TD_RGB_E/TD_RGB_E_Set4/110/TD_RGB_E_1.jpg', 'data/TD_RGB_E/TD_RGB_E_Set4/110/TD_RGB_E_3.jpg', 'data/TD_RGB_E/TD_RGB_E_Set4/110/TD_RGB_E_2.jpg', 'data/TD_RGB_E/TD_RGB_E_Set4/88/TD_RGB_E_5.jpg', 'data/TD_RGB_E/TD_RGB_E_Set4/88/TD_RGB_E_4.jpg', 'data/TD_RGB_E/TD_RGB_E_Set4/88/TD_RGB_E_1.jpg', 'data/TD_RGB_E/TD_RGB_E_Set4/88/TD_RGB_E_3.jpg', 'data/TD_RGB_E/TD_RGB_E_Set4/88/TD_RGB_E_2.jpg', 'data/TD_RGB_E/TD_RGB_E_Set4/91/TD_RGB_E_5.jpg', 'data/TD_RGB_E/TD_RGB_E_Set4/91/TD_RGB_E_4.jpg', 'data/TD_RGB_E/TD_RGB_E_Set4/91/TD_RGB_E_1.jpg', 'data/TD_RGB_E/TD_RGB_E_Set4/91/TD_RGB_E_3.jpg', 'data/TD_RGB_E/TD_RGB_E_Set4/91/TD_RGB_E_2.jpg', 'data/TD_RGB_E/TD_RGB_E_Set4/96/TD_RGB_E_5.jpg', 'data/TD_RGB_E/TD_RGB_E_Set4/96/TD_RGB_E_4.jpg', 'data/TD_RGB_E/TD_RGB_E_Set4/96/TD_RGB_E_1.jpg', 'data/TD_RGB_E/TD_RGB_E_Set4/96/TD_RGB_E_3.jpg', 'data/TD_RGB_E/TD_RGB_E_Set4/96/TD_RGB_E_2.jpg', 'data/TD_RGB_E/TD_RGB_E_Set4/109/TD_RGB_E_5.jpg', 'data/TD_RGB_E/TD_RGB_E_Set4/109/TD_RGB_E_4.jpg', 'data/TD_RGB_E/TD_RGB_E_Set4/109/TD_RGB_E_1.jpg', 'data/TD_RGB_E/TD_RGB_E_Set4/109/TD_RGB_E_3.jpg', 'data/TD_RGB_E/TD_RGB_E_Set4/109/TD_RGB_E_2.jpg', 'data/TD_RGB_E/TD_RGB_E_Set4/100/TD_RGB_E_5.jpg', 'data/TD_RGB_E/TD_RGB_E_Set4/100/TD_RGB_E_4.jpg', 'data/TD_RGB_E/TD_RGB_E_Set4/100/TD_RGB_E_1.jpg', 'data/TD_RGB_E/TD_RGB_E_Set4/100/TD_RGB_E_3.jpg', 'data/TD_RGB_E/TD_RGB_E_Set4/100/TD_RGB_E_2.jpg', 'data/TD_RGB_E/TD_RGB_E_Set4/107/TD_RGB_E_5.jpg', 'data/TD_RGB_E/TD_RGB_E_Set4/107/TD_RGB_E_4.jpg', 'data/TD_RGB_E/TD_RGB_E_Set4/107/TD_RGB_E_1.jpg', 'data/TD_RGB_E/TD_RGB_E_Set4/107/TD_RGB_E_3.jpg', 'data/TD_RGB_E/TD_RGB_E_Set4/107/TD_RGB_E_2.jpg', 'data/TD_RGB_E/TD_RGB_E_Set4/98/TD_RGB_E_5.jpg', 'data/TD_RGB_E/TD_RGB_E_Set4/98/TD_RGB_E_4.jpg', 'data/TD_RGB_E/TD_RGB_E_Set4/98/TD_RGB_E_1.jpg', 'data/TD_RGB_E/TD_RGB_E_Set4/98/TD_RGB_E_3.jpg', 'data/TD_RGB_E/TD_RGB_E_Set4/98/TD_RGB_E_2.jpg', 'data/TD_RGB_E/TD_RGB_E_Set4/106/TD_RGB_E_5.jpg', 'data/TD_RGB_E/TD_RGB_E_Set4/106/TD_RGB_E_4.jpg', 'data/TD_RGB_E/TD_RGB_E_Set4/106/TD_RGB_E_1.jpg', 'data/TD_RGB_E/TD_RGB_E_Set4/106/TD_RGB_E_3.jpg', 'data/TD_RGB_E/TD_RGB_E_Set4/106/TD_RGB_E_2.jpg', 'data/TD_RGB_E/TD_RGB_E_Set4/99/TD_RGB_E_5.jpg', 'data/TD_RGB_E/TD_RGB_E_Set4/99/TD_RGB_E_4.jpg', 'data/TD_RGB_E/TD_RGB_E_Set4/99/TD_RGB_E_1.jpg', 'data/TD_RGB_E/TD_RGB_E_Set4/99/TD_RGB_E_3.jpg', 'data/TD_RGB_E/TD_RGB_E_Set4/99/TD_RGB_E_2.jpg', 'data/TD_RGB_E/TD_RGB_E_Set4/101/TD_RGB_E_5.jpg', 'data/TD_RGB_E/TD_RGB_E_Set4/101/TD_RGB_E_4.jpg', 'data/TD_RGB_E/TD_RGB_E_Set4/101/TD_RGB_E_1.jpg', 'data/TD_RGB_E/TD_RGB_E_Set4/101/TD_RGB_E_3.jpg', 'data/TD_RGB_E/TD_RGB_E_Set4/101/TD_RGB_E_2.jpg', 'data/TD_RGB_E/TD_RGB_E_Set4/97/TD_RGB_E_5.jpg', 'data/TD_RGB_E/TD_RGB_E_Set4/97/TD_RGB_E_4.jpg', 'data/TD_RGB_E/TD_RGB_E_Set4/97/TD_RGB_E_1.jpg', 'data/TD_RGB_E/TD_RGB_E_Set4/97/TD_RGB_E_3.jpg', 'data/TD_RGB_E/TD_RGB_E_Set4/97/TD_RGB_E_2.jpg', 'data/TD_RGB_E/TD_RGB_E_Set4/108/TD_RGB_E_5.jpg', 'data/TD_RGB_E/TD_RGB_E_Set4/108/TD_RGB_E_4.jpg', 'data/TD_RGB_E/TD_RGB_E_Set4/108/TD_RGB_E_1.jpg', 'data/TD_RGB_E/TD_RGB_E_Set4/108/TD_RGB_E_3.jpg', 'data/TD_RGB_E/TD_RGB_E_Set4/108/TD_RGB_E_2.jpg', 'data/TD_RGB_E/TD_RGB_E_Set4/90/TD_RGB_E_5.jpg', 'data/TD_RGB_E/TD_RGB_E_Set4/90/TD_RGB_E_4.jpg', 'data/TD_RGB_E/TD_RGB_E_Set4/90/TD_RGB_E_1.jpg', 'data/TD_RGB_E/TD_RGB_E_Set4/90/TD_RGB_E_3.jpg', 'data/TD_RGB_E/TD_RGB_E_Set4/90/TD_RGB_E_2.jpg', 'data/TD_RGB_E/TD_RGB_E_Set4/79/TD_RGB_E_5.jpg', 'data/TD_RGB_E/TD_RGB_E_Set4/79/TD_RGB_E_4.jpg', 'data/TD_RGB_E/TD_RGB_E_Set4/79/TD_RGB_E_1.jpg', 'data/TD_RGB_E/TD_RGB_E_Set4/79/TD_RGB_E_3.jpg', 'data/TD_RGB_E/TD_RGB_E_Set4/79/TD_RGB_E_2.jpg', 'data/TD_RGB_E/TD_RGB_E_Set4/112/TD_RGB_E_5.jpg', 'data/TD_RGB_E/TD_RGB_E_Set4/112/TD_RGB_E_4.jpg', 'data/TD_RGB_E/TD_RGB_E_Set4/112/TD_RGB_E_1.jpg', 'data/TD_RGB_E/TD_RGB_E_Set4/112/TD_RGB_E_3.jpg', 'data/TD_RGB_E/TD_RGB_E_Set4/112/TD_RGB_E_2.jpg', 'data/TD_RGB_E/TD_RGB_E_Set4/83/TD_RGB_E_5.jpg', 'data/TD_RGB_E/TD_RGB_E_Set4/83/TD_RGB_E_4.jpg', 'data/TD_RGB_E/TD_RGB_E_Set4/83/TD_RGB_E_1.jpg', 'data/TD_RGB_E/TD_RGB_E_Set4/83/TD_RGB_E_3.jpg', 'data/TD_RGB_E/TD_RGB_E_Set4/83/TD_RGB_E_2.jpg', 'data/TD_RGB_E/TD_RGB_E_Set4/77/TD_RGB_E_5.jpg', 'data/TD_RGB_E/TD_RGB_E_Set4/77/TD_RGB_E_4.jpg', 'data/TD_RGB_E/TD_RGB_E_Set4/77/TD_RGB_E_1.jpg', 'data/TD_RGB_E/TD_RGB_E_Set4/77/TD_RGB_E_3.jpg', 'data/TD_RGB_E/TD_RGB_E_Set4/77/TD_RGB_E_2.jpg', 'data/TD_RGB_E/TD_RGB_E_Set4/84/TD_RGB_E_5.jpg', 'data/TD_RGB_E/TD_RGB_E_Set4/84/TD_RGB_E_4.jpg', 'data/TD_RGB_E/TD_RGB_E_Set4/84/TD_RGB_E_1.jpg', 'data/TD_RGB_E/TD_RGB_E_Set4/84/TD_RGB_E_3.jpg', 'data/TD_RGB_E/TD_RGB_E_Set4/84/TD_RGB_E_2.jpg', 'data/TD_RGB_E/TD_RGB_E_Set4/85/TD_RGB_E_5.jpg', 'data/TD_RGB_E/TD_RGB_E_Set4/85/TD_RGB_E_4.jpg', 'data/TD_RGB_E/TD_RGB_E_Set4/85/TD_RGB_E_1.jpg', 'data/TD_RGB_E/TD_RGB_E_Set4/85/TD_RGB_E_3.jpg', 'data/TD_RGB_E/TD_RGB_E_Set4/85/TD_RGB_E_2.jpg', 'data/TD_RGB_E/TD_RGB_E_Set4/76/TD_RGB_E_5.jpg', 'data/TD_RGB_E/TD_RGB_E_Set4/76/TD_RGB_E_4.jpg', 'data/TD_RGB_E/TD_RGB_E_Set4/76/TD_RGB_E_1.jpg', 'data/TD_RGB_E/TD_RGB_E_Set4/76/TD_RGB_E_3.jpg', 'data/TD_RGB_E/TD_RGB_E_Set4/76/TD_RGB_E_2.jpg', 'data/TD_RGB_E/TD_RGB_E_Set4/82/TD_RGB_E_5.jpg', 'data/TD_RGB_E/TD_RGB_E_Set4/82/TD_RGB_E_4.jpg', 'data/TD_RGB_E/TD_RGB_E_Set4/82/TD_RGB_E_1.jpg', 'data/TD_RGB_E/TD_RGB_E_Set4/82/TD_RGB_E_3.jpg', 'data/TD_RGB_E/TD_RGB_E_Set4/82/TD_RGB_E_2.jpg', 'data/TD_RGB_E/TD_RGB_E_Set4/113/TD_RGB_E_5.jpg', 'data/TD_RGB_E/TD_RGB_E_Set4/113/TD_RGB_E_4.jpg', 'data/TD_RGB_E/TD_RGB_E_Set4/113/TD_RGB_E_1.jpg', 'data/TD_RGB_E/TD_RGB_E_Set4/113/TD_RGB_E_3.jpg', 'data/TD_RGB_E/TD_RGB_E_Set4/113/TD_RGB_E_2.jpg', 'data/TD_RGB_E/TD_RGB_E_Set4/78/TD_RGB_E_5.jpg', 'data/TD_RGB_E/TD_RGB_E_Set4/78/TD_RGB_E_4.jpg', 'data/TD_RGB_E/TD_RGB_E_Set4/78/TD_RGB_E_1.jpg', 'data/TD_RGB_E/TD_RGB_E_Set4/78/TD_RGB_E_3.jpg', 'data/TD_RGB_E/TD_RGB_E_Set4/78/TD_RGB_E_2.jpg', 'data/TD_RGB_E/TD_RGB_E_Set3/61/TD_RGB_E_5.jpg', 'data/TD_RGB_E/TD_RGB_E_Set3/61/TD_RGB_E_4.jpg', 'data/TD_RGB_E/TD_RGB_E_Set3/61/TD_RGB_E_1.jpg', 'data/TD_RGB_E/TD_RGB_E_Set3/61/TD_RGB_E_3.jpg', 'data/TD_RGB_E/TD_RGB_E_Set3/61/TD_RGB_E_2.jpg', 'data/TD_RGB_E/TD_RGB_E_Set3/59/TD_RGB_E_5.jpg', 'data/TD_RGB_E/TD_RGB_E_Set3/59/TD_RGB_E_4.jpg', 'data/TD_RGB_E/TD_RGB_E_Set3/59/TD_RGB_E_1.jpg', 'data/TD_RGB_E/TD_RGB_E_Set3/59/TD_RGB_E_3.jpg', 'data/TD_RGB_E/TD_RGB_E_Set3/59/TD_RGB_E_2.jpg', 'data/TD_RGB_E/TD_RGB_E_Set3/66/TD_RGB_E_5.jpg', 'data/TD_RGB_E/TD_RGB_E_Set3/66/TD_RGB_E_4.jpg', 'data/TD_RGB_E/TD_RGB_E_Set3/66/TD_RGB_E_1.jpg', 'data/TD_RGB_E/TD_RGB_E_Set3/66/TD_RGB_E_3.jpg', 'data/TD_RGB_E/TD_RGB_E_Set3/66/TD_RGB_E_2.jpg', 'data/TD_RGB_E/TD_RGB_E_Set3/68/TD_RGB_E_5.jpg', 'data/TD_RGB_E/TD_RGB_E_Set3/68/TD_RGB_E_4.jpg', 'data/TD_RGB_E/TD_RGB_E_Set3/68/TD_RGB_E_1.jpg', 'data/TD_RGB_E/TD_RGB_E_Set3/68/TD_RGB_E_3.jpg', 'data/TD_RGB_E/TD_RGB_E_Set3/68/TD_RGB_E_2.jpg', 'data/TD_RGB_E/TD_RGB_E_Set3/57/TD_RGB_E_5.jpg', 'data/TD_RGB_E/TD_RGB_E_Set3/57/TD_RGB_E_4.jpg', 'data/TD_RGB_E/TD_RGB_E_Set3/57/TD_RGB_E_1.jpg', 'data/TD_RGB_E/TD_RGB_E_Set3/57/TD_RGB_E_3.jpg', 'data/TD_RGB_E/TD_RGB_E_Set3/57/TD_RGB_E_2.jpg', 'data/TD_RGB_E/TD_RGB_E_Set3/69/TD_RGB_E_5.jpg', 'data/TD_RGB_E/TD_RGB_E_Set3/69/TD_RGB_E_4.jpg', 'data/TD_RGB_E/TD_RGB_E_Set3/69/TD_RGB_E_1.jpg', 'data/TD_RGB_E/TD_RGB_E_Set3/69/TD_RGB_E_3.jpg', 'data/TD_RGB_E/TD_RGB_E_Set3/69/TD_RGB_E_2.jpg', 'data/TD_RGB_E/TD_RGB_E_Set3/56/TD_RGB_E_5.jpg', 'data/TD_RGB_E/TD_RGB_E_Set3/56/TD_RGB_E_4.jpg', 'data/TD_RGB_E/TD_RGB_E_Set3/56/TD_RGB_E_1.jpg', 'data/TD_RGB_E/TD_RGB_E_Set3/56/TD_RGB_E_3.jpg', 'data/TD_RGB_E/TD_RGB_E_Set3/56/TD_RGB_E_2.jpg', 'data/TD_RGB_E/TD_RGB_E_Set3/51/TD_RGB_E_5.jpg', 'data/TD_RGB_E/TD_RGB_E_Set3/51/TD_RGB_E_4.jpg', 'data/TD_RGB_E/TD_RGB_E_Set3/51/TD_RGB_E_1.jpg', 'data/TD_RGB_E/TD_RGB_E_Set3/51/TD_RGB_E_3.jpg', 'data/TD_RGB_E/TD_RGB_E_Set3/51/TD_RGB_E_2.jpg', 'data/TD_RGB_E/TD_RGB_E_Set3/58/TD_RGB_E_5.jpg', 'data/TD_RGB_E/TD_RGB_E_Set3/58/TD_RGB_E_4.jpg', 'data/TD_RGB_E/TD_RGB_E_Set3/58/TD_RGB_E_1.jpg', 'data/TD_RGB_E/TD_RGB_E_Set3/58/TD_RGB_E_3.jpg', 'data/TD_RGB_E/TD_RGB_E_Set3/58/TD_RGB_E_2.jpg', 'data/TD_RGB_E/TD_RGB_E_Set3/67/TD_RGB_E_5.jpg', 'data/TD_RGB_E/TD_RGB_E_Set3/67/TD_RGB_E_4.jpg', 'data/TD_RGB_E/TD_RGB_E_Set3/67/TD_RGB_E_1.jpg', 'data/TD_RGB_E/TD_RGB_E_Set3/67/TD_RGB_E_3.jpg', 'data/TD_RGB_E/TD_RGB_E_Set3/67/TD_RGB_E_2.jpg', 'data/TD_RGB_E/TD_RGB_E_Set3/60/TD_RGB_E_5.jpg', 'data/TD_RGB_E/TD_RGB_E_Set3/60/TD_RGB_E_4.jpg', 'data/TD_RGB_E/TD_RGB_E_Set3/60/TD_RGB_E_1.jpg', 'data/TD_RGB_E/TD_RGB_E_Set3/60/TD_RGB_E_3.jpg', 'data/TD_RGB_E/TD_RGB_E_Set3/60/TD_RGB_E_2.jpg', 'data/TD_RGB_E/TD_RGB_E_Set3/73/TD_RGB_E_5.jpg', 'data/TD_RGB_E/TD_RGB_E_Set3/73/TD_RGB_E_4.jpg', 'data/TD_RGB_E/TD_RGB_E_Set3/73/TD_RGB_E_1.jpg', 'data/TD_RGB_E/TD_RGB_E_Set3/73/TD_RGB_E_3.jpg', 'data/TD_RGB_E/TD_RGB_E_Set3/73/TD_RGB_E_2.jpg', 'data/TD_RGB_E/TD_RGB_E_Set3/74/TD_RGB_E_5.jpg', 'data/TD_RGB_E/TD_RGB_E_Set3/74/TD_RGB_E_4.jpg', 'data/TD_RGB_E/TD_RGB_E_Set3/74/TD_RGB_E_1.jpg', 'data/TD_RGB_E/TD_RGB_E_Set3/74/TD_RGB_E_3.jpg', 'data/TD_RGB_E/TD_RGB_E_Set3/74/TD_RGB_E_2.jpg', 'data/TD_RGB_E/TD_RGB_E_Set3/75/TD_RGB_E_5.jpg', 'data/TD_RGB_E/TD_RGB_E_Set3/75/TD_RGB_E_4.jpg', 'data/TD_RGB_E/TD_RGB_E_Set3/75/TD_RGB_E_1.jpg', 'data/TD_RGB_E/TD_RGB_E_Set3/75/TD_RGB_E_3.jpg', 'data/TD_RGB_E/TD_RGB_E_Set3/75/TD_RGB_E_2.jpg', 'data/TD_RGB_E/TD_RGB_E_Set3/72/TD_RGB_E_5.jpg', 'data/TD_RGB_E/TD_RGB_E_Set3/72/TD_RGB_E_4.jpg', 'data/TD_RGB_E/TD_RGB_E_Set3/72/TD_RGB_E_1.jpg', 'data/TD_RGB_E/TD_RGB_E_Set3/72/TD_RGB_E_3.jpg', 'data/TD_RGB_E/TD_RGB_E_Set3/72/TD_RGB_E_2.jpg', 'data/TD_RGB_E/TD_RGB_E_Set3/65/TD_RGB_E_5.jpg', 'data/TD_RGB_E/TD_RGB_E_Set3/65/TD_RGB_E_4.jpg', 'data/TD_RGB_E/TD_RGB_E_Set3/65/TD_RGB_E_1.jpg', 'data/TD_RGB_E/TD_RGB_E_Set3/65/TD_RGB_E_3.jpg', 'data/TD_RGB_E/TD_RGB_E_Set3/65/TD_RGB_E_2.jpg', 'data/TD_RGB_E/TD_RGB_E_Set3/62/TD_RGB_E_5.jpg', 'data/TD_RGB_E/TD_RGB_E_Set3/62/TD_RGB_E_4.jpg', 'data/TD_RGB_E/TD_RGB_E_Set3/62/TD_RGB_E_1.jpg', 'data/TD_RGB_E/TD_RGB_E_Set3/62/TD_RGB_E_3.jpg', 'data/TD_RGB_E/TD_RGB_E_Set3/62/TD_RGB_E_2.jpg', 'data/TD_RGB_E/TD_RGB_E_Set3/54/TD_RGB_E_5.jpg', 'data/TD_RGB_E/TD_RGB_E_Set3/54/TD_RGB_E_4.jpg', 'data/TD_RGB_E/TD_RGB_E_Set3/54/TD_RGB_E_1.jpg', 'data/TD_RGB_E/TD_RGB_E_Set3/54/TD_RGB_E_3.jpg', 'data/TD_RGB_E/TD_RGB_E_Set3/54/TD_RGB_E_2.jpg', 'data/TD_RGB_E/TD_RGB_E_Set3/53/TD_RGB_E_5.jpg', 'data/TD_RGB_E/TD_RGB_E_Set3/53/TD_RGB_E_4.jpg', 'data/TD_RGB_E/TD_RGB_E_Set3/53/TD_RGB_E_1.jpg', 'data/TD_RGB_E/TD_RGB_E_Set3/53/TD_RGB_E_3.jpg', 'data/TD_RGB_E/TD_RGB_E_Set3/53/TD_RGB_E_2.jpg', 'data/TD_RGB_E/TD_RGB_E_Set3/52/TD_RGB_E_5.jpg', 'data/TD_RGB_E/TD_RGB_E_Set3/52/TD_RGB_E_4.jpg', 'data/TD_RGB_E/TD_RGB_E_Set3/52/TD_RGB_E_1.jpg', 'data/TD_RGB_E/TD_RGB_E_Set3/52/TD_RGB_E_3.jpg', 'data/TD_RGB_E/TD_RGB_E_Set3/52/TD_RGB_E_2.jpg', 'data/TD_RGB_E/TD_RGB_E_Set3/55/TD_RGB_E_5.jpg', 'data/TD_RGB_E/TD_RGB_E_Set3/55/TD_RGB_E_4.jpg', 'data/TD_RGB_E/TD_RGB_E_Set3/55/TD_RGB_E_1.jpg', 'data/TD_RGB_E/TD_RGB_E_Set3/55/TD_RGB_E_3.jpg', 'data/TD_RGB_E/TD_RGB_E_Set3/55/TD_RGB_E_2.jpg', 'data/TD_RGB_E/TD_RGB_E_Set3/63/TD_RGB_E_5.jpg', 'data/TD_RGB_E/TD_RGB_E_Set3/63/TD_RGB_E_4.jpg', 'data/TD_RGB_E/TD_RGB_E_Set3/63/TD_RGB_E_1.jpg', 'data/TD_RGB_E/TD_RGB_E_Set3/63/TD_RGB_E_3.jpg', 'data/TD_RGB_E/TD_RGB_E_Set3/63/TD_RGB_E_2.jpg', 'data/TD_RGB_E/TD_RGB_E_Set3/64/TD_RGB_E_5.jpg', 'data/TD_RGB_E/TD_RGB_E_Set3/64/TD_RGB_E_4.jpg', 'data/TD_RGB_E/TD_RGB_E_Set3/64/TD_RGB_E_1.jpg', 'data/TD_RGB_E/TD_RGB_E_Set3/64/TD_RGB_E_3.jpg', 'data/TD_RGB_E/TD_RGB_E_Set3/64/TD_RGB_E_2.jpg', 'data/TD_RGB_E/TD_RGB_E_Set3/70/TD_RGB_E_5.jpg', 'data/TD_RGB_E/TD_RGB_E_Set3/70/TD_RGB_E_4.jpg', 'data/TD_RGB_E/TD_RGB_E_Set3/70/TD_RGB_E_1.jpg', 'data/TD_RGB_E/TD_RGB_E_Set3/70/TD_RGB_E_3.jpg', 'data/TD_RGB_E/TD_RGB_E_Set3/70/TD_RGB_E_2.jpg', 'data/TD_RGB_E/TD_RGB_E_Set3/71/TD_RGB_E_5.jpg', 'data/TD_RGB_E/TD_RGB_E_Set3/71/TD_RGB_E_4.jpg', 'data/TD_RGB_E/TD_RGB_E_Set3/71/TD_RGB_E_1.jpg', 'data/TD_RGB_E/TD_RGB_E_Set3/71/TD_RGB_E_3.jpg', 'data/TD_RGB_E/TD_RGB_E_Set3/71/TD_RGB_E_2.jpg', 'data/TD_RGB_E/TD_RGB_E_Set2/50/TD_RGB_E_5.jpg', 'data/TD_RGB_E/TD_RGB_E_Set2/50/TD_RGB_E_4.jpg', 'data/TD_RGB_E/TD_RGB_E_Set2/50/TD_RGB_E_1.jpg', 'data/TD_RGB_E/TD_RGB_E_Set2/50/TD_RGB_E_3.jpg', 'data/TD_RGB_E/TD_RGB_E_Set2/50/TD_RGB_E_2.jpg', 'data/TD_RGB_E/TD_RGB_E_Set2/32/TD_RGB_E_5.jpg', 'data/TD_RGB_E/TD_RGB_E_Set2/32/TD_RGB_E_4.jpg', 'data/TD_RGB_E/TD_RGB_E_Set2/32/TD_RGB_E_1.jpg', 'data/TD_RGB_E/TD_RGB_E_Set2/32/TD_RGB_E_3.jpg', 'data/TD_RGB_E/TD_RGB_E_Set2/32/TD_RGB_E_2.jpg', 'data/TD_RGB_E/TD_RGB_E_Set2/35/TD_RGB_E_5.jpg', 'data/TD_RGB_E/TD_RGB_E_Set2/35/TD_RGB_E_4.jpg', 'data/TD_RGB_E/TD_RGB_E_Set2/35/TD_RGB_E_1.jpg', 'data/TD_RGB_E/TD_RGB_E_Set2/35/TD_RGB_E_3.jpg', 'data/TD_RGB_E/TD_RGB_E_Set2/35/TD_RGB_E_2.jpg', 'data/TD_RGB_E/TD_RGB_E_Set2/34/TD_RGB_E_5.jpg', 'data/TD_RGB_E/TD_RGB_E_Set2/34/TD_RGB_E_4.jpg', 'data/TD_RGB_E/TD_RGB_E_Set2/34/TD_RGB_E_1.jpg', 'data/TD_RGB_E/TD_RGB_E_Set2/34/TD_RGB_E_3.jpg', 'data/TD_RGB_E/TD_RGB_E_Set2/34/TD_RGB_E_2.jpg', 'data/TD_RGB_E/TD_RGB_E_Set2/33/TD_RGB_E_5.jpg', 'data/TD_RGB_E/TD_RGB_E_Set2/33/TD_RGB_E_4.jpg', 'data/TD_RGB_E/TD_RGB_E_Set2/33/TD_RGB_E_1.jpg', 'data/TD_RGB_E/TD_RGB_E_Set2/33/TD_RGB_E_3.jpg', 'data/TD_RGB_E/TD_RGB_E_Set2/33/TD_RGB_E_2.jpg', 'data/TD_RGB_E/TD_RGB_E_Set2/27/TD_RGB_E_5.jpg', 'data/TD_RGB_E/TD_RGB_E_Set2/27/TD_RGB_E_4.jpg', 'data/TD_RGB_E/TD_RGB_E_Set2/27/TD_RGB_E_1.jpg', 'data/TD_RGB_E/TD_RGB_E_Set2/27/TD_RGB_E_3.jpg', 'data/TD_RGB_E/TD_RGB_E_Set2/27/TD_RGB_E_2.jpg', 'data/TD_RGB_E/TD_RGB_E_Set2/29/TD_RGB_E_5.jpg', 'data/TD_RGB_E/TD_RGB_E_Set2/29/TD_RGB_E_4.jpg', 'data/TD_RGB_E/TD_RGB_E_Set2/29/TD_RGB_E_1.jpg', 'data/TD_RGB_E/TD_RGB_E_Set2/29/TD_RGB_E_3.jpg', 'data/TD_RGB_E/TD_RGB_E_Set2/29/TD_RGB_E_2.jpg', 'data/TD_RGB_E/TD_RGB_E_Set2/42/TD_RGB_E_5.jpg', 'data/TD_RGB_E/TD_RGB_E_Set2/42/TD_RGB_E_4.jpg', 'data/TD_RGB_E/TD_RGB_E_Set2/42/TD_RGB_E_1.jpg', 'data/TD_RGB_E/TD_RGB_E_Set2/42/TD_RGB_E_3.jpg', 'data/TD_RGB_E/TD_RGB_E_Set2/42/TD_RGB_E_2.jpg', 'data/TD_RGB_E/TD_RGB_E_Set2/45/TD_RGB_E_5.jpg', 'data/TD_RGB_E/TD_RGB_E_Set2/45/TD_RGB_E_4.jpg', 'data/TD_RGB_E/TD_RGB_E_Set2/45/TD_RGB_E_1.jpg', 'data/TD_RGB_E/TD_RGB_E_Set2/45/TD_RGB_E_3.jpg', 'data/TD_RGB_E/TD_RGB_E_Set2/45/TD_RGB_E_2.jpg', 'data/TD_RGB_E/TD_RGB_E_Set2/28/TD_RGB_E_5.jpg', 'data/TD_RGB_E/TD_RGB_E_Set2/28/TD_RGB_E_4.jpg', 'data/TD_RGB_E/TD_RGB_E_Set2/28/TD_RGB_E_1.jpg', 'data/TD_RGB_E/TD_RGB_E_Set2/28/TD_RGB_E_3.jpg', 'data/TD_RGB_E/TD_RGB_E_Set2/28/TD_RGB_E_2.jpg', 'data/TD_RGB_E/TD_RGB_E_Set2/26/TD_RGB_E_5.jpg', 'data/TD_RGB_E/TD_RGB_E_Set2/26/TD_RGB_E_4.jpg', 'data/TD_RGB_E/TD_RGB_E_Set2/26/TD_RGB_E_1.jpg', 'data/TD_RGB_E/TD_RGB_E_Set2/26/TD_RGB_E_3.jpg', 'data/TD_RGB_E/TD_RGB_E_Set2/26/TD_RGB_E_2.jpg', 'data/TD_RGB_E/TD_RGB_E_Set2/44/TD_RGB_E_5.jpg', 'data/TD_RGB_E/TD_RGB_E_Set2/44/TD_RGB_E_4.jpg', 'data/TD_RGB_E/TD_RGB_E_Set2/44/TD_RGB_E_1.jpg', 'data/TD_RGB_E/TD_RGB_E_Set2/44/TD_RGB_E_3.jpg', 'data/TD_RGB_E/TD_RGB_E_Set2/44/TD_RGB_E_2.jpg', 'data/TD_RGB_E/TD_RGB_E_Set2/43/TD_RGB_E_5.jpg', 'data/TD_RGB_E/TD_RGB_E_Set2/43/TD_RGB_E_4.jpg', 'data/TD_RGB_E/TD_RGB_E_Set2/43/TD_RGB_E_1.jpg', 'data/TD_RGB_E/TD_RGB_E_Set2/43/TD_RGB_E_3.jpg', 'data/TD_RGB_E/TD_RGB_E_Set2/43/TD_RGB_E_2.jpg', 'data/TD_RGB_E/TD_RGB_E_Set2/38/TD_RGB_E_5.jpg', 'data/TD_RGB_E/TD_RGB_E_Set2/38/TD_RGB_E_4.jpg', 'data/TD_RGB_E/TD_RGB_E_Set2/38/TD_RGB_E_1.jpg', 'data/TD_RGB_E/TD_RGB_E_Set2/38/TD_RGB_E_3.jpg', 'data/TD_RGB_E/TD_RGB_E_Set2/38/TD_RGB_E_2.jpg', 'data/TD_RGB_E/TD_RGB_E_Set2/36/TD_RGB_E_5.jpg', 'data/TD_RGB_E/TD_RGB_E_Set2/36/TD_RGB_E_4.jpg', 'data/TD_RGB_E/TD_RGB_E_Set2/36/TD_RGB_E_1.jpg', 'data/TD_RGB_E/TD_RGB_E_Set2/36/TD_RGB_E_3.jpg', 'data/TD_RGB_E/TD_RGB_E_Set2/36/TD_RGB_E_2.jpg', 'data/TD_RGB_E/TD_RGB_E_Set2/31/TD_RGB_E_5.jpg', 'data/TD_RGB_E/TD_RGB_E_Set2/31/TD_RGB_E_4.jpg', 'data/TD_RGB_E/TD_RGB_E_Set2/31/TD_RGB_E_1.jpg', 'data/TD_RGB_E/TD_RGB_E_Set2/31/TD_RGB_E_3.jpg', 'data/TD_RGB_E/TD_RGB_E_Set2/31/TD_RGB_E_2.jpg', 'data/TD_RGB_E/TD_RGB_E_Set2/30/TD_RGB_E_5.jpg', 'data/TD_RGB_E/TD_RGB_E_Set2/30/TD_RGB_E_4.jpg', 'data/TD_RGB_E/TD_RGB_E_Set2/30/TD_RGB_E_1.jpg', 'data/TD_RGB_E/TD_RGB_E_Set2/30/TD_RGB_E_3.jpg', 'data/TD_RGB_E/TD_RGB_E_Set2/30/TD_RGB_E_2.jpg', 'data/TD_RGB_E/TD_RGB_E_Set2/37/TD_RGB_E_5.jpg', 'data/TD_RGB_E/TD_RGB_E_Set2/37/TD_RGB_E_4.jpg', 'data/TD_RGB_E/TD_RGB_E_Set2/37/TD_RGB_E_1.jpg', 'data/TD_RGB_E/TD_RGB_E_Set2/37/TD_RGB_E_3.jpg', 'data/TD_RGB_E/TD_RGB_E_Set2/37/TD_RGB_E_2.jpg', 'data/TD_RGB_E/TD_RGB_E_Set2/39/TD_RGB_E_5.jpg', 'data/TD_RGB_E/TD_RGB_E_Set2/39/TD_RGB_E_4.jpg', 'data/TD_RGB_E/TD_RGB_E_Set2/39/TD_RGB_E_1.jpg', 'data/TD_RGB_E/TD_RGB_E_Set2/39/TD_RGB_E_3.jpg', 'data/TD_RGB_E/TD_RGB_E_Set2/39/TD_RGB_E_2.jpg', 'data/TD_RGB_E/TD_RGB_E_Set2/46/TD_RGB_E_5.jpg', 'data/TD_RGB_E/TD_RGB_E_Set2/46/TD_RGB_E_4.jpg', 'data/TD_RGB_E/TD_RGB_E_Set2/46/TD_RGB_E_1.jpg', 'data/TD_RGB_E/TD_RGB_E_Set2/46/TD_RGB_E_3.jpg', 'data/TD_RGB_E/TD_RGB_E_Set2/46/TD_RGB_E_2.jpg', 'data/TD_RGB_E/TD_RGB_E_Set2/41/TD_RGB_E_5.jpg', 'data/TD_RGB_E/TD_RGB_E_Set2/41/TD_RGB_E_4.jpg', 'data/TD_RGB_E/TD_RGB_E_Set2/41/TD_RGB_E_1.jpg', 'data/TD_RGB_E/TD_RGB_E_Set2/41/TD_RGB_E_3.jpg', 'data/TD_RGB_E/TD_RGB_E_Set2/41/TD_RGB_E_2.jpg', 'data/TD_RGB_E/TD_RGB_E_Set2/48/TD_RGB_E_5.jpg', 'data/TD_RGB_E/TD_RGB_E_Set2/48/TD_RGB_E_4.jpg', 'data/TD_RGB_E/TD_RGB_E_Set2/48/TD_RGB_E_1.jpg', 'data/TD_RGB_E/TD_RGB_E_Set2/48/TD_RGB_E_3.jpg', 'data/TD_RGB_E/TD_RGB_E_Set2/48/TD_RGB_E_2.jpg', 'data/TD_RGB_E/TD_RGB_E_Set2/49/TD_RGB_E_5.jpg', 'data/TD_RGB_E/TD_RGB_E_Set2/49/TD_RGB_E_4.jpg', 'data/TD_RGB_E/TD_RGB_E_Set2/49/TD_RGB_E_1.jpg', 'data/TD_RGB_E/TD_RGB_E_Set2/49/TD_RGB_E_3.jpg', 'data/TD_RGB_E/TD_RGB_E_Set2/49/TD_RGB_E_2.jpg', 'data/TD_RGB_E/TD_RGB_E_Set2/40/TD_RGB_E_5.jpg', 'data/TD_RGB_E/TD_RGB_E_Set2/40/TD_RGB_E_4.jpg', 'data/TD_RGB_E/TD_RGB_E_Set2/40/TD_RGB_E_1.jpg', 'data/TD_RGB_E/TD_RGB_E_Set2/40/TD_RGB_E_3.jpg', 'data/TD_RGB_E/TD_RGB_E_Set2/40/TD_RGB_E_2.jpg', 'data/TD_RGB_E/TD_RGB_E_Set1/20/TD_RGB_E_5.jpg', 'data/TD_RGB_E/TD_RGB_E_Set1/20/TD_RGB_E_4.jpg', 'data/TD_RGB_E/TD_RGB_E_Set1/20/TD_RGB_E_1.jpg', 'data/TD_RGB_E/TD_RGB_E_Set1/20/TD_RGB_E_3.jpg', 'data/TD_RGB_E/TD_RGB_E_Set1/20/TD_RGB_E_2.jpg', 'data/TD_RGB_E/TD_RGB_E_Set1/18/TD_RGB_E_5.jpg', 'data/TD_RGB_E/TD_RGB_E_Set1/18/TD_RGB_E_4.jpg', 'data/TD_RGB_E/TD_RGB_E_Set1/18/TD_RGB_E_1.jpg', 'data/TD_RGB_E/TD_RGB_E_Set1/18/TD_RGB_E_3.jpg', 'data/TD_RGB_E/TD_RGB_E_Set1/18/TD_RGB_E_2.jpg', 'data/TD_RGB_E/TD_RGB_E_Set1/9/TD_RGB_E_5.jpg', 'data/TD_RGB_E/TD_RGB_E_Set1/9/TD_RGB_E_4.jpg', 'data/TD_RGB_E/TD_RGB_E_Set1/9/TD_RGB_E_1.jpg', 'data/TD_RGB_E/TD_RGB_E_Set1/9/TD_RGB_E_3.jpg', 'data/TD_RGB_E/TD_RGB_E_Set1/9/TD_RGB_E_2.jpg', 'data/TD_RGB_E/TD_RGB_E_Set1/11/TD_RGB_E_5.jpg', 'data/TD_RGB_E/TD_RGB_E_Set1/11/TD_RGB_E_4.jpg', 'data/TD_RGB_E/TD_RGB_E_Set1/11/TD_RGB_E_1.jpg', 'data/TD_RGB_E/TD_RGB_E_Set1/11/TD_RGB_E_3.jpg', 'data/TD_RGB_E/TD_RGB_E_Set1/11/TD_RGB_E_2.jpg', 'data/TD_RGB_E/TD_RGB_E_Set1/7/TD_RGB_E_5.jpg', 'data/TD_RGB_E/TD_RGB_E_Set1/7/TD_RGB_E_4.jpg', 'data/TD_RGB_E/TD_RGB_E_Set1/7/TD_RGB_E_1.jpg', 'data/TD_RGB_E/TD_RGB_E_Set1/7/TD_RGB_E_3.jpg', 'data/TD_RGB_E/TD_RGB_E_Set1/7/TD_RGB_E_2.jpg', 'data/TD_RGB_E/TD_RGB_E_Set1/16/TD_RGB_E_5.jpg', 'data/TD_RGB_E/TD_RGB_E_Set1/16/TD_RGB_E_4.jpg', 'data/TD_RGB_E/TD_RGB_E_Set1/16/TD_RGB_E_1.jpg', 'data/TD_RGB_E/TD_RGB_E_Set1/16/TD_RGB_E_3.jpg', 'data/TD_RGB_E/TD_RGB_E_Set1/16/TD_RGB_E_2.jpg', 'data/TD_RGB_E/TD_RGB_E_Set1/6/TD_RGB_E_5.jpg', 'data/TD_RGB_E/TD_RGB_E_Set1/6/TD_RGB_E_4.jpg', 'data/TD_RGB_E/TD_RGB_E_Set1/6/TD_RGB_E_1.jpg', 'data/TD_RGB_E/TD_RGB_E_Set1/6/TD_RGB_E_3.jpg', 'data/TD_RGB_E/TD_RGB_E_Set1/6/TD_RGB_E_2.jpg', 'data/TD_RGB_E/TD_RGB_E_Set1/17/TD_RGB_E_5.jpg', 'data/TD_RGB_E/TD_RGB_E_Set1/17/TD_RGB_E_4.jpg', 'data/TD_RGB_E/TD_RGB_E_Set1/17/TD_RGB_E_1.jpg', 'data/TD_RGB_E/TD_RGB_E_Set1/17/TD_RGB_E_3.jpg', 'data/TD_RGB_E/TD_RGB_E_Set1/17/TD_RGB_E_2.jpg', 'data/TD_RGB_E/TD_RGB_E_Set1/1/TD_RGB_E_5.jpg', 'data/TD_RGB_E/TD_RGB_E_Set1/1/TD_RGB_E_4.jpg', 'data/TD_RGB_E/TD_RGB_E_Set1/1/TD_RGB_E_1.jpg', 'data/TD_RGB_E/TD_RGB_E_Set1/1/TD_RGB_E_3.jpg', 'data/TD_RGB_E/TD_RGB_E_Set1/1/TD_RGB_E_2.jpg', 'data/TD_RGB_E/TD_RGB_E_Set1/10/TD_RGB_E_5.jpg', 'data/TD_RGB_E/TD_RGB_E_Set1/10/TD_RGB_E_4.jpg', 'data/TD_RGB_E/TD_RGB_E_Set1/10/TD_RGB_E_1.jpg', 'data/TD_RGB_E/TD_RGB_E_Set1/10/TD_RGB_E_3.jpg', 'data/TD_RGB_E/TD_RGB_E_Set1/10/TD_RGB_E_2.jpg', 'data/TD_RGB_E/TD_RGB_E_Set1/19/TD_RGB_E_5.jpg', 'data/TD_RGB_E/TD_RGB_E_Set1/19/TD_RGB_E_4.jpg', 'data/TD_RGB_E/TD_RGB_E_Set1/19/TD_RGB_E_1.jpg', 'data/TD_RGB_E/TD_RGB_E_Set1/19/TD_RGB_E_3.jpg', 'data/TD_RGB_E/TD_RGB_E_Set1/19/TD_RGB_E_2.jpg', 'data/TD_RGB_E/TD_RGB_E_Set1/8/TD_RGB_E_5.jpg', 'data/TD_RGB_E/TD_RGB_E_Set1/8/TD_RGB_E_4.jpg', 'data/TD_RGB_E/TD_RGB_E_Set1/8/TD_RGB_E_1.jpg', 'data/TD_RGB_E/TD_RGB_E_Set1/8/TD_RGB_E_3.jpg', 'data/TD_RGB_E/TD_RGB_E_Set1/8/TD_RGB_E_2.jpg', 'data/TD_RGB_E/TD_RGB_E_Set1/21/TD_RGB_E_5.jpg', 'data/TD_RGB_E/TD_RGB_E_Set1/21/TD_RGB_E_4.jpg', 'data/TD_RGB_E/TD_RGB_E_Set1/21/TD_RGB_E_1.jpg', 'data/TD_RGB_E/TD_RGB_E_Set1/21/TD_RGB_E_3.jpg', 'data/TD_RGB_E/TD_RGB_E_Set1/21/TD_RGB_E_2.jpg', 'data/TD_RGB_E/TD_RGB_E_Set1/24/TD_RGB_E_5.jpg', 'data/TD_RGB_E/TD_RGB_E_Set1/24/TD_RGB_E_4.jpg', 'data/TD_RGB_E/TD_RGB_E_Set1/24/TD_RGB_E_1.jpg', 'data/TD_RGB_E/TD_RGB_E_Set1/24/TD_RGB_E_3.jpg', 'data/TD_RGB_E/TD_RGB_E_Set1/24/TD_RGB_E_2.jpg', 'data/TD_RGB_E/TD_RGB_E_Set1/23/TD_RGB_E_5.jpg', 'data/TD_RGB_E/TD_RGB_E_Set1/23/TD_RGB_E_4.jpg', 'data/TD_RGB_E/TD_RGB_E_Set1/23/TD_RGB_E_1.jpg', 'data/TD_RGB_E/TD_RGB_E_Set1/23/TD_RGB_E_3.jpg', 'data/TD_RGB_E/TD_RGB_E_Set1/23/TD_RGB_E_2.jpg', 'data/TD_RGB_E/TD_RGB_E_Set1/4/TD_RGB_E_5.jpg', 'data/TD_RGB_E/TD_RGB_E_Set1/4/TD_RGB_E_4.jpg', 'data/TD_RGB_E/TD_RGB_E_Set1/4/TD_RGB_E_1.jpg', 'data/TD_RGB_E/TD_RGB_E_Set1/4/TD_RGB_E_3.jpg', 'data/TD_RGB_E/TD_RGB_E_Set1/4/TD_RGB_E_2.jpg', 'data/TD_RGB_E/TD_RGB_E_Set1/15/TD_RGB_E_5.jpg', 'data/TD_RGB_E/TD_RGB_E_Set1/15/TD_RGB_E_4.jpg', 'data/TD_RGB_E/TD_RGB_E_Set1/15/TD_RGB_E_1.jpg', 'data/TD_RGB_E/TD_RGB_E_Set1/15/TD_RGB_E_3.jpg', 'data/TD_RGB_E/TD_RGB_E_Set1/15/TD_RGB_E_2.jpg', 'data/TD_RGB_E/TD_RGB_E_Set1/3/TD_RGB_E_5.jpg', 'data/TD_RGB_E/TD_RGB_E_Set1/3/TD_RGB_E_4.jpg', 'data/TD_RGB_E/TD_RGB_E_Set1/3/TD_RGB_E_1.jpg', 'data/TD_RGB_E/TD_RGB_E_Set1/3/TD_RGB_E_3.jpg', 'data/TD_RGB_E/TD_RGB_E_Set1/3/TD_RGB_E_2.jpg', 'data/TD_RGB_E/TD_RGB_E_Set1/12/TD_RGB_E_5.jpg', 'data/TD_RGB_E/TD_RGB_E_Set1/12/TD_RGB_E_4.jpg', 'data/TD_RGB_E/TD_RGB_E_Set1/12/TD_RGB_E_1.jpg', 'data/TD_RGB_E/TD_RGB_E_Set1/12/TD_RGB_E_3.jpg', 'data/TD_RGB_E/TD_RGB_E_Set1/12/TD_RGB_E_2.jpg', 'data/TD_RGB_E/TD_RGB_E_Set1/2/TD_RGB_E_5.jpg', 'data/TD_RGB_E/TD_RGB_E_Set1/2/TD_RGB_E_4.jpg', 'data/TD_RGB_E/TD_RGB_E_Set1/2/TD_RGB_E_1.jpg', 'data/TD_RGB_E/TD_RGB_E_Set1/2/TD_RGB_E_3.jpg', 'data/TD_RGB_E/TD_RGB_E_Set1/2/TD_RGB_E_2.jpg', 'data/TD_RGB_E/TD_RGB_E_Set1/13/TD_RGB_E_5.jpg', 'data/TD_RGB_E/TD_RGB_E_Set1/13/TD_RGB_E_4.jpg', 'data/TD_RGB_E/TD_RGB_E_Set1/13/TD_RGB_E_1.jpg', 'data/TD_RGB_E/TD_RGB_E_Set1/13/TD_RGB_E_3.jpg', 'data/TD_RGB_E/TD_RGB_E_Set1/13/TD_RGB_E_2.jpg', 'data/TD_RGB_E/TD_RGB_E_Set1/5/TD_RGB_E_5.jpg', 'data/TD_RGB_E/TD_RGB_E_Set1/5/TD_RGB_E_4.jpg', 'data/TD_RGB_E/TD_RGB_E_Set1/5/TD_RGB_E_1.jpg', 'data/TD_RGB_E/TD_RGB_E_Set1/5/TD_RGB_E_3.jpg', 'data/TD_RGB_E/TD_RGB_E_Set1/5/TD_RGB_E_2.jpg', 'data/TD_RGB_E/TD_RGB_E_Set1/14/TD_RGB_E_5.jpg', 'data/TD_RGB_E/TD_RGB_E_Set1/14/TD_RGB_E_4.jpg', 'data/TD_RGB_E/TD_RGB_E_Set1/14/TD_RGB_E_1.jpg', 'data/TD_RGB_E/TD_RGB_E_Set1/14/TD_RGB_E_3.jpg', 'data/TD_RGB_E/TD_RGB_E_Set1/14/TD_RGB_E_2.jpg', 'data/TD_RGB_E/TD_RGB_E_Set1/22/TD_RGB_E_5.jpg', 'data/TD_RGB_E/TD_RGB_E_Set1/22/TD_RGB_E_4.jpg', 'data/TD_RGB_E/TD_RGB_E_Set1/22/TD_RGB_E_1.jpg', 'data/TD_RGB_E/TD_RGB_E_Set1/22/TD_RGB_E_3.jpg', 'data/TD_RGB_E/TD_RGB_E_Set1/22/TD_RGB_E_2.jpg', 'data/TD_RGB_E/TD_RGB_E_Set1/25/TD_RGB_E_5.jpg', 'data/TD_RGB_E/TD_RGB_E_Set1/25/TD_RGB_E_4.jpg', 'data/TD_RGB_E/TD_RGB_E_Set1/25/TD_RGB_E_1.jpg', 'data/TD_RGB_E/TD_RGB_E_Set1/25/TD_RGB_E_3.jpg', 'data/TD_RGB_E/TD_RGB_E_Set1/25/TD_RGB_E_2.jpg']\n"
     ]
    }
   ],
   "source": [
    "print(image_list)"
   ]
  },
  {
   "cell_type": "markdown",
   "metadata": {},
   "source": [
    "# Main"
   ]
  },
  {
   "cell_type": "code",
   "execution_count": 23,
   "metadata": {},
   "outputs": [],
   "source": [
    "create_database()"
   ]
  },
  {
   "cell_type": "code",
   "execution_count": 24,
   "metadata": {},
   "outputs": [
    {
     "name": "stdout",
     "output_type": "stream",
     "text": [
      "0...TD_RGB_E_5.jpg...data/TD_RGB_E/TD_RGB_E_Set4/95/TD_RGB_E_5.jpg\n"
     ]
    },
    {
     "ename": "InterfaceError",
     "evalue": "connection already closed",
     "output_type": "error",
     "traceback": [
      "\u001b[0;31m---------------------------------------------------------------------------\u001b[0m",
      "\u001b[0;31mInterfaceError\u001b[0m                            Traceback (most recent call last)",
      "\u001b[0;32m<ipython-input-24-7f1bffb31b28>\u001b[0m in \u001b[0;36m<module>\u001b[0;34m()\u001b[0m\n\u001b[0;32m----> 1\u001b[0;31m \u001b[0mprocess_images\u001b[0m\u001b[0;34m(\u001b[0m\u001b[0mimage_list\u001b[0m\u001b[0;34m)\u001b[0m\u001b[0;34m\u001b[0m\u001b[0m\n\u001b[0m",
      "\u001b[0;32m<ipython-input-15-dd93bd43d8ab>\u001b[0m in \u001b[0;36mprocess_images\u001b[0;34m(fname)\u001b[0m\n\u001b[1;32m      8\u001b[0m         \u001b[0mfile_path\u001b[0m \u001b[0;34m=\u001b[0m \u001b[0mfile\u001b[0m\u001b[0;34m\u001b[0m\u001b[0m\n\u001b[1;32m      9\u001b[0m         \u001b[0mprint\u001b[0m\u001b[0;34m(\u001b[0m\u001b[0;34m'{}...{}...{}'\u001b[0m\u001b[0;34m.\u001b[0m\u001b[0mformat\u001b[0m\u001b[0;34m(\u001b[0m\u001b[0mi\u001b[0m\u001b[0;34m,\u001b[0m \u001b[0mfile_name\u001b[0m\u001b[0;34m,\u001b[0m \u001b[0mfile_path\u001b[0m\u001b[0;34m)\u001b[0m\u001b[0;34m)\u001b[0m\u001b[0;34m\u001b[0m\u001b[0m\n\u001b[0;32m---> 10\u001b[0;31m         \u001b[0minsert_database\u001b[0m\u001b[0;34m(\u001b[0m\u001b[0mi\u001b[0m\u001b[0;34m,\u001b[0m \u001b[0mfile_name\u001b[0m\u001b[0;34m,\u001b[0m \u001b[0mfile_path\u001b[0m\u001b[0;34m)\u001b[0m\u001b[0;34m\u001b[0m\u001b[0m\n\u001b[0m\u001b[1;32m     11\u001b[0m         \u001b[0mi\u001b[0m\u001b[0;34m+=\u001b[0m\u001b[0;36m1\u001b[0m\u001b[0;34m\u001b[0m\u001b[0m\n\u001b[1;32m     12\u001b[0m     \u001b[0;32mreturn\u001b[0m\u001b[0;34m\u001b[0m\u001b[0m\n",
      "\u001b[0;32m<ipython-input-22-ae8bbcd042a3>\u001b[0m in \u001b[0;36minsert_database\u001b[0;34m(id_, file_name, dir_path)\u001b[0m\n\u001b[1;32m      2\u001b[0m \u001b[0;31m#     con = psycopg2.connect(database='kennedy', user='postgres',\u001b[0m\u001b[0;34m\u001b[0m\u001b[0;34m\u001b[0m\u001b[0m\n\u001b[1;32m      3\u001b[0m \u001b[0;31m#                                password='')\u001b[0m\u001b[0;34m\u001b[0m\u001b[0;34m\u001b[0m\u001b[0m\n\u001b[0;32m----> 4\u001b[0;31m     \u001b[0;32mwith\u001b[0m \u001b[0mcon\u001b[0m\u001b[0;34m:\u001b[0m\u001b[0;34m\u001b[0m\u001b[0m\n\u001b[0m\u001b[1;32m      5\u001b[0m         \u001b[0mcur\u001b[0m \u001b[0;34m=\u001b[0m \u001b[0mcon\u001b[0m\u001b[0;34m.\u001b[0m\u001b[0mcursor\u001b[0m\u001b[0;34m(\u001b[0m\u001b[0;34m)\u001b[0m\u001b[0;34m\u001b[0m\u001b[0m\n\u001b[1;32m      6\u001b[0m         \u001b[0mtoday\u001b[0m \u001b[0;34m=\u001b[0m \u001b[0mdate\u001b[0m\u001b[0;34m.\u001b[0m\u001b[0mtoday\u001b[0m\u001b[0;34m(\u001b[0m\u001b[0;34m)\u001b[0m\u001b[0;34m.\u001b[0m\u001b[0mstrftime\u001b[0m\u001b[0;34m(\u001b[0m\u001b[0;34m'%m/%d/%Y'\u001b[0m\u001b[0;34m)\u001b[0m\u001b[0;34m\u001b[0m\u001b[0m\n",
      "\u001b[0;31mInterfaceError\u001b[0m: connection already closed"
     ]
    }
   ],
   "source": [
    "process_images(image_list)"
   ]
  },
  {
   "cell_type": "code",
   "execution_count": null,
   "metadata": {},
   "outputs": [],
   "source": []
  },
  {
   "cell_type": "code",
   "execution_count": null,
   "metadata": {},
   "outputs": [],
   "source": [
    "for path in image_list:\n",
    "    new_string = string.replace(\"/\", \"--\")\n",
    "    new_strings.append(new_string)"
   ]
  },
  {
   "cell_type": "code",
   "execution_count": null,
   "metadata": {},
   "outputs": [],
   "source": []
  },
  {
   "cell_type": "code",
   "execution_count": null,
   "metadata": {},
   "outputs": [],
   "source": [
    "cur.execute(\"SELECT dir_path, img_orig FROM images\")\n",
    "for row in cur:\n",
    "    img = cur.fetchone()\n",
    "#    open('Folder/'+row[1], 'wb').write(str(imgc[0])) write binary to updated column"
   ]
  },
  {
   "cell_type": "markdown",
   "metadata": {},
   "source": [
    "# Crappy Model"
   ]
  },
  {
   "cell_type": "code",
   "execution_count": null,
   "metadata": {},
   "outputs": [],
   "source": [
    "%timeit\n",
    "def detect_face(img_rgb):\n",
    "    '''\n",
    "    1st classifier: HAAR classifier for face detection\n",
    "    from mod 4\n",
    "    if faces detected, update feature from False to True\n",
    "    read image from original column\n",
    "    draw box around face\n",
    "    write image to modified field\n",
    "    call detect_eyes\n",
    "    if no face detected, exit loop\n",
    "    '''\n",
    "    global classifier\n",
    "    global file_name\n",
    "    bounding_boxes = classifier.detectMultiScale(img_rgb, scaleFactor=1.3, minNeighbors=5, minSize=(150, 150))\n",
    "    box_list = []\n",
    "    for box in bounding_boxes:\n",
    "        box_list.append(box)\n",
    "    if len(box_list) < 1:\n",
    "        img_rgb = cv2.cvtColor(img_rgb, cv2.COLOR_BGR2RGB)\n",
    "        cv2.imwrite('../sort/no_face/'+file_name+'.jpg', img_rgb)\n",
    "    else:\n",
    "        draw_boxes(img_rgb, box_list)\n",
    "    return"
   ]
  },
  {
   "cell_type": "code",
   "execution_count": null,
   "metadata": {},
   "outputs": [],
   "source": [
    "%timeit\n",
    "def detect_eyes():\n",
    "    '''\n",
    "    1st classifier: HAAR classifier for face detection\n",
    "    from mod 4\n",
    "    if faces detected, update feature from False to True\n",
    "    read image from original column\n",
    "    draw box around face\n",
    "    write image to modified field\n",
    "    call detect_eyes\n",
    "    if no face detected, exit loop\n",
    "    '''\n",
    "    pass"
   ]
  },
  {
   "cell_type": "code",
   "execution_count": null,
   "metadata": {},
   "outputs": [],
   "source": [
    "%timeit\n",
    "def detect_mouth():\n",
    "    '''\n",
    "    1st classifier: HAAR classifier for face detection\n",
    "    from mod 4\n",
    "    if faces detected, update feature from False to True\n",
    "    read image from original column\n",
    "    draw box around face\n",
    "    write image to modified field\n",
    "    call detect_eyes\n",
    "    if no face detected, exit loop\n",
    "    '''\n",
    "    pass"
   ]
  },
  {
   "cell_type": "code",
   "execution_count": null,
   "metadata": {},
   "outputs": [],
   "source": [
    "%timeit\n",
    "def detect_nose():\n",
    "    '''\n",
    "    1st classifier: HAAR classifier for face detection\n",
    "    from mod 4\n",
    "    if faces detected, update feature from False to True\n",
    "    read image from original column\n",
    "    draw box around face\n",
    "    write image to modified field\n",
    "    call detect_eyes\n",
    "    if no face detected, exit loop\n",
    "    '''\n",
    "    pass"
   ]
  },
  {
   "cell_type": "markdown",
   "metadata": {},
   "source": [
    "## softmax to classify emotion"
   ]
  },
  {
   "cell_type": "code",
   "execution_count": null,
   "metadata": {},
   "outputs": [],
   "source": [
    "%timeit\n",
    "def predict_emotion():\n",
    "    '''\n",
    "    1st classifier: HAAR classifier for face detection\n",
    "    from mod 4\n",
    "    if faces detected, update feature from False to True\n",
    "    read image from original column\n",
    "    draw box around face\n",
    "    write image to modified field\n",
    "    call detect_eyes\n",
    "    if no face detected, exit loop\n",
    "    '''\n",
    "    pass"
   ]
  },
  {
   "cell_type": "code",
   "execution_count": null,
   "metadata": {},
   "outputs": [],
   "source": []
  },
  {
   "cell_type": "code",
   "execution_count": null,
   "metadata": {},
   "outputs": [],
   "source": [
    "def draw_boxes(img_rgb, box_list):\n",
    "    for box in box_list:\n",
    "        x, y, width, height = box\n",
    "        x2, y2 = x + width, y + height\n",
    "        cv2.rectangle(img_rgb, (x, y), (x2, y2), (0,255,0), 3)\n",
    "    save_image(img_rgb)\n",
    "    return"
   ]
  },
  {
   "cell_type": "code",
   "execution_count": null,
   "metadata": {},
   "outputs": [],
   "source": [
    "def save_image(img_rgb):\n",
    "    global file_name\n",
    "#     plt.imshow(img)\n",
    "#     plt.xticks([]), plt.yticks([])\n",
    "#     plt.show()\n",
    "    img_rgb = cv2.cvtColor(img_rgb, cv2.COLOR_BGR2RGB)\n",
    "    cv2.imwrite('../sort/face/'+file_name+'.jpg', img_rgb)\n",
    "    return"
   ]
  },
  {
   "cell_type": "code",
   "execution_count": null,
   "metadata": {},
   "outputs": [],
   "source": []
  },
  {
   "cell_type": "markdown",
   "metadata": {},
   "source": [
    "# Confusion Matrix"
   ]
  },
  {
   "cell_type": "code",
   "execution_count": null,
   "metadata": {},
   "outputs": [],
   "source": [
    "from sklearn.metrics import confusion_matrix\n",
    "import matplotlib.pyplot as plt\n",
    "cm = confusion_matrix(y_test, y_pred_class)\n",
    "\n",
    "tn = cm_2[0,0]\n",
    "fn = cm_2[0,1]\n",
    "fp = cm_2[1,0]\n",
    "tp = cm_2[1,1]\n",
    "\n",
    "accurracy = (tp + tn)/(tn+tp+fn+fp)\n",
    "\n",
    "precision = tp / (tp+fp)\n",
    "\n",
    "recall = tp / (tp + fn)\n",
    "f1_score = 2*precision*recall/(precision+recall)\n",
    "print('My model metrics were: Accurracy: {}, Precision: {}, Recall: {}, and F1: {}'.format(accurracy,precision,recall,f1_score))\n",
    "\n",
    "\n",
    "plt.matshow(cm)\n",
    "\n",
    "plt.colorbar()\n",
    "plt.xlabel('Predicted')\n",
    "plt.ylabel('Actual')\n",
    "plt.show();\n",
    "\n"
   ]
  },
  {
   "cell_type": "code",
   "execution_count": null,
   "metadata": {},
   "outputs": [],
   "source": []
  },
  {
   "cell_type": "code",
   "execution_count": null,
   "metadata": {},
   "outputs": [],
   "source": []
  }
 ],
 "metadata": {
  "kernelspec": {
   "display_name": "Python 3",
   "language": "python",
   "name": "python3"
  },
  "language_info": {
   "codemirror_mode": {
    "name": "ipython",
    "version": 3
   },
   "file_extension": ".py",
   "mimetype": "text/x-python",
   "name": "python",
   "nbconvert_exporter": "python",
   "pygments_lexer": "ipython3",
   "version": "3.5.6"
  }
 },
 "nbformat": 4,
 "nbformat_minor": 4
}
