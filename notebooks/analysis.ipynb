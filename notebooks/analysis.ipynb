{
 "cells": [
  {
   "cell_type": "code",
   "execution_count": 1,
   "metadata": {},
   "outputs": [
    {
     "name": "stderr",
     "output_type": "stream",
     "text": [
      "/Users/kennedy/opt/anaconda3/envs/emotion-detection/lib/python3.5/importlib/_bootstrap.py:222: RuntimeWarning: compiletime version 3.6 of module 'tensorflow.python.framework.fast_tensor_util' does not match runtime version 3.5\n",
      "  return f(*args, **kwds)\n",
      "Using TensorFlow backend.\n"
     ]
    }
   ],
   "source": [
    "# Standard Libraries\n",
    "import pandas as pd\n",
    "import numpy as np\n",
    "import os\n",
    "import sys\n",
    "from datetime import date\n",
    "import shutil\n",
    "import requests\n",
    "from PIL import Image\n",
    "import pickle\n",
    "sys.path.insert(0, os.path.abspath('../src'))\n",
    "\n",
    "# Custom Libraries\n",
    "from file_proc import *\n",
    "#import database\n",
    "\n",
    "# Machine Learning\n",
    "import tensorflow as tf\n",
    "from sklearn.model_selection import train_test_split\n",
    "from sklearn import datasets, preprocessing, feature_extraction, linear_model, svm, metrics, ensemble, tree, ensemble\n",
    "from sklearn.metrics import log_loss, confusion_matrix\n",
    "from sklearn.linear_model import SGDClassifier\n",
    "from sklearn.calibration import CalibratedClassifierCV\n",
    "\n",
    "# Image Libraries\n",
    "import cv2\n",
    "from cv2 import imread, imshow, waitKey, destroyAllWindows, rectangle, CascadeClassifier\n",
    "\n",
    "# Neural Network Libraries\n",
    "import keras\n",
    "from keras.applications.vgg16 import VGG16\n",
    "from keras.preprocessing import image\n",
    "from keras.applications.vgg16 import preprocess_input\n",
    "from keras.models import Sequential\n",
    "from keras.layers import Dense, Conv2D, MaxPool2D , Flatten, GlobalAveragePooling2D\n",
    "from keras.preprocessing.image import ImageDataGenerator\n",
    "\n",
    "# Database\n",
    "import psycopg2\n",
    "\n",
    "# Visualizations\n",
    "import seaborn as sns\n",
    "\n",
    "from matplotlib import pyplot as plt\n",
    "%matplotlib inline\n",
    "\n",
    "import warnings\n",
    "warnings.filterwarnings(\"ignore\")\n",
    "\n",
    "# import importlib\n",
    "# importlib.reload(some_module)\n",
    "%load_ext autoreload\n",
    "%autoreload 2\n",
    "%reload_ext autoreload"
   ]
  },
  {
   "cell_type": "code",
   "execution_count": 2,
   "metadata": {},
   "outputs": [
    {
     "name": "stdout",
     "output_type": "stream",
     "text": [
      "  % Total    % Received % Xferd  Average Speed   Time    Time     Time  Current\n",
      "                                 Dload  Upload   Total   Spent    Left  Speed\n",
      "100  908k  100  908k    0     0  2005k      0 --:--:-- --:--:-- --:--:-- 2005k\n",
      "  % Total    % Received % Xferd  Average Speed   Time    Time     Time  Current\n",
      "                                 Dload  Upload   Total   Spent    Left  Speed\n",
      "100  184k  100  184k    0     0   597k      0 --:--:-- --:--:-- --:--:--  597k\n",
      "  % Total    % Received % Xferd  Average Speed   Time    Time     Time  Current\n",
      "                                 Dload  Upload   Total   Spent    Left  Speed\n",
      "100  333k  100  333k    0     0   578k      0 --:--:-- --:--:-- --:--:--  577k\n",
      "  % Total    % Received % Xferd  Average Speed   Time    Time     Time  Current\n",
      "                                 Dload  Upload   Total   Spent    Left  Speed\n",
      "100  587k  100  587k    0     0  1550k      0 --:--:-- --:--:-- --:--:-- 1550k\n"
     ]
    }
   ],
   "source": [
    "# Get the classifier .xml files and save them in the src directory\n",
    "! curl -o ../src/haarcascade_frontalface_default.xml https://raw.githubusercontent.com/opencv/opencv/master/data/haarcascades/haarcascade_frontalface_default.xml\n",
    "! curl -o ../src/haarcascade_smile.xml https://raw.githubusercontent.com/opencv/opencv/master/data/haarcascades/haarcascade_smile.xml\n",
    "! curl -o ../src/haarcascade_eye.xml https://raw.githubusercontent.com/opencv/opencv/master/data/haarcascades/haarcascade_eye.xml\n",
    "! curl -o ../src/haarcascade_eye_tree_eyeglasses.xml https://raw.githubusercontent.com/opencv/opencv/master/data/haarcascades/haarcascade_eye_tree_eyeglasses.xml"
   ]
  },
  {
   "cell_type": "markdown",
   "metadata": {},
   "source": [
    "# Database"
   ]
  },
  {
   "cell_type": "code",
   "execution_count": null,
   "metadata": {
    "jupyter": {
     "source_hidden": true
    }
   },
   "outputs": [],
   "source": [
    "def test_database(db='kennedy', user_id='postgres', passwd=''):\n",
    "    \n",
    "    con = None\n",
    "\n",
    "    try:\n",
    "    \n",
    "        con = psycopg2.connect(database=db, user=user_id,\n",
    "            password=passwd)\n",
    "\n",
    "        cur = con.cursor()\n",
    "        cur.execute('SELECT version()')\n",
    "        version = cur.fetchone()[0]\n",
    "        print(version)\n",
    "\n",
    "    except psycopg2.DatabaseError as e:\n",
    "\n",
    "        print('Error {}'.format(e))\n",
    "        sys.exit(1)\n",
    "\n",
    "    finally:\n",
    "\n",
    "        if con:\n",
    "            con.close()\n",
    "            \n",
    "    return"
   ]
  },
  {
   "cell_type": "code",
   "execution_count": null,
   "metadata": {
    "jupyter": {
     "source_hidden": true
    }
   },
   "outputs": [],
   "source": [
    "def connect_database(db='kennedy', user_id='postgres', passwd=''):\n",
    "    \n",
    "    con = None\n",
    "\n",
    "    try:\n",
    "    \n",
    "        con = psycopg2.connect(database=db, user=user_id,\n",
    "            password=passwd)\n",
    "        cur = con.cursor()\n",
    "        \n",
    "    except psycopg2.DatabaseError as e:\n",
    "        \n",
    "        print('Error {}'.format(e))\n",
    "        sys.exit(1)\n",
    "        \n",
    "    return con, cur"
   ]
  },
  {
   "cell_type": "code",
   "execution_count": null,
   "metadata": {
    "jupyter": {
     "source_hidden": true
    }
   },
   "outputs": [],
   "source": [
    "def close_database(con):\n",
    "    \n",
    "    if con:\n",
    "        con.commit()\n",
    "        con.close()\n",
    "        \n",
    "    return 1"
   ]
  },
  {
   "cell_type": "code",
   "execution_count": null,
   "metadata": {
    "jupyter": {
     "source_hidden": true
    }
   },
   "outputs": [],
   "source": [
    "def create_database(con, cur):\n",
    "\n",
    "        with con:\n",
    "\n",
    "            cur.execute(\"DROP TABLE IF EXISTS images\")\n",
    "            cur.execute(\"CREATE TABLE images(id BIGINT DEFAULT 0 NOT NULL, file_name TEXT, dir_path TEXT, img_orig BYTEA, date DATE DEFAULT '1/1/1970' NOT NULL, face BOOLEAN DEFAULT 'False' NOT NULL, face_class INTEGER DEFAULT 0 NOT NULL)\") # img_proc BYTEA, \n",
    "            cur.execute(\"COMMENT ON COLUMN images.id IS E'This number will come from a counter programatically.'\")\n",
    "            cur.execute(\"COMMENT ON COLUMN images.dir_path IS E'directory path to original image.  This is so that you can trace back to the imported data for files with the same names in multiple directories.'\")\n",
    "            cur.execute(\"COMMENT ON COLUMN images.date IS E'date image was imported.'\")\n",
    "            cur.execute(\"COMMENT ON COLUMN images.face_class IS E'Classes based off _# in filename.  0,1,2,3,4,5. 0=no_class, 1=commecicomm,2=smile,3=shut,4=shocked,5=sunglasses.'\")\n",
    "            cur.execute(\"ALTER TABLE images ADD CONSTRAINT dir_path PRIMARY KEY(id)\")\n",
    "            cur.execute(\"ALTER TABLE images ADD COLUMN class_pred INTEGER DEFAULT 0 NOT NULL\")\n",
    "            cur.execute(\"ALTER TABLE images ADD COLUMN ext TEXT DEFAULT '.jpg' NOT NULL\")\n",
    "            con.commit()\n",
    "            cur.execute(\"SELECT column_name FROM INFORMATION_SCHEMA.COLUMNS WHERE table_name = 'images'\")\n",
    "            db_cols = cur.fetchall()\n",
    "            print(db_cols)\n",
    "        return 1\n",
    "        "
   ]
  },
  {
   "cell_type": "code",
   "execution_count": null,
   "metadata": {
    "jupyter": {
     "source_hidden": true
    }
   },
   "outputs": [],
   "source": [
    "def bulk_insert_database(con, cur, id_, file_name, dir_path):\n",
    "\n",
    "    with con:\n",
    "        \n",
    "        today = date.today().strftime('%m/%d/%Y')\n",
    "        imgopen = open(dir_path, 'rb').read()\n",
    "        face_class = file_name[-5]\n",
    "        data = (id_, dir_path, psycopg2.Binary(imgopen), today , False, face_class)\n",
    "        query = \"INSERT INTO images(id, dir_path, img_orig, date, face, face_class) VALUES (%s, %s, %s, %s, %s, %s)\" \n",
    "        cur.execute(query, data)\n",
    "        \n",
    "    return con, cur"
   ]
  },
  {
   "cell_type": "code",
   "execution_count": null,
   "metadata": {
    "jupyter": {
     "source_hidden": true
    }
   },
   "outputs": [],
   "source": [
    "def load_images_database(fname):\n",
    "    file_name = '' # image name\n",
    "    file_path = '' # path to file\n",
    "    i = 0\n",
    "    for file in fname:\n",
    "        file_name = os.path.basename(file)\n",
    "        file_path = file\n",
    "        print('{}...{}...{}'.format(i, file_name, file_path))\n",
    "        bulk_insert_database(con, cur, i, file_name, file_path) \n",
    "        i+=1\n",
    "    return 1"
   ]
  },
  {
   "cell_type": "code",
   "execution_count": null,
   "metadata": {
    "jupyter": {
     "source_hidden": true
    }
   },
   "outputs": [],
   "source": [
    "# Update to take id and path as inputs.  id to select a specific row, path to where you wish to output (visualizations)\n",
    "def write_image_database_to_file(con, cur):\n",
    "    try:\n",
    "        \n",
    "        data = ('id', 'dir_path', 'date', 'img_orig' , 'face', 'face_class')\n",
    "        cur.execute(\"SELECT data FROM images\")\n",
    "        data = cur.fetchone()\n",
    "        open(os.path.expanduser('~/Desktop/test.jpp'), 'wb').write(data[3])        \n",
    "\n",
    "    except psycopg2.DatabaseError as e:\n",
    "\n",
    "        print('Error {}'.format(e))\n",
    "        sys.exit(9)\n"
   ]
  },
  {
   "cell_type": "code",
   "execution_count": null,
   "metadata": {
    "jupyter": {
     "source_hidden": true
    }
   },
   "outputs": [],
   "source": [
    "def read_image_database(con):\n",
    "    query = \"SELECT id, dir_path, img_orig, face, face_class, class_pred FROM images\"\n",
    "    df_table = pd.read_sql_query(query, con)\n",
    "    return df_table"
   ]
  },
  {
   "cell_type": "code",
   "execution_count": null,
   "metadata": {
    "jupyter": {
     "source_hidden": true
    }
   },
   "outputs": [],
   "source": [
    "def write_image_database(con, cur, data):\n",
    "#     data = cv2.cvtColor(data, cv2.COLOR_BGR2RGB)\n",
    "#     cv2.imwrite('../test/test_image.jpg', data)\n",
    "    return  7"
   ]
  },
  {
   "cell_type": "markdown",
   "metadata": {
    "jupyter": {
     "source_hidden": true
    }
   },
   "source": [
    "# Preprocessing"
   ]
  },
  {
   "cell_type": "code",
   "execution_count": null,
   "metadata": {
    "jupyter": {
     "source_hidden": true
    }
   },
   "outputs": [],
   "source": [
    "! pwd"
   ]
  },
  {
   "cell_type": "code",
   "execution_count": null,
   "metadata": {
    "jupyter": {
     "source_hidden": true
    }
   },
   "outputs": [],
   "source": [
    "# # Renwming files as data fas the same filenames for each subject.  Prepending the folder name to the filename, as the foldername is the subject id.\n",
    "# # ONLY RUN ONCE!!!!!!!\n",
    "# for root, dirs, files in os.walk('../data/TD_RGB_E'):\n",
    "#     if not files:\n",
    "#         continue\n",
    "#     prefix = os.path.basename(root)\n",
    "#     for f in files:\n",
    "#         os.rename(os.path.join(root, f), os.path.join(root, \"{}_{}\".format(prefix, f)))"
   ]
  },
  {
   "cell_type": "code",
   "execution_count": null,
   "metadata": {
    "jupyter": {
     "source_hidden": true
    }
   },
   "outputs": [],
   "source": [
    "# ONLY RUN ONCE\n",
    "# sort_images('../data/base') "
   ]
  },
  {
   "cell_type": "code",
   "execution_count": null,
   "metadata": {
    "jupyter": {
     "source_hidden": true
    }
   },
   "outputs": [],
   "source": [
    "file_name = '' # image name\n",
    "file_path = '' # path to file"
   ]
  },
  {
   "cell_type": "code",
   "execution_count": null,
   "metadata": {
    "jupyter": {
     "source_hidden": true
    }
   },
   "outputs": [],
   "source": [
    "# Process Images Directory for Feeding into the Model\n",
    "image_list = build_image_list('../data/TD_RGB_E')\n",
    "print(len(image_list), image_list[0])"
   ]
  },
  {
   "cell_type": "code",
   "execution_count": null,
   "metadata": {
    "jupyter": {
     "source_hidden": true
    }
   },
   "outputs": [],
   "source": [
    "# # copy files to a singular folder\n",
    "# dest_base = '../data/base'\n",
    "# for ig in image_list:\n",
    "#     shutil.copy(ig, dest_base)"
   ]
  },
  {
   "cell_type": "code",
   "execution_count": null,
   "metadata": {
    "jupyter": {
     "source_hidden": true
    }
   },
   "outputs": [],
   "source": [
    "test_database()"
   ]
  },
  {
   "cell_type": "code",
   "execution_count": null,
   "metadata": {
    "jupyter": {
     "source_hidden": true
    }
   },
   "outputs": [],
   "source": [
    "con, cur = connect_database()"
   ]
  },
  {
   "cell_type": "code",
   "execution_count": null,
   "metadata": {
    "jupyter": {
     "source_hidden": true
    }
   },
   "outputs": [],
   "source": [
    "create_database(con, cur)"
   ]
  },
  {
   "cell_type": "code",
   "execution_count": null,
   "metadata": {
    "jupyter": {
     "source_hidden": true
    }
   },
   "outputs": [],
   "source": [
    "load_images_database(image_list)"
   ]
  },
  {
   "cell_type": "code",
   "execution_count": null,
   "metadata": {
    "jupyter": {
     "source_hidden": true
    }
   },
   "outputs": [],
   "source": [
    "# read from database\n",
    "df = read_image_database(con)\n",
    "df.head()"
   ]
  },
  {
   "cell_type": "code",
   "execution_count": null,
   "metadata": {
    "jupyter": {
     "source_hidden": true
    }
   },
   "outputs": [],
   "source": [
    "# from PIL import Image\n",
    "\n",
    "# im = Image.open('temp.png')\n",
    "# data = np.array(im)\n",
    "# flattened = data.flatten()\n",
    "\n",
    "# print data.shape\n",
    "# print flattened.shape\n",
    "\n",
    "# (612, 812, 4)\n",
    "# (1987776,)\n",
    "\n",
    "# Alternately, instead of calling data.flatten(), you could call data.reshape(-1). -1 is used as a placeholder for \"figure out what the given dimension should be\".\n",
    "\n",
    "# flattened = data.T.flatten()"
   ]
  },
  {
   "cell_type": "code",
   "execution_count": null,
   "metadata": {
    "jupyter": {
     "source_hidden": true
    }
   },
   "outputs": [],
   "source": [
    "y_train.head()"
   ]
  },
  {
   "cell_type": "markdown",
   "metadata": {},
   "source": [
    "# Crop Images with OpenCV"
   ]
  },
  {
   "cell_type": "code",
   "execution_count": null,
   "metadata": {},
   "outputs": [],
   "source": [
    "for image in images:\n",
    "    "
   ]
  },
  {
   "cell_type": "code",
   "execution_count": null,
   "metadata": {},
   "outputs": [],
   "source": [
    "def detect_face(img_rgb, classifier):\n",
    "    '''\n",
    "    1st classifier: HAAR classifier for face detection\n",
    "    read image from img_orig column\n",
    "    process face\n",
    "    if faces detected, update face column from False to True\n",
    "    draw box around face\n",
    "    write modified image to img_proc column\n",
    "    call detect_eyes\n",
    "    if no face detected, exit loop\n",
    "    '''\n",
    "    classifier_full = CascadeClassifier(classifier)\n",
    "    img_gray = cv2.cvtColor(img_rgb, cv2.COLOR_BGR2GRAY)\n",
    "    bounding_boxes = classifier_full.detectMultiScale(img_gray, scaleFactor=1.3, minNeighbors=7, minSize=(224, 224))\n",
    "    box_list = []\n",
    "    for box in bounding_boxes:\n",
    "        box_list.append(box)\n",
    "    if len(box_list) < 1:\n",
    "        return 0\n",
    "    else:\n",
    "        # update face to True\n",
    "        draw_boxes(img_gray, box_list)\n",
    "        draw_boxes(img_rgb, box_list)\n",
    "        img_rgb = cv2.cvtColor(img_rgb, cv2.COLOR_BGR2RGB)\n",
    "        # write img to img_proc and/or save to os\n",
    "    return img_gray, img_rgb, roi"
   ]
  },
  {
   "cell_type": "code",
   "execution_count": null,
   "metadata": {},
   "outputs": [],
   "source": [
    "X_test.head()"
   ]
  },
  {
   "cell_type": "markdown",
   "metadata": {},
   "source": [
    "# Main"
   ]
  },
  {
   "cell_type": "code",
   "execution_count": null,
   "metadata": {},
   "outputs": [],
   "source": [
    "# set classifier\n",
    "classifier = '../src/haarcascade_frontalface_default.xml'\n",
    "# read the image\n",
    "img_rgb = X_train['img_orig']\n",
    "\n",
    "# detect face - with HAAR cascade\n",
    "img_gray, img_rgb, roi = detect_face(img_rgb, classifier)\n",
    "\n",
    "# scale down\n",
    "\n",
    "# return roi\n",
    "\n",
    "# call model for image - call fisherfaces\n",
    "\n",
    "# write processed image to dataframe\n",
    "\n",
    "# update flag in dataframe\n",
    "\n",
    "# choose next image\n",
    "\n",
    "# once complete, pueh changes to database\n"
   ]
  },
  {
   "cell_type": "markdown",
   "metadata": {},
   "source": [
    "# Emotion Detection with VGG16 Pretrained CNN"
   ]
  },
  {
   "cell_type": "markdown",
   "metadata": {},
   "source": [
    "### Convert the data into labels (encoded) and images converted to a 224x224x3 numpy array"
   ]
  },
  {
   "cell_type": "code",
   "execution_count": null,
   "metadata": {},
   "outputs": [],
   "source": [
    "emotions = ['commecicomm','happy','ugh','shocked','sunglasses']"
   ]
  },
  {
   "cell_type": "code",
   "execution_count": null,
   "metadata": {},
   "outputs": [],
   "source": [
    "!pwd"
   ]
  },
  {
   "cell_type": "code",
   "execution_count": 3,
   "metadata": {},
   "outputs": [
    {
     "name": "stdout",
     "output_type": "stream",
     "text": [
      "Found 450 images belonging to 5 classes.\n",
      "Found 110 images belonging to 5 classes.\n"
     ]
    }
   ],
   "source": [
    "train_data_dir = '../data/train'\n",
    "\n",
    "img_height = 224\n",
    "img_width = 224\n",
    "batch_size = 20\n",
    "\n",
    "train_datagen = ImageDataGenerator(rescale=1./255,\n",
    "    validation_split=0.2) # set validation split\n",
    "\n",
    "train_generator = train_datagen.flow_from_directory(\n",
    "    train_data_dir,\n",
    "    target_size=(img_height, img_width),\n",
    "    batch_size=batch_size,\n",
    "    class_mode='categorical',\n",
    "    shuffle=False,\n",
    "    subset='training') # set as training data\n",
    "\n",
    "validation_generator = train_datagen.flow_from_directory(\n",
    "    train_data_dir, # same directory as training data\n",
    "    target_size=(img_height, img_width),\n",
    "    batch_size=batch_size,\n",
    "    class_mode='categorical',\n",
    "    shuffle=False,\n",
    "    subset='validation') # set as validation data"
   ]
  },
  {
   "cell_type": "code",
   "execution_count": 4,
   "metadata": {},
   "outputs": [
    {
     "data": {
      "text/plain": [
       "array([0, 0, 0, 0, 0, 0, 0, 0, 0, 0, 0, 0, 0, 0, 0, 0, 0, 0, 0, 0, 0, 0,\n",
       "       0, 0, 0, 0, 0, 0, 0, 0, 0, 0, 0, 0, 0, 0, 0, 0, 0, 0, 0, 0, 0, 0,\n",
       "       0, 0, 0, 0, 0, 0, 0, 0, 0, 0, 0, 0, 0, 0, 0, 0, 0, 0, 0, 0, 0, 0,\n",
       "       0, 0, 0, 0, 0, 0, 0, 0, 0, 0, 0, 0, 0, 0, 0, 0, 0, 0, 0, 0, 0, 0,\n",
       "       0, 0, 1, 1, 1, 1, 1, 1, 1, 1, 1, 1, 1, 1, 1, 1, 1, 1, 1, 1, 1, 1,\n",
       "       1, 1, 1, 1, 1, 1, 1, 1, 1, 1, 1, 1, 1, 1, 1, 1, 1, 1, 1, 1, 1, 1,\n",
       "       1, 1, 1, 1, 1, 1, 1, 1, 1, 1, 1, 1, 1, 1, 1, 1, 1, 1, 1, 1, 1, 1,\n",
       "       1, 1, 1, 1, 1, 1, 1, 1, 1, 1, 1, 1, 1, 1, 1, 1, 1, 1, 1, 1, 1, 1,\n",
       "       1, 1, 1, 1, 2, 2, 2, 2, 2, 2, 2, 2, 2, 2, 2, 2, 2, 2, 2, 2, 2, 2,\n",
       "       2, 2, 2, 2, 2, 2, 2, 2, 2, 2, 2, 2, 2, 2, 2, 2, 2, 2, 2, 2, 2, 2,\n",
       "       2, 2, 2, 2, 2, 2, 2, 2, 2, 2, 2, 2, 2, 2, 2, 2, 2, 2, 2, 2, 2, 2,\n",
       "       2, 2, 2, 2, 2, 2, 2, 2, 2, 2, 2, 2, 2, 2, 2, 2, 2, 2, 2, 2, 2, 2,\n",
       "       2, 2, 2, 2, 2, 2, 3, 3, 3, 3, 3, 3, 3, 3, 3, 3, 3, 3, 3, 3, 3, 3,\n",
       "       3, 3, 3, 3, 3, 3, 3, 3, 3, 3, 3, 3, 3, 3, 3, 3, 3, 3, 3, 3, 3, 3,\n",
       "       3, 3, 3, 3, 3, 3, 3, 3, 3, 3, 3, 3, 3, 3, 3, 3, 3, 3, 3, 3, 3, 3,\n",
       "       3, 3, 3, 3, 3, 3, 3, 3, 3, 3, 3, 3, 3, 3, 3, 3, 3, 3, 3, 3, 3, 3,\n",
       "       3, 3, 3, 3, 3, 3, 3, 3, 4, 4, 4, 4, 4, 4, 4, 4, 4, 4, 4, 4, 4, 4,\n",
       "       4, 4, 4, 4, 4, 4, 4, 4, 4, 4, 4, 4, 4, 4, 4, 4, 4, 4, 4, 4, 4, 4,\n",
       "       4, 4, 4, 4, 4, 4, 4, 4, 4, 4, 4, 4, 4, 4, 4, 4, 4, 4, 4, 4, 4, 4,\n",
       "       4, 4, 4, 4, 4, 4, 4, 4, 4, 4, 4, 4, 4, 4, 4, 4, 4, 4, 4, 4, 4, 4,\n",
       "       4, 4, 4, 4, 4, 4, 4, 4, 4, 4], dtype=int32)"
      ]
     },
     "execution_count": 4,
     "metadata": {},
     "output_type": "execute_result"
    }
   ],
   "source": [
    "train_generator.classes\n",
    "#train_generator.classes = keras.utils.to_categorical(train_generator.classes, num_classes=5, dtype='int32')"
   ]
  },
  {
   "cell_type": "code",
   "execution_count": null,
   "metadata": {},
   "outputs": [],
   "source": [
    "# model.fit_generator(\n",
    "#     train_generator,\n",
    "#     steps_per_epoch = train_generator.samples // batch_size,\n",
    "#     validation_data = validation_generator, \n",
    "#     validation_steps = validation_generator.samples // batch_size,\n",
    "#     epochs = 10)"
   ]
  },
  {
   "cell_type": "code",
   "execution_count": 5,
   "metadata": {},
   "outputs": [
    {
     "name": "stdout",
     "output_type": "stream",
     "text": [
      "Input features shape (20, 224, 224, 3)\n",
      "Actual labels shape (20, 5)\n"
     ]
    }
   ],
   "source": [
    "X, y = next(train_generator)\n",
    "print('Input features shape', X.shape)\n",
    "print('Actual labels shape', y.shape)"
   ]
  },
  {
   "cell_type": "code",
   "execution_count": 6,
   "metadata": {},
   "outputs": [
    {
     "data": {
      "text/plain": [
       "array([[1., 0., 0., 0., 0.],\n",
       "       [1., 0., 0., 0., 0.],\n",
       "       [1., 0., 0., 0., 0.],\n",
       "       [1., 0., 0., 0., 0.],\n",
       "       [1., 0., 0., 0., 0.],\n",
       "       [1., 0., 0., 0., 0.],\n",
       "       [1., 0., 0., 0., 0.],\n",
       "       [1., 0., 0., 0., 0.],\n",
       "       [1., 0., 0., 0., 0.],\n",
       "       [1., 0., 0., 0., 0.],\n",
       "       [1., 0., 0., 0., 0.],\n",
       "       [1., 0., 0., 0., 0.],\n",
       "       [1., 0., 0., 0., 0.],\n",
       "       [1., 0., 0., 0., 0.],\n",
       "       [1., 0., 0., 0., 0.],\n",
       "       [1., 0., 0., 0., 0.],\n",
       "       [1., 0., 0., 0., 0.],\n",
       "       [1., 0., 0., 0., 0.],\n",
       "       [1., 0., 0., 0., 0.],\n",
       "       [1., 0., 0., 0., 0.]], dtype=float32)"
      ]
     },
     "execution_count": 6,
     "metadata": {},
     "output_type": "execute_result"
    }
   ],
   "source": [
    "y"
   ]
  },
  {
   "cell_type": "code",
   "execution_count": 7,
   "metadata": {},
   "outputs": [],
   "source": [
    "base_model = VGG16(include_top=False, weights='imagenet', input_shape=(224,224,3))"
   ]
  },
  {
   "cell_type": "code",
   "execution_count": 8,
   "metadata": {},
   "outputs": [
    {
     "name": "stdout",
     "output_type": "stream",
     "text": [
      "_________________________________________________________________\n",
      "Layer (type)                 Output Shape              Param #   \n",
      "=================================================================\n",
      "input_1 (InputLayer)         (None, 224, 224, 3)       0         \n",
      "_________________________________________________________________\n",
      "block1_conv1 (Conv2D)        (None, 224, 224, 64)      1792      \n",
      "_________________________________________________________________\n",
      "block1_conv2 (Conv2D)        (None, 224, 224, 64)      36928     \n",
      "_________________________________________________________________\n",
      "block1_pool (MaxPooling2D)   (None, 112, 112, 64)      0         \n",
      "_________________________________________________________________\n",
      "block2_conv1 (Conv2D)        (None, 112, 112, 128)     73856     \n",
      "_________________________________________________________________\n",
      "block2_conv2 (Conv2D)        (None, 112, 112, 128)     147584    \n",
      "_________________________________________________________________\n",
      "block2_pool (MaxPooling2D)   (None, 56, 56, 128)       0         \n",
      "_________________________________________________________________\n",
      "block3_conv1 (Conv2D)        (None, 56, 56, 256)       295168    \n",
      "_________________________________________________________________\n",
      "block3_conv2 (Conv2D)        (None, 56, 56, 256)       590080    \n",
      "_________________________________________________________________\n",
      "block3_conv3 (Conv2D)        (None, 56, 56, 256)       590080    \n",
      "_________________________________________________________________\n",
      "block3_pool (MaxPooling2D)   (None, 28, 28, 256)       0         \n",
      "_________________________________________________________________\n",
      "block4_conv1 (Conv2D)        (None, 28, 28, 512)       1180160   \n",
      "_________________________________________________________________\n",
      "block4_conv2 (Conv2D)        (None, 28, 28, 512)       2359808   \n",
      "_________________________________________________________________\n",
      "block4_conv3 (Conv2D)        (None, 28, 28, 512)       2359808   \n",
      "_________________________________________________________________\n",
      "block4_pool (MaxPooling2D)   (None, 14, 14, 512)       0         \n",
      "_________________________________________________________________\n",
      "block5_conv1 (Conv2D)        (None, 14, 14, 512)       2359808   \n",
      "_________________________________________________________________\n",
      "block5_conv2 (Conv2D)        (None, 14, 14, 512)       2359808   \n",
      "_________________________________________________________________\n",
      "block5_conv3 (Conv2D)        (None, 14, 14, 512)       2359808   \n",
      "_________________________________________________________________\n",
      "block5_pool (MaxPooling2D)   (None, 7, 7, 512)         0         \n",
      "=================================================================\n",
      "Total params: 14,714,688\n",
      "Trainable params: 14,714,688\n",
      "Non-trainable params: 0\n",
      "_________________________________________________________________\n"
     ]
    }
   ],
   "source": [
    "base_model.summary()"
   ]
  },
  {
   "cell_type": "code",
   "execution_count": 9,
   "metadata": {},
   "outputs": [],
   "source": [
    "base_model.trainable = False"
   ]
  },
  {
   "cell_type": "code",
   "execution_count": 15,
   "metadata": {},
   "outputs": [],
   "source": [
    "model = Sequential([\n",
    "    base_model,\n",
    "    Flatten(),\n",
    "    Dense(units=4096,activation=\"relu\"),\n",
    "    Dense(units=4096,activation=\"relu\"),\n",
    "    Dense(units=5, activation=\"softmax\")\n",
    "]) #    GlobalAveragePooling2D(),"
   ]
  },
  {
   "cell_type": "code",
   "execution_count": 16,
   "metadata": {},
   "outputs": [],
   "source": [
    "from keras.optimizers import Adam\n",
    "opt = Adam(lr=0.0001)\n",
    "model.compile(optimizer=opt, loss='categorical_crossentropy', metrics=['accuracy'])  # sparce_categorical_crossentropy throws an error if usewd with OHE.  See tensoeflow documentation."
   ]
  },
  {
   "cell_type": "code",
   "execution_count": 17,
   "metadata": {},
   "outputs": [
    {
     "name": "stdout",
     "output_type": "stream",
     "text": [
      "_________________________________________________________________\n",
      "Layer (type)                 Output Shape              Param #   \n",
      "=================================================================\n",
      "vgg16 (Model)                (None, 7, 7, 512)         14714688  \n",
      "_________________________________________________________________\n",
      "flatten_1 (Flatten)          (None, 25088)             0         \n",
      "_________________________________________________________________\n",
      "dense_4 (Dense)              (None, 4096)              102764544 \n",
      "_________________________________________________________________\n",
      "dense_5 (Dense)              (None, 4096)              16781312  \n",
      "_________________________________________________________________\n",
      "dense_6 (Dense)              (None, 5)                 20485     \n",
      "=================================================================\n",
      "Total params: 134,281,029\n",
      "Trainable params: 119,566,341\n",
      "Non-trainable params: 14,714,688\n",
      "_________________________________________________________________\n"
     ]
    }
   ],
   "source": [
    "model.summary()"
   ]
  },
  {
   "cell_type": "code",
   "execution_count": 18,
   "metadata": {},
   "outputs": [
    {
     "name": "stdout",
     "output_type": "stream",
     "text": [
      "Epoch 1/10\n",
      "22/22 [==============================] - 167s 8s/step - loss: 4.3654 - acc: 0.1404 - val_loss: 1.9352 - val_acc: 0.3100\n",
      "Epoch 2/10\n",
      "22/22 [==============================] - 160s 7s/step - loss: 2.1251 - acc: 0.1502 - val_loss: 1.5545 - val_acc: 0.2222\n",
      "Epoch 3/10\n",
      "22/22 [==============================] - 161s 7s/step - loss: 1.5646 - acc: 0.3129 - val_loss: 1.5482 - val_acc: 0.3111\n",
      "Epoch 4/10\n",
      "22/22 [==============================] - 163s 7s/step - loss: 1.4841 - acc: 0.4517 - val_loss: 1.2150 - val_acc: 0.4222\n",
      "Epoch 5/10\n",
      "22/22 [==============================] - 163s 7s/step - loss: 1.4103 - acc: 0.3250 - val_loss: 1.1358 - val_acc: 0.4778\n",
      "Epoch 6/10\n",
      "22/22 [==============================] - 154s 7s/step - loss: 1.2367 - acc: 0.3714 - val_loss: 1.2636 - val_acc: 0.4444\n",
      "Epoch 7/10\n",
      "22/22 [==============================] - 162s 7s/step - loss: 1.3957 - acc: 0.2864 - val_loss: 1.2674 - val_acc: 0.5000\n",
      "Epoch 8/10\n",
      "22/22 [==============================] - 169s 8s/step - loss: 1.1468 - acc: 0.4648 - val_loss: 1.4495 - val_acc: 0.3444\n",
      "Epoch 9/10\n",
      "22/22 [==============================] - 178s 8s/step - loss: 1.2395 - acc: 0.4085 - val_loss: 1.2321 - val_acc: 0.3222\n",
      "Epoch 10/10\n",
      "22/22 [==============================] - 173s 8s/step - loss: 0.9941 - acc: 0.5541 - val_loss: 1.1098 - val_acc: 0.4111\n"
     ]
    }
   ],
   "source": [
    "epochs = 10\n",
    "steps_per_epoch = train_generator.n // batch_size\n",
    "validation_steps = validation_generator.n // batch_size\n",
    "\n",
    "history = model.fit_generator(train_generator,\n",
    "                              steps_per_epoch = steps_per_epoch,\n",
    "                              epochs=epochs,\n",
    "                              workers=4,\n",
    "                              validation_data=validation_generator,\n",
    "                              validation_steps=validation_steps)"
   ]
  },
  {
   "cell_type": "code",
   "execution_count": 25,
   "metadata": {},
   "outputs": [
    {
     "ename": "TypeError",
     "evalue": "__call__() missing 1 required positional argument: 'inputs'",
     "output_type": "error",
     "traceback": [
      "\u001b[0;31m---------------------------------------------------------------------------\u001b[0m",
      "\u001b[0;31mTypeError\u001b[0m                                 Traceback (most recent call last)",
      "\u001b[0;32m<ipython-input-25-da3535305fde>\u001b[0m in \u001b[0;36m<module>\u001b[0;34m()\u001b[0m\n\u001b[0;32m----> 1\u001b[0;31m \u001b[0mhistory\u001b[0m\u001b[0;34m.\u001b[0m\u001b[0mmodel\u001b[0m\u001b[0;34m(\u001b[0m\u001b[0;34m)\u001b[0m\u001b[0;34m\u001b[0m\u001b[0m\n\u001b[0m",
      "\u001b[0;31mTypeError\u001b[0m: __call__() missing 1 required positional argument: 'inputs'"
     ]
    }
   ],
   "source": []
  },
  {
   "cell_type": "markdown",
   "metadata": {},
   "source": [
    "# Cleanup"
   ]
  },
  {
   "cell_type": "code",
   "execution_count": null,
   "metadata": {},
   "outputs": [],
   "source": [
    "close_database(con)"
   ]
  },
  {
   "cell_type": "markdown",
   "metadata": {},
   "source": [
    "# Confusion Matrix"
   ]
  },
  {
   "cell_type": "code",
   "execution_count": null,
   "metadata": {},
   "outputs": [],
   "source": [
    "cm = confusion_matrix(y_test, y_pred_class)\n",
    "\n",
    "tn = cm_2[0,0]\n",
    "fn = cm_2[0,1]\n",
    "fp = cm_2[1,0]\n",
    "tp = cm_2[1,1]\n",
    "\n",
    "accurracy = (tp + tn)/(tn+tp+fn+fp)\n",
    "\n",
    "precision = tp / (tp+fp)\n",
    "\n",
    "recall = tp / (tp + fn)\n",
    "f1_score = 2*precision*recall/(precision+recall)\n",
    "print('My model metrics were: Accurracy: {}, Precision: {}, Recall: {}, and F1: {}'.format(accurracy,precision,recall,f1_score))\n",
    "\n",
    "\n",
    "plt.matshow(cm)\n",
    "\n",
    "plt.colorbar()\n",
    "plt.xlabel('Predicted')\n",
    "plt.ylabel('Actual')\n",
    "plt.show();\n",
    "\n"
   ]
  },
  {
   "cell_type": "markdown",
   "metadata": {},
   "source": [
    "# MVP"
   ]
  },
  {
   "cell_type": "code",
   "execution_count": null,
   "metadata": {},
   "outputs": [],
   "source": []
  },
  {
   "cell_type": "markdown",
   "metadata": {},
   "source": [
    "# Add webcam support"
   ]
  },
  {
   "cell_type": "code",
   "execution_count": null,
   "metadata": {},
   "outputs": [],
   "source": [
    "cap = cv2.VideoCapture(0)"
   ]
  },
  {
   "cell_type": "code",
   "execution_count": null,
   "metadata": {},
   "outputs": [],
   "source": [
    "while True:\n",
    "    ret, img = cap.read()\n",
    "    '''\n",
    "    lots of code here\n",
    "    \n",
    "    '''\n",
    "    cv2.imshow('img', img)\n",
    "    #Display camera feed until ESC key is pressed\n",
    "    k = cv2.waitKey(30) & 0xff\n",
    "    if k == 27:\n",
    "        break\n",
    "cap.release()\n",
    "cv2.destroyAllWindows()"
   ]
  }
 ],
 "metadata": {
  "kernelspec": {
   "display_name": "Python 3",
   "language": "python",
   "name": "python3"
  },
  "language_info": {
   "codemirror_mode": {
    "name": "ipython",
    "version": 3
   },
   "file_extension": ".py",
   "mimetype": "text/x-python",
   "name": "python",
   "nbconvert_exporter": "python",
   "pygments_lexer": "ipython3",
   "version": "3.5.6"
  }
 },
 "nbformat": 4,
 "nbformat_minor": 4
}
